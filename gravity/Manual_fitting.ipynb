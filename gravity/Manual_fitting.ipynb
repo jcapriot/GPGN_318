{
 "cells": [
  {
   "cell_type": "code",
   "execution_count": 1,
   "id": "bb6278e2-980c-406d-8ef2-04051d944450",
   "metadata": {
    "tags": []
   },
   "outputs": [],
   "source": [
    "import numpy as np\n",
    "from grav_interact import GravInteract\n",
    "import pandas as pd\n",
    "\n",
    "%matplotlib widget"
   ]
  },
  {
   "cell_type": "code",
   "execution_count": 5,
   "id": "dfc700fe-7ea5-4db8-a346-fb8c9e665ba5",
   "metadata": {
    "tags": []
   },
   "outputs": [],
   "source": [
    "data_frame = pd.read_csv('data/obs2.grv')\n",
    "\n",
    "# make sure to negate height to convert it to depth\n",
    "obs = np.c_[data_frame['Profile (m)'], -data_frame['height (m)']]\n",
    "data = data_frame['G_D (mGal)']\n",
    "std = data_frame['STD (mGal)']"
   ]
  },
  {
   "cell_type": "code",
   "execution_count": 6,
   "id": "a5c53394-75bd-4219-bdc0-f541acbe8407",
   "metadata": {},
   "outputs": [
    {
     "data": {
      "application/vnd.jupyter.widget-view+json": {
       "model_id": "3d63e414f2e249debe06ed35b177fe61",
       "version_major": 2,
       "version_minor": 0
      },
      "text/plain": [
       "VBox(children=(Canvas(layout=Layout(width='100%'), toolbar=Toolbar(toolitems=[('Home', 'Reset original view', …"
      ]
     },
     "metadata": {},
     "output_type": "display_data"
    }
   ],
   "source": [
    "grav_modeler = GravInteract(obs, data, std=std)\n",
    "grav_modeler.display()"
   ]
  },
  {
   "cell_type": "code",
   "execution_count": 4,
   "id": "a6c6db81-dfa3-4cad-877d-3d6123a2e9fa",
   "metadata": {},
   "outputs": [
    {
     "data": {
      "text/plain": [
       "[array([[-485.,  270.],\n",
       "        [ 250.,  350.],\n",
       "        [   0.,  630.],\n",
       "        [-420.,  790.]])]"
      ]
     },
     "execution_count": 4,
     "metadata": {},
     "output_type": "execute_result"
    }
   ],
   "source": [
    "grav_modeler.get_polygons()"
   ]
  },
  {
   "cell_type": "code",
   "execution_count": null,
   "id": "ad41072b-27c1-47da-8663-d2b94b9f6d51",
   "metadata": {},
   "outputs": [],
   "source": []
  }
 ],
 "metadata": {
  "kernelspec": {
   "display_name": "Python 3 (ipykernel)",
   "language": "python",
   "name": "python3"
  },
  "language_info": {
   "codemirror_mode": {
    "name": "ipython",
    "version": 3
   },
   "file_extension": ".py",
   "mimetype": "text/x-python",
   "name": "python",
   "nbconvert_exporter": "python",
   "pygments_lexer": "ipython3",
   "version": "3.11.9"
  }
 },
 "nbformat": 4,
 "nbformat_minor": 5
}
