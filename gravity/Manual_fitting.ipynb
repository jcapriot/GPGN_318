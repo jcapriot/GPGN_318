{
 "cells": [
  {
   "cell_type": "code",
   "execution_count": 1,
   "id": "bb6278e2-980c-406d-8ef2-04051d944450",
   "metadata": {
    "tags": []
   },
   "outputs": [],
   "source": [
    "import numpy as np\n",
    "from grav_interact import GravInteract\n",
    "import pandas as pd\n",
    "\n",
    "%matplotlib widget"
   ]
  },
  {
   "cell_type": "code",
   "execution_count": 2,
   "id": "14301e6f-1d5c-4462-a776-a067c9568f74",
   "metadata": {
    "tags": []
   },
   "outputs": [],
   "source": [
    "x = np.linspace(-20, 20, 21)\n",
    "z = np.zeros_like(x)\n",
    "obs = np.c_[x, z]\n",
    "data = np.random.rand(obs.shape[0])"
   ]
  },
  {
   "cell_type": "code",
   "execution_count": 5,
   "id": "33323955-1f0a-41e9-8ac8-3fe9faeb703c",
   "metadata": {
    "tags": []
   },
   "outputs": [],
   "source": [
    "# data_frame = pd.read_csv('data/tunnel.csv')\n",
    "\n",
    "# obs = np.c_[data_frame['Profile (m)'], data_frame['Elevation (m)']]\n",
    "# data = np.asarray(data_frame['G_D (mGal)'])\n",
    "# obs[:, 1] -= np.mean(obs[0, 1])\n",
    "# obs[:, 1] *= -1"
   ]
  },
  {
   "cell_type": "code",
   "execution_count": 6,
   "id": "a5c53394-75bd-4219-bdc0-f541acbe8407",
   "metadata": {},
   "outputs": [
    {
     "data": {
      "application/vnd.jupyter.widget-view+json": {
       "model_id": "5d23559d50cc4827b4002a0db4da36a3",
       "version_major": 2,
       "version_minor": 0
      },
      "text/plain": [
       "VBox(children=(Canvas(layout=Layout(width='100%'), toolbar=Toolbar(toolitems=[('Home', 'Reset original view', …"
      ]
     },
     "metadata": {},
     "output_type": "display_data"
    }
   ],
   "source": [
    "grav_modeler = GravInteract(obs, data, std=0.025*np.ones_like(data))\n",
    "grav_modeler.display()"
   ]
  },
  {
   "cell_type": "code",
   "execution_count": 10,
   "id": "458bfb19-ec61-4900-aee4-fb09539cd993",
   "metadata": {
    "tags": []
   },
   "outputs": [
    {
     "data": {
      "text/plain": [
       "0.6464963544327156"
      ]
     },
     "execution_count": 10,
     "metadata": {},
     "output_type": "execute_result"
    }
   ],
   "source": []
  },
  {
   "cell_type": "code",
   "execution_count": null,
   "id": "a6c6db81-dfa3-4cad-877d-3d6123a2e9fa",
   "metadata": {},
   "outputs": [],
   "source": []
  }
 ],
 "metadata": {
  "kernelspec": {
   "display_name": "Python 3 (ipykernel)",
   "language": "python",
   "name": "python3"
  },
  "language_info": {
   "codemirror_mode": {
    "name": "ipython",
    "version": 3
   },
   "file_extension": ".py",
   "mimetype": "text/x-python",
   "name": "python",
   "nbconvert_exporter": "python",
   "pygments_lexer": "ipython3",
   "version": "3.8.12"
  }
 },
 "nbformat": 4,
 "nbformat_minor": 5
}
