{
 "cells": [
  {
   "cell_type": "code",
   "execution_count": 14,
   "id": "bb6278e2-980c-406d-8ef2-04051d944450",
   "metadata": {
    "tags": []
   },
   "outputs": [],
   "source": [
    "import numpy as np\n",
    "from grav_interact import GravInteract\n",
    "import pandas as pd\n",
    "\n",
    "%matplotlib widget"
   ]
  },
  {
   "cell_type": "code",
   "execution_count": 16,
   "id": "dfc700fe-7ea5-4db8-a346-fb8c9e665ba5",
   "metadata": {
    "tags": []
   },
   "outputs": [],
   "source": [
    "data_frame = pd.read_csv('data/obs1.grv')\n",
    "\n",
    "# make sure to negate height to convert it to depth\n",
    "obs = np.c_[data_frame['Profile (m)'], -data_frame['height (m)']]\n",
    "data = data_frame['G_D (mGal)']\n",
    "std = data_frame['STD (mGal)']"
   ]
  },
  {
   "cell_type": "code",
   "execution_count": 17,
   "id": "a5c53394-75bd-4219-bdc0-f541acbe8407",
   "metadata": {},
   "outputs": [
    {
     "data": {
      "application/vnd.jupyter.widget-view+json": {
       "model_id": "cf79a4954db6439a96b1f44f7854bf09",
       "version_major": 2,
       "version_minor": 0
      },
      "text/plain": [
       "VBox(children=(Canvas(layout=Layout(width='100%'), toolbar=Toolbar(toolitems=[('Home', 'Reset original view', …"
      ]
     },
     "metadata": {},
     "output_type": "display_data"
    }
   ],
   "source": [
    "grav_modeler = GravInteract(obs, data, std=std)\n",
    "grav_modeler.display()"
   ]
  },
  {
   "cell_type": "code",
   "execution_count": 5,
   "id": "a6c6db81-dfa3-4cad-877d-3d6123a2e9fa",
   "metadata": {},
   "outputs": [
    {
     "data": {
      "text/plain": [
       "[array([[ 0.66916096,  0.31757464],\n",
       "        [-0.710204  ,  0.37757464],\n",
       "        [-0.6902132 ,  2.2975748 ],\n",
       "        [ 0.68915176,  2.3975748 ]]),\n",
       " array([[-1.18998312,  2.52110448],\n",
       "        [-2.8492192 ,  2.52110448],\n",
       "        [-2.82922848,  4.68110464],\n",
       "        [-1.22996472,  4.48110464]])]"
      ]
     },
     "execution_count": 5,
     "metadata": {},
     "output_type": "execute_result"
    }
   ],
   "source": [
    "grav_modeler.get_polygons()"
   ]
  },
  {
   "cell_type": "code",
   "execution_count": null,
   "id": "ad41072b-27c1-47da-8663-d2b94b9f6d51",
   "metadata": {},
   "outputs": [],
   "source": []
  }
 ],
 "metadata": {
  "kernelspec": {
   "display_name": "Python 3 (ipykernel)",
   "language": "python",
   "name": "python3"
  },
  "language_info": {
   "codemirror_mode": {
    "name": "ipython",
    "version": 3
   },
   "file_extension": ".py",
   "mimetype": "text/x-python",
   "name": "python",
   "nbconvert_exporter": "python",
   "pygments_lexer": "ipython3",
   "version": "3.8.12"
  }
 },
 "nbformat": 4,
 "nbformat_minor": 5
}
