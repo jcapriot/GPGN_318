{
 "cells": [
  {
   "cell_type": "code",
   "execution_count": 24,
   "metadata": {
    "collapsed": true
   },
   "outputs": [
    {
     "name": "stdout",
     "output_type": "stream",
     "text": [
      "gravity constant: 6.6743e-11\n"
     ]
    }
   ],
   "source": [
    "import numpy as np\n",
    "from scipy.constants import G, pound, inch\n",
    "print(f\"gravity constant: {G}\")"
   ]
  },
  {
   "cell_type": "markdown",
   "source": [
    "First a bit of dimensional analysis:\n",
    "\n",
    "# Units of $\\gamma$?\n",
    "\n",
    "Newton's law of gravitation.\n",
    "\\begin{equation}\n",
    "\\vec{g} = -\\gamma\\frac{m}{r^2}\\hat{r}\n",
    "\\end{equation}\n",
    "\n",
    "\\begin{align}\n",
    "\\frac{[m]}{[s^2]} &= [?] \\frac{[kg]}{[m^2]}\\\\\n",
    "\\gamma &= \\frac{[m^3]}{[kg s^2]}\n",
    "\\end{align}"
   ],
   "metadata": {
    "collapsed": false
   }
  },
  {
   "cell_type": "markdown",
   "source": [
    "# What is g for earth?\n",
    "\n",
    "\\begin{align}\n",
    "m \\approx 5.9722\\times10^{24} kg\\\\\n",
    "r \\approx 6371 km\n",
    "\\end{align}"
   ],
   "metadata": {
    "collapsed": false
   }
  },
  {
   "cell_type": "code",
   "execution_count": 29,
   "outputs": [],
   "source": [
    "def newtons_gravity_accel(m, r):\n",
    "    return G * m / r**2"
   ],
   "metadata": {
    "collapsed": false
   }
  },
  {
   "cell_type": "code",
   "execution_count": 47,
   "outputs": [
    {
     "name": "stdout",
     "output_type": "stream",
     "text": [
      "acceleration due to earth at its surface: 9.820302293385645 m/s^2\n"
     ]
    }
   ],
   "source": [
    "m_earth = 5.9722E24\n",
    "r_earth = 6371E3\n",
    "\n",
    "g_earth = newtons_gravity_accel(m_earth, r_earth)\n",
    "print(f\"acceleration due to earth at its surface: {g_earth} m/s^2\")"
   ],
   "metadata": {
    "collapsed": false
   }
  },
  {
   "cell_type": "markdown",
   "source": [
    "# Apple? on it's surface?\n",
    "\n",
    "\\begin{align}\n",
    "m = 0.5 lb\\\\\n",
    "r = 1.5 in\n",
    "\\end{align}"
   ],
   "metadata": {
    "collapsed": false
   }
  },
  {
   "cell_type": "code",
   "execution_count": 44,
   "outputs": [
    {
     "name": "stdout",
     "output_type": "stream",
     "text": [
      "acceleration due to apple at its surface: 1.0427771767523648e-08 m/s^2\n"
     ]
    }
   ],
   "source": [
    "m_apple = 0.5 * pound\n",
    "r_apple = 1.5 * inch\n",
    "\n",
    "g_apple = newtons_gravity_accel(m_apple, r_apple)\n",
    "print(f\"acceleration due to apple at its surface: {g_apple} m/s^2\")"
   ],
   "metadata": {
    "collapsed": false
   }
  },
  {
   "cell_type": "markdown",
   "source": [
    "# More units\n",
    "$1 Gal = 0.01 m/s^2$\n"
   ],
   "metadata": {
    "collapsed": false
   }
  },
  {
   "cell_type": "code",
   "execution_count": 45,
   "outputs": [
    {
     "name": "stdout",
     "output_type": "stream",
     "text": [
      "acceleration due to apple at its surface: 1.0427771767523648 µGal\n"
     ]
    }
   ],
   "source": [
    "Gal = 0.01 #m/s^2\n",
    "print(f\"acceleration due to apple at its surface: {g_apple/Gal * 1E6} µGal\")"
   ],
   "metadata": {
    "collapsed": false
   }
  },
  {
   "cell_type": "markdown",
   "source": [
    "# Free air\n",
    "\n",
    "Notice how different the earth's gravity field changes as a function of radius?\n",
    "how much does it change per meter at the surface?"
   ],
   "metadata": {
    "collapsed": false
   }
  },
  {
   "cell_type": "code",
   "execution_count": 54,
   "outputs": [
    {
     "data": {
      "text/plain": "-0.3082813465197189"
     },
     "execution_count": 54,
     "metadata": {},
     "output_type": "execute_result"
    }
   ],
   "source": [
    "del_g = -2 * G * m_earth / r_earth**3\n",
    "del_g / Gal * 1000"
   ],
   "metadata": {
    "collapsed": false
   }
  },
  {
   "cell_type": "markdown",
   "source": [
    "This amount is referred to in geophysics as the free air gradient, we use it to account for the difference in elevation between stations!\n",
    "\n",
    "at $45\\degree$ latitude, this value is 0.3086 mGal/m"
   ],
   "metadata": {
    "collapsed": false
   }
  },
  {
   "cell_type": "code",
   "execution_count": null,
   "outputs": [],
   "source": [],
   "metadata": {
    "collapsed": false
   }
  }
 ],
 "metadata": {
  "kernelspec": {
   "display_name": "Python 3",
   "language": "python",
   "name": "python3"
  },
  "language_info": {
   "codemirror_mode": {
    "name": "ipython",
    "version": 2
   },
   "file_extension": ".py",
   "mimetype": "text/x-python",
   "name": "python",
   "nbconvert_exporter": "python",
   "pygments_lexer": "ipython2",
   "version": "2.7.6"
  }
 },
 "nbformat": 4,
 "nbformat_minor": 0
}
