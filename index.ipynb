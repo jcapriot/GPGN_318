{
 "cells": [
  {
   "cell_type": "markdown",
   "metadata": {},
   "source": [
    "# GPGN 318 - Applied Geophysics\n",
    "\n",
    "These notebooks are utilities that are to be used in the Colorado School of Mines,\n",
    "GPGN 318 - Applied geophysics 1 course. There are several pages of notes and demonstrations for\n",
    "different methods, as well as a few necessary notebooks for lab exercises."
   ]
  },
  {
   "cell_type": "markdown",
   "metadata": {},
   "source": [
    "# Contents\n",
    "\n",
    "## Surveying\n",
    "* [Free_Stationing.ipynb](Surveying/Free_Stationing.ipynb) - Descriptions on how Free stationing works.\n",
    "\n",
    "## Gravity\n",
    "* [simple_gravity.ipynb](gravity/simple_gravity.ipynb) - An app to play with calculating the gravitational acceleration of different objects.\n",
    "* [Survey_Design.ipynb](gravity/Survey_Design.ipynb) - A simple app to play with survey design for gravity.\n",
    "* [grav_forward.ipynb](gravity/grav_forward.ipynb) - A notebook for 2D gravity modeling of polygonal prisms.\n",
    "* [Manual_fitting.ipynb](gravity/Manual_fitting.ipynb) - A notebook for manually fitting 2D gravity data using polygonal prisms.\n",
    "\n",
    "## Resistivity\n",
    "* [DC_sounding_inversion.ipynb](Resitivity/DC_sounding_inversion.ipynb) - A notebook for interpretting DC sounding data.\n",
    "* [DC_2D_Inversion.ipynb](Resitivity/DC_2D_Inversion.ipynb) - A notebook for inverting 2D resistivity data\n",
    "\n",
    "## Magnetics\n",
    "* [mag_forward_2D.ipynb](magnetics/mag_forward_2D.ipynb) - A notebook for 2D magnetic modeling of polygonal prisms.\n",
    "* [mag_prism_interact.ipynb](magnetics/mag_prism_interact.ipynb) - A notebook for inverting 2D resistivity data\n",
    "* [Mag_3D_inversion.ipynb](magnetics/Mag_3D_inversion.ipynb) - A notebook for inverting 2D resistivity data\n",
    "\n",
    "* Mag_3D_inversion.ipynb"
   ]
  },
  {
   "cell_type": "code",
   "execution_count": null,
   "metadata": {
    "collapsed": false,
    "jupyter": {
     "outputs_hidden": false
    }
   },
   "outputs": [],
   "source": []
  }
 ],
 "metadata": {
  "kernelspec": {
   "display_name": "Python 3 (ipykernel)",
   "language": "python",
   "name": "python3"
  },
  "language_info": {
   "codemirror_mode": {
    "name": "ipython",
    "version": 3
   },
   "file_extension": ".py",
   "mimetype": "text/x-python",
   "name": "python",
   "nbconvert_exporter": "python",
   "pygments_lexer": "ipython3",
   "version": "3.10.13"
  }
 },
 "nbformat": 4,
 "nbformat_minor": 4
}
