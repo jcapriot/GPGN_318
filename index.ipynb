{
 "cells": [
  {
   "cell_type": "markdown",
   "metadata": {
    "editable": true,
    "slideshow": {
     "slide_type": ""
    },
    "tags": []
   },
   "source": [
    "# GPGN 318 - Applied Geophysics\n",
    "\n",
    "These notebooks are utilities that are to be used in the Colorado School of Mines,\n",
    "GPGN 318 - Applied geophysics 1 course. There are several pages of notes and demonstrations for\n",
    "different methods, as well as a few necessary notebooks for lab exercises."
   ]
  },
  {
   "cell_type": "markdown",
   "metadata": {
    "editable": true,
    "slideshow": {
     "slide_type": ""
    },
    "tags": []
   },
   "source": [
    "# Contents\n",
    "## Lecture\n",
    "* [Introduction](Lectures/01-Introduction.ipynb)\n",
    "\n",
    "### Fundamentals\n",
    "* [Fundamentals 1](Lectures/Fundamentals/02-GPS.ipynb): Surveying\n",
    "* Fundamentals 2: Plotting\n",
    "* Fundamentals 3: Statistics\n",
    "\n",
    "### Gravity\n",
    "### Resistivity\n",
    "### Magnetics\n",
    "\n",
    "\n",
    "## Labs\n",
    "\n",
    "\n",
    "### Fundamentals\n",
    "* [Lab 1](Labs/fundamentals/01-GPS-Adventure.ipynb): GPS Adventure\n",
    "* [Lab 2](Labs/fundamentals/02-Surveying.ipynb): Surveying\n",
    "* Lab 3: Repeatability\n",
    "\n",
    "### Gravity\n",
    "* Lab 4: Measuring the earth\n",
    "* Lab 5: Modeling Gravity\n",
    "* Lab 6: Gravity Surveying\n",
    "* Lab 7: Gravity Interpretation\n",
    "\n",
    "### Resistivity\n",
    "* Lab 8: 1D Sounding Data Collection\n",
    "* Lab 9: 1D Interpretation\n",
    "* Lab 10: 2D Data Collection\n",
    "* Lab 11: 2D Processing\n",
    "\n",
    "### Magnetics\n",
    "* Lab 12: The Magnetic anomaly\n",
    "* Lab 13: Collecting Magnetic data\n",
    "* Lab 14: 3D Magnetics Inversion\n",
    "\n",
    "# Notebooks\n",
    "To be organized...\n",
    "## Gravity\n",
    "* [simple_gravity.ipynb](Labs/gravity/simple_gravity.ipynb) - An app to play with calculating the gravitational acceleration of different objects.\n",
    "* [Survey_Design.ipynb](Labs/gravity/Survey_Design.ipynb) - A simple app to play with survey design for gravity.\n",
    "* [grav_forward.ipynb](Labs/gravity/grav_forward.ipynb) - A notebook for 2D gravity modeling of polygonal prisms.\n",
    "* [Manual_fitting.ipynb](Labs/gravity/Manual_fitting.ipynb) - A notebook for manually fitting 2D gravity data using polygonal prisms.\n",
    "\n",
    "## Resistivity\n",
    "* [DC_sounding_inversion.ipynb](Labs/Resitivity/DC_sounding_inversion.ipynb) - A notebook for interpretting DC sounding data.\n",
    "* [DC_2D_Inversion.ipynb](Labs/Resitivity/DC_2D_Inversion.ipynb) - A notebook for inverting 2D resistivity data\n",
    "\n",
    "## Magnetics\n",
    "* [mag_forward_2D.ipynb](Labs/magnetics/mag_forward_2D.ipynb) - A notebook for 2D magnetic modeling of polygonal prisms.\n",
    "* [mag_prism_interact.ipynb](Labs/magnetics/mag_prism_interact.ipynb) - A notebook for inverting 2D resistivity data\n",
    "* [Mag_3D_inversion.ipynb](Labs/magnetics/Mag_3D_inversion.ipynb) - A notebook for inverting 2D resistivity data"
   ]
  },
  {
   "cell_type": "code",
   "execution_count": null,
   "metadata": {
    "collapsed": false,
    "editable": true,
    "jupyter": {
     "outputs_hidden": false
    },
    "slideshow": {
     "slide_type": ""
    },
    "tags": []
   },
   "outputs": [],
   "source": []
  }
 ],
 "metadata": {
  "kernelspec": {
   "display_name": "Python 3 (ipykernel)",
   "language": "python",
   "name": "python3"
  },
  "language_info": {
   "codemirror_mode": {
    "name": "ipython",
    "version": 3
   },
   "file_extension": ".py",
   "mimetype": "text/x-python",
   "name": "python",
   "nbconvert_exporter": "python",
   "pygments_lexer": "ipython3",
   "version": "3.12.11"
  }
 },
 "nbformat": 4,
 "nbformat_minor": 4
}
