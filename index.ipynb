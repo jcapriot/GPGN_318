{
 "cells": [
  {
   "cell_type": "markdown",
   "metadata": {
    "editable": true,
    "slideshow": {
     "slide_type": ""
    },
    "tags": []
   },
   "source": [
    "# GPGN 318 - Applied Geophysics\n",
    "\n",
    "These notebooks are utilities that are to be used in the Colorado School of Mines,\n",
    "GPGN 318 - Applied geophysics 1 course. There are several pages of notes and demonstrations for\n",
    "different methods, as well as a few necessary notebooks for lab exercises."
   ]
  },
  {
   "cell_type": "markdown",
   "metadata": {
    "editable": true,
    "slideshow": {
     "slide_type": ""
    },
    "tags": []
   },
   "source": [
    "# Contents\n",
    "## Lecture\n",
    "* [Introduction](Lectures/01-Introduction.ipynb)\n",
    "\n",
    "### Fundamentals\n",
    "* [Fundamentals 1](Lectures/Fundamentals/02-GPS.ipynb): Surveying\n",
    "* [Fundamentals 2](Lectures/Fundamentals/03-Data.ipynb): Data presentation and statistics\n",
    "* [Fundamentals 3](Lectures/Fundamentals/04-Survey-Design.ipynb): Noise and Survey Design\n",
    "\n",
    "### Gravity\n",
    "* [Gravity 1](Lectures/Gravity/05-Gravity-Intro.ipynb): Basics and instrumentation\n",
    "* [Gravity 2](Lectures/Gravity/06-Gravity-Survey.ipynb): Some More gravity\n",
    "* [Gravity 3](Lectures/Gravity/07-Gravity-procs.ipynb): More Grav\n",
    "* [Gravity 4](Lectures/Gravity/08-Gravity.ipynb): Looping and corrections\n",
    "* [Gravity 5](Lectrues/Gravity/09-Gravity-Corrections.ipynb): More corrections, with examples.\n",
    "* [Gravity 6](Lectures/Gravity/10-Gravity-Interpretation.ipynb): Interpreting gravity data.\n",
    "* [Gravity 7](Lectures/Gravity/11-MoreGravity.ipynb): More gravity based methods.\n",
    "\n",
    "  \n",
    "### Resistivity\n",
    "* [Electrical 1](Lectures/Electrical/12-DC-Fundumentals.ipynb): Introduction\n",
    "* [Electrical 2](Lectures/Electrical/13-DC-Experiment.ipynb): Fundamental Solution and Instrumentation.\n",
    "* [Electical 3](Lectures/Electrical/14-DC-SurveyDesign.ipynb): Conductivitiy and it's influence on the data we collect.\n",
    "* [Electrical 4](Lectures/Electrical/15-DCSurveying.ipynb): Designing surveys\n",
    "* [Electrical 5](Lectures/Electrical/16-DCInterpretation.ipynb): Interpretting data\n",
    "\n",
    "### Magnetics\n",
    "\n",
    "\n",
    "## Labs\n",
    "\n",
    "\n",
    "### Fundamentals\n",
    "* [Lab 1](Labs/fundamentals/01-GPS-Adventure.ipynb): GPS Adventure\n",
    "* [Lab 2](Labs/fundamentals/02-Surveying.ipynb): Surveying\n",
    "* [Lab 3](Labs/fundamentals/03-Repeatibility.ipynb): Repeatability\n",
    "\n",
    "### Gravity\n",
    "* [Lab 4](Labs/gravity/04-Earth-Radius.ipynb): Measuring the radius of the Earth\n",
    "* [Lab 5](Labs/gravity/05-Gravity-Modeling.ipynb): Modeling Gravity\n",
    "* [Lab 6](Labs/gravity/06-Gravity-Tunnel.ipynb): Gravity Surveying\n",
    "* [Lab 7](Labs/gravity/07-Gravity-Interpretation.ipynb): Gravity Interpretation\n",
    "\n",
    "### Resistivity\n",
    "* [Lab 8](Labs/resitivity/08-Sounding-Profiling.ipynb): 1D Sounding Data Collection\n",
    "* [Lab 9](Labs/resitivity/09-Sounding-Interp.ipynb): 1D Interpretation\n",
    "* [Lab 10](Labs/resitivity/10-DC-2D.ipynb): 2D Data Collection\n",
    "* Lab 11: 2D Processing\n",
    "\n",
    "### Magnetics\n",
    "* Lab 12: The Magnetic anomaly\n",
    "* Lab 13: Collecting Magnetic data\n",
    "* Lab 14: 3D Magnetics Inversion\n",
    "\n",
    "# Notebooks\n",
    "To be organized...\n",
    "## Gravity\n",
    "* [Survey_Design.ipynb](Labs/gravity/Survey_Design.ipynb) - A simple app to play with survey design for gravity.polygonal prisms.\n",
    "\n",
    "## Resistivity\n",
    "* [DC_sounding_inversion.ipynb](Labs/Resitivity/DC_sounding_inversion.ipynb) - A notebook for interpretting DC sounding data.\n",
    "* [DC_2D_Inversion.ipynb](Labs/Resitivity/DC_2D_Inversion.ipynb) - A notebook for inverting 2D resistivity data\n",
    "\n",
    "## Magnetics\n",
    "* [mag_forward_2D.ipynb](Labs/magnetics/mag_forward_2D.ipynb) - A notebook for 2D magnetic modeling of polygonal prisms.\n",
    "* [mag_prism_interact.ipynb](Labs/magnetics/mag_prism_interact.ipynb) - A notebook for inverting 2D resistivity data\n",
    "* [Mag_3D_inversion.ipynb](Labs/magnetics/Mag_3D_inversion.ipynb) - A notebook for inverting 2D resistivity data"
   ]
  },
  {
   "cell_type": "code",
   "execution_count": null,
   "metadata": {
    "collapsed": false,
    "editable": true,
    "jupyter": {
     "outputs_hidden": false
    },
    "slideshow": {
     "slide_type": ""
    },
    "tags": []
   },
   "outputs": [],
   "source": []
  }
 ],
 "metadata": {
  "kernelspec": {
   "display_name": "Python 3 (ipykernel)",
   "language": "python",
   "name": "python3"
  },
  "language_info": {
   "codemirror_mode": {
    "name": "ipython",
    "version": 3
   },
   "file_extension": ".py",
   "mimetype": "text/x-python",
   "name": "python",
   "nbconvert_exporter": "python",
   "pygments_lexer": "ipython3",
   "version": "3.12.11"
  }
 },
 "nbformat": 4,
 "nbformat_minor": 4
}
