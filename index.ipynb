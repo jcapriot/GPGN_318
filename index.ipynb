{
 "cells": [
  {
   "cell_type": "markdown",
   "source": [
    "# GPGN 318 - Applied Geophysics\n",
    "\n",
    "These notebooks are utilities that are to be used in the Colorado School of Mines,\n",
    "GPGN 318 - Applied geophysics 1 course. There are several pages of notes and demonstrations for\n",
    "different methods, as well as a few necessary notebooks for lab exercises."
   ],
   "metadata": {
    "collapsed": false
   }
  },
  {
   "cell_type": "markdown",
   "source": [
    "# Contents\n",
    "\n",
    "## Surveying\n",
    "* [Free_Stationing.ipynb](Surveying/Free_Stationing.ipynb) - Descriptions on how Free stationing works.\n",
    "\n",
    "## Gravity\n",
    "* [simple_gravity.ipynb](gravity/simple_gravity.ipynb) - An app to play with calculating the gravitational acceleration of different objects.\n",
    "* [Survey_Design.ipynb](gravity/Survey_Design.ipynb) - A simple app to play with survey design for gravity.\n",
    "* [grav_forward.ipynb](gravity/grav_forward.ipynb) - A notebook for 2D gravity modeling of polygonal prisms."
   ],
   "metadata": {
    "collapsed": false
   }
  },
  {
   "cell_type": "code",
   "execution_count": null,
   "outputs": [],
   "source": [],
   "metadata": {
    "collapsed": false
   }
  }
 ],
 "metadata": {
  "kernelspec": {
   "display_name": "Python 3",
   "language": "python",
   "name": "python3"
  },
  "language_info": {
   "codemirror_mode": {
    "name": "ipython",
    "version": 2
   },
   "file_extension": ".py",
   "mimetype": "text/x-python",
   "name": "python",
   "nbconvert_exporter": "python",
   "pygments_lexer": "ipython2",
   "version": "2.7.6"
  }
 },
 "nbformat": 4,
 "nbformat_minor": 0
}
