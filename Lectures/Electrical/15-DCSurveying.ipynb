{
 "cells": [
  {
   "cell_type": "code",
   "execution_count": 1,
   "id": "ed84db13-c9c3-4d62-8e55-9570b5dea238",
   "metadata": {},
   "outputs": [
    {
     "data": {
      "text/html": [
       "\n",
       "<link rel=\"stylesheet\" href=\"custom.css\"/> \n"
      ],
      "text/plain": [
       "<IPython.core.display.HTML object>"
      ]
     },
     "metadata": {},
     "output_type": "display_data"
    }
   ],
   "source": [
    "%%HTML\n",
    "\n",
    "<link rel=\"stylesheet\" href=\"custom.css\"/> "
   ]
  },
  {
   "cell_type": "markdown",
   "id": "e58b1f96-e2d9-4e98-a79f-9560ff431652",
   "metadata": {},
   "source": [
    "# Resistivity (part 3)"
   ]
  },
  {
   "cell_type": "code",
   "execution_count": null,
   "id": "4b8f8d81-65f0-4787-a0b2-7d9c173749ff",
   "metadata": {},
   "outputs": [],
   "source": []
  }
 ],
 "metadata": {
  "kernelspec": {
   "display_name": "Python 3 (ipykernel)",
   "language": "python",
   "name": "python3"
  },
  "language_info": {
   "codemirror_mode": {
    "name": "ipython",
    "version": 3
   },
   "file_extension": ".py",
   "mimetype": "text/x-python",
   "name": "python",
   "nbconvert_exporter": "python",
   "pygments_lexer": "ipython3",
   "version": "3.12.11"
  }
 },
 "nbformat": 4,
 "nbformat_minor": 5
}
