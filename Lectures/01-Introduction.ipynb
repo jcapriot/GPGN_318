{
 "cells": [
  {
   "cell_type": "markdown",
   "id": "7180372e-d92c-40a0-9ecc-799e29b80fee",
   "metadata": {
    "editable": true,
    "slideshow": {
     "slide_type": "slide"
    },
    "tags": []
   },
   "source": [
    "# Welcome to Applied Geophysics I GPGN 318\n",
    "Hopefully we're all in the right place"
   ]
  },
  {
   "cell_type": "code",
   "execution_count": 1,
   "id": "d186f3be-32d6-453a-ad1b-9d1d77eb36b6",
   "metadata": {
    "@deathbeds/jupyterlab-fonts": {
     "styles": {
      "": {
       "body[data-jp-deck-mode='presenting'] &": {
        "zoom": "90%"
       }
      }
     }
    },
    "editable": true,
    "slideshow": {
     "slide_type": "skip"
    },
    "tags": []
   },
   "outputs": [
    {
     "data": {
      "text/html": [
       "\n",
       "<link rel=\"stylesheet\" href=\"custom.css\"/>  \n"
      ],
      "text/plain": [
       "<IPython.core.display.HTML object>"
      ]
     },
     "metadata": {},
     "output_type": "display_data"
    }
   ],
   "source": [
    "%%HTML\n",
    "\n",
    "<link rel=\"stylesheet\" href=\"custom.css\"/>  "
   ]
  },
  {
   "cell_type": "markdown",
   "id": "232754a9-d57a-4024-9762-18d47a815da3",
   "metadata": {
    "editable": true,
    "slideshow": {
     "slide_type": "fragment"
    },
    "tags": []
   },
   "source": [
    "# Todays goals:\n",
    "1. Introduction\n",
    "   * Syllabus\n",
    "   * Schedule\n",
    "1. Where are we?\n",
    "    * How do we say where we are?"
   ]
  },
  {
   "cell_type": "markdown",
   "id": "54abad06-49db-408d-93a5-9f1174230ac2",
   "metadata": {
    "editable": true,
    "slideshow": {
     "slide_type": "slide"
    },
    "tags": []
   },
   "source": [
    "# Class overview\n",
    "Our overall goal is simple:\n",
    "* Learn to collect and process geophysical data\n",
    "\n",
    "Subtleties:\n",
    "* Which data should we collect?\n",
    "* Where should we collect it?\n",
    "* Why should we collect it?"
   ]
  },
  {
   "cell_type": "markdown",
   "id": "70a4495b-c419-464a-9a0e-1a599e5cc60d",
   "metadata": {
    "editable": true,
    "slideshow": {
     "slide_type": "slide"
    },
    "tags": []
   },
   "source": [
    "# About Me\n",
    "* Joseph (Joe) Capriotti\n",
    "    * B.S. Geophysical Engineering 2013 (@Mines)\n",
    "    * Ph.D. Geophysics 2019 (@Mines, with Yaoguo)\n",
    "    * Postdoctoral work at University of British Columbia\n",
    "* Now: Research Associate (and “adjunct faculty”)\n",
    "* Email: [jcapriot@mines.edu]\n",
    "\n",
    "* Heavily involved in field camp over the years\n",
    "    * Several additional field campaigns over my time.\n",
    "\n",
    "## Office Hours\n",
    "* Generally reachable by email and over zoom\n",
    "* Planning to host a joint help session for GPGN-318 and 328 (POTE1)"
   ]
  },
  {
   "cell_type": "markdown",
   "id": "9a980658-d3d1-44a8-b80e-e707f2f7c8ed",
   "metadata": {
    "editable": true,
    "slideshow": {
     "slide_type": "slide"
    },
    "tags": []
   },
   "source": [
    "# A few other important people"
   ]
  },
  {
   "cell_type": "markdown",
   "id": "189596dc-b057-40a1-a1d0-edaf7f18a222",
   "metadata": {
    "editable": true,
    "slideshow": {
     "slide_type": "subslide"
    },
    "tags": []
   },
   "source": [
    "## TA\n",
    "* Tyna Torres\n",
    "* email: [tyna_torresposada@mines.edu]\n",
    "* Office:\n",
    "* Hours: TBD"
   ]
  },
  {
   "attachments": {},
   "cell_type": "markdown",
   "id": "23fbdb34-1923-43b8-ba89-7bcbbc36d78a",
   "metadata": {
    "editable": true,
    "slideshow": {
     "slide_type": "subslide"
    },
    "tags": []
   },
   "source": [
    "## Department Equipment manager\n",
    "<div class=\"row\">\n",
    "<div class=\"column\">\n",
    "\n",
    "* Brian Passerella\n",
    "* email: [bpassere@mines.edu]\n",
    "\n",
    "![Brian](https://geophysics.mines.edu/wp-content/uploads/sites/30/2017/02/brian-passerella.jpg)\n",
    "</div>\n",
    "<div class=\"column\">\n",
    "\n",
    "![Shorts](resources/brian_shorts.png)\n",
    "</div>\n",
    "</div>\n",
    "\n"
   ]
  },
  {
   "cell_type": "markdown",
   "id": "dbf08776-b195-4c02-80b5-49c1773960ce",
   "metadata": {
    "editable": true,
    "slideshow": {
     "slide_type": "slide"
    },
    "tags": []
   },
   "source": [
    "# Class Structure\n",
    "* Monday and Wednesday 50 minute lecture (3-4pm)\n",
    "* Thursday 3 hour lab (1-4pm)\n",
    "* Content delivery:\n",
    "    * Through jupyter notebooks\n",
    "* Labs are a mixture of indoor computer processing based labs and outdoor data collection labs"
   ]
  },
  {
   "cell_type": "markdown",
   "id": "a070312b-b632-4420-8262-f4623a363038",
   "metadata": {
    "editable": true,
    "slideshow": {
     "slide_type": "slide"
    },
    "tags": []
   },
   "source": [
    "# Grading Policy\n",
    "* Homework/Lab Exercises: 50%\n",
    "* Attendance/Participation: 20%\n",
    "* Group Quizzes: 10%\n",
    "* Final Project: 20%\n",
    "\n",
    "Group Quizzes:\n",
    "* Work in teams to answer a set of multiple choice questions (no notes)\n",
    "* Be graded on the spot and given a chance to re-do any missed questions for partial credit.\n"
   ]
  },
  {
   "cell_type": "markdown",
   "id": "df286eb2-20ae-49f6-afb5-f7169cd10174",
   "metadata": {},
   "source": [
    "# Feedback Grading\n",
    "Like in PoE, we will also use the same grading scheme\n",
    "***only*** applied to the Homework/Lab Exercises (EE, ME, NM, INC).\n",
    "* 16 labs/assignments (about 1 per week).\n",
    "* **Only allowed 1 resubmission**\n",
    "\n",
    "|Grade| Number complete (# EE)|\n",
    "|-----|--------------|\n",
    "| A   | 16 (6 EE)    |\n",
    "| A-  | 16 (4 EE)    |\n",
    "| B+  | 16 (2 EE)    |\n",
    "| B   | 16           |\n",
    "| C   | 12           |\n",
    "| D   | 8            |\n",
    "| F   | <8           |"
   ]
  },
  {
   "cell_type": "markdown",
   "id": "e98af47c-b369-411a-8114-a5fa4ea20ca3",
   "metadata": {
    "editable": true,
    "slideshow": {
     "slide_type": "slide"
    },
    "tags": []
   },
   "source": [
    "# Labs"
   ]
  },
  {
   "cell_type": "markdown",
   "id": "e59c440e-2a19-4b96-bc6b-0b9740dd5fb7",
   "metadata": {
    "editable": true,
    "slideshow": {
     "slide_type": "subslide"
    },
    "tags": []
   },
   "source": [
    "## Outdoor Labs\n",
    "* Collecting data:\n",
    "    * We will all collect data together\n",
    "    * Unfortunately limited by the amount of instrumentation we have\n",
    "    * I will do my best to ensure everyone has a job to do\n",
    "* Reports\n",
    "    * You will usually have to do some very minimal processing of the collected data (plotting, averaging etc.)\n",
    "    * Answer questions clearly outlined in the lab\n",
    "    * **Attatch your relevant lab notebook pages**"
   ]
  },
  {
   "attachments": {},
   "cell_type": "markdown",
   "id": "1506ebea-b1ee-46be-9067-78297ab444bf",
   "metadata": {
    "editable": true,
    "slideshow": {
     "slide_type": "subslide"
    },
    "tags": []
   },
   "source": [
    "### Lab Notebooks:\n",
    "<div class=\"row\">\n",
    "<div class=\"column\">\n",
    "\n",
    "* Must have a dedicated notebook for taking notes in the field\n",
    "& Recommended:\n",
    "    * Rite-in-the-rain notebooks (should be in the bookstore)\n",
    "* You must take sufficient notes such that someone who was NOT there can reproduce your experiment\n",
    "\n",
    "</div>\n",
    "<div class=\"column\">\n",
    "\n",
    "![write in the rain](resources/notebook.png)\n",
    "\n",
    "</div>\n",
    "</div>"
   ]
  },
  {
   "cell_type": "markdown",
   "id": "22993e20-dfa0-40e9-b083-cf1e50fa50a4",
   "metadata": {
    "editable": true,
    "slideshow": {
     "slide_type": "subslide"
    },
    "tags": []
   },
   "source": [
    "## Lab Notebooks:\n",
    "For each lab your notebooks should have:\n",
    "1) **Name** and **Date** on every page (**numbered**)\n",
    "2) An entry in the Table of Contents\n",
    "3) List Team members\n",
    "4) Describe the Problem\n",
    "5) Safety Considerations\n",
    "6) Describe what you intend to do\n",
    "7) Record what *actually* happened\n",
    "8) Notes on Data quality (sources of error etc. \"Hey this location was under a bunch of trees so we had poor GPS signal\")\n",
    "9) Record the history of any data collected\n",
    "10) Summary"
   ]
  },
  {
   "cell_type": "markdown",
   "id": "db149575-8266-49f0-b9de-c22c8e9eb166",
   "metadata": {
    "editable": true,
    "slideshow": {
     "slide_type": "subslide"
    },
    "tags": []
   },
   "source": [
    "## Indoor Labs\n",
    "* Computer based labs:\n",
    "    * Generally guided by jupyter notebooks\n",
    "    * We will work together\n",
    "* Reports\n",
    "    * Answer prompts in the notebook and submit your results"
   ]
  },
  {
   "cell_type": "markdown",
   "id": "559e6e23-5c9e-4515-bdbc-d8de6beface0",
   "metadata": {
    "editable": true,
    "slideshow": {
     "slide_type": "subslide"
    },
    "tags": []
   },
   "source": [
    "Some details for the lab:\n",
    "* I expect you to be able to use `git` to pull changes to this content repo.\n",
    "* I expect you to be familiar with `conda`\n",
    "    * If you have `conda` already installed: make sure you have at least version `23.10` (check with `conda --version`)\n",
    "    * If not `conda update -n base conda`\n",
    "* I expect you to be familiar with `conda` environments and why we would use them\n",
    "    * **NEVER INSTALL ANYTHING INTO YOUR BASE ENVIRONMENT**\n",
    "        * Particularly through `pip`\n",
    "    * If you have, I recommend trashing your entire `conda` install and reinstalling it\n",
    "* I will provide an `environment.yml` file for you to get everything you need through `conda`\n",
    "    * `conda env create -f environment.yml`"
   ]
  },
  {
   "cell_type": "markdown",
   "id": "0420977e-4ff3-4538-b70d-2905416b0e51",
   "metadata": {
    "editable": true,
    "slideshow": {
     "slide_type": "slide"
    },
    "tags": []
   },
   "source": [
    "# A side note on AI:\n",
    "<div class=\"row\">\n",
    "<div class=\"column\">\n",
    "\n",
    "* It is a tool that you will likely end up using\n",
    "* You are ultimately responsible for any material you submitted\n",
    "    * Generally does not know what is true or false\n",
    "    * Good rule of thumb “don’t ask a question where you cannot reasonably validate the answer”\n",
    "* You must document and cite your uses of it. (Also interested to see the prompts you give)\n",
    "\n",
    "</div>\n",
    "<div class=\"column\">\n",
    "\n",
    "![ai](resources/geophysics_ai.png)\n",
    "</div>\n",
    "</div>"
   ]
  },
  {
   "cell_type": "markdown",
   "id": "e996a611-2d36-4d5a-b1be-f883fd6db0c6",
   "metadata": {
    "editable": true,
    "slideshow": {
     "slide_type": "slide"
    },
    "tags": []
   },
   "source": [
    "# Goals for the course\n",
    "For each of the Geophysical methods, I hope to cover and have you walk away with a basic knowledge and experience in:\n",
    "1. Fundamental theory\n",
    "1. Units\n",
    "1. Signals/Anomalies (shapes, amplitudes, etc.)\n",
    "1. Display signals\n",
    "1. Instrumentation\n",
    "1. Data acquisition\n",
    "1. Data reductions/processing\n",
    "1. Modeling and interpretation\n",
    "1. Current state of things… i.e. case studies\n"
   ]
  },
  {
   "attachments": {},
   "cell_type": "markdown",
   "id": "4833a49c-669b-4422-ba35-290f4fd518d9",
   "metadata": {
    "editable": true,
    "slideshow": {
     "slide_type": "slide"
    },
    "tags": []
   },
   "source": [
    "# Introduction to Geophsyics\n",
    "\n",
    "* Geophysics studies the subsurface remotely by measuring the variations of physical fields on the surface, in the air, from orbit, underwater, or in boreholes.\n",
    "* The fields are generated either by artificial or by natural sources.\n",
    "* The distribution of physical properties alters physical fields and the resulting variation in the fields carries the information about the subsurface structure\n",
    "* Geophysics seeks to obtain information, such as images, of the subsurface geology indirectly by showing the distribution of the physical properties."
   ]
  },
  {
   "cell_type": "markdown",
   "id": "c207c30a-fa56-4295-8d92-46a93381b9a2",
   "metadata": {
    "editable": true,
    "slideshow": {
     "slide_type": "subslide"
    },
    "tags": []
   },
   "source": [
    "# Applied? Isn’t all geophysics applied?\n",
    "Well yes, but this class has a focus on:\n",
    "* Data Collection\n",
    "* Data Processing\n",
    "* Data Interpretation\n",
    "\n",
    "As such, this class will have a large hands-on component"
   ]
  },
  {
   "cell_type": "markdown",
   "id": "5b1911e6-2597-49a9-b2fb-2c5b68f598a4",
   "metadata": {
    "editable": true,
    "slideshow": {
     "slide_type": "subslide"
    },
    "tags": []
   },
   "source": [
    "# Conventional Geophysical Methods\n",
    "Applied Geophysics I (aka the “static” methods)\n",
    "* Gravity\n",
    "* DC Resistivity/ Induced Polarization (IP)\n",
    "* Magnetics\n",
    "\n",
    "Applied Geophysics II (aka the “dynamic” methods)\n",
    "* Electromagnetics (EM)\n",
    "* Seismic\n"
   ]
  },
  {
   "cell_type": "markdown",
   "id": "d8c2b538-cb8e-413c-a03f-df6f3a1faeda",
   "metadata": {
    "editable": true,
    "slideshow": {
     "slide_type": "subslide"
    },
    "tags": []
   },
   "source": [
    "# Which methods are sensitive to which physical properties?\n",
    "\n",
    "\n",
    "| | Gravity| DC Resistivity | Magnetics|\n",
    "|-|--------|----------------|----------|\n",
    "|Density|  x| | |\n",
    "|Susceptibility| | | x|\n",
    "|Conductivity| |x | |\n"
   ]
  },
  {
   "cell_type": "markdown",
   "id": "dbc3e597-5be2-4d49-ab32-e1fd9b0737be",
   "metadata": {
    "editable": true,
    "slideshow": {
     "slide_type": "slide"
    },
    "tags": []
   },
   "source": [
    "# What Contributes to a material’s physical properties?\n",
    "Consider this sandstone:\n",
    "\n",
    "![sandstone_core](resources/sandstone_core.png)"
   ]
  },
  {
   "cell_type": "markdown",
   "id": "ce14df92-882d-4e5e-9d1f-030529145c46",
   "metadata": {
    "editable": true,
    "slideshow": {
     "slide_type": "subslide"
    },
    "tags": []
   },
   "source": [
    "# Think through these, and compare physical properties\n",
    "<div style=\"text-align:center;\">\n",
    "Navajo sandstone\n",
    "</div>\n",
    "\n",
    "<div class=\"row\">\n",
    "<div class=\"column\">\n",
    "\n",
    "![sandstone_core](resources/sandstone_core.png)\n",
    "\n",
    "Dry (Air saturated)\n",
    "</div>\n",
    "<div class=\"column\">\n",
    "\n",
    "![sandstone_core](resources/sandstone_core_red.png)\n",
    "\n",
    "Water Saturated\n",
    "</div>\n",
    "</div>"
   ]
  },
  {
   "cell_type": "markdown",
   "id": "f887eb63-e781-4289-a050-b5a9f8798d10",
   "metadata": {
    "editable": true,
    "slideshow": {
     "slide_type": "slide"
    },
    "tags": []
   },
   "source": [
    "# What's Under Kafadar?\n",
    "![kafadar](resources/kafadar.png)"
   ]
  },
  {
   "cell_type": "markdown",
   "id": "ed8eb1ce-a83b-4f55-b2aa-8741a085290b",
   "metadata": {
    "editable": true,
    "slideshow": {
     "slide_type": "subslide"
    },
    "tags": []
   },
   "source": [
    "## Underground Tunnels\n",
    "![tunnels](resources/tunnel_image.png)"
   ]
  },
  {
   "cell_type": "markdown",
   "id": "5dffc26c-8272-494c-86db-c983e4c73f31",
   "metadata": {
    "editable": true,
    "slideshow": {
     "slide_type": "subslide"
    },
    "tags": []
   },
   "source": [
    "## Gravesites\n",
    "(R.I.P. Timmy)\n",
    "\n",
    "![graves](resources/graves.png)"
   ]
  },
  {
   "cell_type": "markdown",
   "id": "4e107e06-0f2c-47ed-95c7-a4f78dc28410",
   "metadata": {
    "editable": true,
    "slideshow": {
     "slide_type": "subslide"
    },
    "tags": []
   },
   "source": [
    "## The \"M\"\n",
    "![M](resources/The_M.png)"
   ]
  },
  {
   "cell_type": "markdown",
   "id": "00f7ac2e-1562-4724-b16d-91ae94746639",
   "metadata": {
    "editable": true,
    "slideshow": {
     "slide_type": "subslide"
    },
    "tags": []
   },
   "source": [
    "## Archeological wall\n",
    "![Arch](resources/archeology_wall.jpg)"
   ]
  },
  {
   "cell_type": "markdown",
   "id": "5d3a6927-054f-42f5-a204-1e12ccc6a501",
   "metadata": {
    "editable": true,
    "slideshow": {
     "slide_type": "subslide"
    },
    "tags": []
   },
   "source": [
    "# UXO\n",
    "<div class=\"row\">\n",
    "    \n",
    "<div class=\"column\"\n",
    "\n",
    "![](resources/uxo_1.jpg)\n",
    "</div>\n",
    "\n",
    "<div class=\"column\">\n",
    "\n",
    "![](resources/uxo_2.jpg)\n",
    "</div>\n",
    "\n",
    "</div>"
   ]
  },
  {
   "cell_type": "markdown",
   "id": "40aebc0f-9002-4047-b5d6-7b6c3e6a1af0",
   "metadata": {
    "editable": true,
    "slideshow": {
     "slide_type": "subslide"
    },
    "tags": []
   },
   "source": [
    "# Geophysics\n",
    "Now why are you all here?"
   ]
  },
  {
   "cell_type": "markdown",
   "id": "6d8d4d19-ed08-4203-a09d-03526fcb747b",
   "metadata": {
    "editable": true,
    "slideshow": {
     "slide_type": "fragment"
    },
    "tags": []
   },
   "source": [
    "# This week\n",
    "* No Lecture on Wednesday\n",
    "* Outdoor lab on Thursday (GPS Adventure!)"
   ]
  }
 ],
 "metadata": {
  "kernelspec": {
   "display_name": "Python 3 (ipykernel)",
   "language": "python",
   "name": "python3"
  },
  "language_info": {
   "codemirror_mode": {
    "name": "ipython",
    "version": 3
   },
   "file_extension": ".py",
   "mimetype": "text/x-python",
   "name": "python",
   "nbconvert_exporter": "python",
   "pygments_lexer": "ipython3",
   "version": "3.12.11"
  }
 },
 "nbformat": 4,
 "nbformat_minor": 5
}
