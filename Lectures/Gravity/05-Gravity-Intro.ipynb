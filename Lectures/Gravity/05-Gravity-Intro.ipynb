{
 "cells": [
  {
   "cell_type": "markdown",
   "id": "c6509c68-9d8c-4a57-87fc-2b4adec2a1ca",
   "metadata": {
    "editable": true,
    "slideshow": {
     "slide_type": "slide"
    },
    "tags": []
   },
   "source": [
    "# Gravity\n",
    "---------\n",
    "it sucks"
   ]
  },
  {
   "cell_type": "code",
   "execution_count": 2,
   "id": "4584c0aa-c07f-4e82-8b94-b75ce7a5c462",
   "metadata": {
    "editable": true,
    "slideshow": {
     "slide_type": "notes"
    },
    "tags": []
   },
   "outputs": [],
   "source": [
    "from IPython.display import IFrame\n",
    "import numpy as np\n",
    "import matplotlib.pyplot as plt"
   ]
  },
  {
   "cell_type": "code",
   "execution_count": 3,
   "id": "71bbcf1a-443b-4cd1-b383-7983a9a1d557",
   "metadata": {
    "editable": true,
    "slideshow": {
     "slide_type": "notes"
    },
    "tags": []
   },
   "outputs": [],
   "source": [
    "homer = IFrame(\n",
    "    width=\"560\",\n",
    "    height=\"315\",\n",
    "    src=\"https://www.youtube.com/embed/aMvyTlcUoD4?si=6MZJRh2TLnYpSpx6&amp;controls=0&amp;start=40\",\n",
    "    title=\"YouTube video player\",\n",
    "    frameborder=\"0\",\n",
    "    allow=\"accelerometer; autoplay; clipboard-write; encrypted-media; gyroscope; picture-in-picture; web-share\",\n",
    "    referrerpolicy=\"strict-origin-when-cross-origin\",\n",
    ")"
   ]
  },
  {
   "cell_type": "code",
   "execution_count": 4,
   "id": "7584e86e-15f6-41ad-9ec6-572e9e5c539d",
   "metadata": {
    "editable": true,
    "slideshow": {
     "slide_type": "subslide"
    },
    "tags": []
   },
   "outputs": [
    {
     "data": {
      "text/html": [
       "\n",
       "        <iframe\n",
       "            width=\"560\"\n",
       "            height=\"315\"\n",
       "            src=\"https://www.youtube.com/embed/aMvyTlcUoD4?si=6MZJRh2TLnYpSpx6&amp;controls=0&amp;start=40?title=YouTube+video+player&frameborder=0&allow=accelerometer%3B+autoplay%3B+clipboard-write%3B+encrypted-media%3B+gyroscope%3B+picture-in-picture%3B+web-share&referrerpolicy=strict-origin-when-cross-origin\"\n",
       "            frameborder=\"0\"\n",
       "            allowfullscreen\n",
       "            \n",
       "        ></iframe>\n",
       "        "
      ],
      "text/plain": [
       "<IPython.lib.display.IFrame at 0x110a9f0b0>"
      ]
     },
     "execution_count": 4,
     "metadata": {},
     "output_type": "execute_result"
    }
   ],
   "source": [
    "homer"
   ]
  },
  {
   "cell_type": "markdown",
   "id": "81372ba1-3145-417a-9e2a-e06524b85c51",
   "metadata": {
    "editable": true,
    "slideshow": {
     "slide_type": "subslide"
    },
    "tags": []
   },
   "source": [
    "## What is it?\n",
    "\n",
    "Einstein : general relativity\n",
    "* objects travel along along straight paths in spacetime,\n",
    "* Masses cause curvatures in spacetime\n",
    "\n",
    "Newtonian : All masses exert a force on each other proportional to the product of the masses and inversely proportional to distance between them squared\n",
    "* For all of the things we do in geophysics, this is sufficient\n",
    "\n",
    "Q: what is the equation for gravity?"
   ]
  },
  {
   "cell_type": "markdown",
   "id": "77aa1517-ac63-4b91-8075-0c61e4001589",
   "metadata": {
    "editable": true,
    "slideshow": {
     "slide_type": "slide"
    },
    "tags": []
   },
   "source": [
    "## Newtonian gravity"
   ]
  },
  {
   "cell_type": "markdown",
   "id": "99ba9b79-d566-40f9-b163-342491edbdab",
   "metadata": {
    "editable": true,
    "slideshow": {
     "slide_type": "fragment"
    },
    "tags": []
   },
   "source": [
    "$$\\vec{g} = -\\gamma \\frac{m}{r^2} \\hat{r}$$"
   ]
  },
  {
   "cell_type": "markdown",
   "id": "2b946734-09e1-4d98-859f-272207800c87",
   "metadata": {
    "editable": true,
    "slideshow": {
     "slide_type": "fragment"
    },
    "tags": []
   },
   "source": [
    "What are the units here?"
   ]
  },
  {
   "cell_type": "markdown",
   "id": "7bbcef5d-ead4-43d2-be06-6ef019224314",
   "metadata": {
    "editable": true,
    "slideshow": {
     "slide_type": "fragment"
    },
    "tags": []
   },
   "source": [
    "* $m$ : mass\n",
    "* $r$ : length\n",
    "* $\\hat{r}$ : ?\n",
    "* $\\vec{g}$ : acceleration\n",
    "* $\\gamma$ (or $G$) : ?"
   ]
  },
  {
   "cell_type": "markdown",
   "id": "64e0232d-ff5c-4120-9a7b-27b6fd08f892",
   "metadata": {
    "editable": true,
    "slideshow": {
     "slide_type": "subslide"
    },
    "tags": []
   },
   "source": [
    "### What is the gravity of Earth at it's surface?\n",
    "\n",
    "![Earth Man](resources/EarthMan.png)"
   ]
  },
  {
   "cell_type": "markdown",
   "id": "30e11a25-bd6f-4d8e-858e-6ff9bb521646",
   "metadata": {
    "editable": true,
    "slideshow": {
     "slide_type": "subslide"
    },
    "tags": []
   },
   "source": [
    "Make some assumptions:\n",
    "  * Radius of the Earth?\n",
    "  * Mass of the Earth?"
   ]
  },
  {
   "cell_type": "code",
   "execution_count": 13,
   "id": "8a44aa9f-b4e1-4174-981e-cb7af493ca4b",
   "metadata": {
    "editable": true,
    "slideshow": {
     "slide_type": ""
    },
    "tags": []
   },
   "outputs": [],
   "source": [
    "from scipy.constants import G"
   ]
  },
  {
   "attachments": {},
   "cell_type": "markdown",
   "id": "5705ba35-b8d5-437b-a93f-de446fc911f3",
   "metadata": {
    "editable": true,
    "slideshow": {
     "slide_type": "subslide"
    },
    "tags": []
   },
   "source": [
    "### What does the worm feel due to the Apple?\n",
    "![Mr. Apple](resources/apple_worm.png)"
   ]
  },
  {
   "cell_type": "markdown",
   "id": "fb7ce646-2b75-42d2-93d4-ed1f263869ee",
   "metadata": {
    "editable": true,
    "slideshow": {
     "slide_type": "subslide"
    },
    "tags": []
   },
   "source": [
    "Assumptions:\n",
    "* Radius of the apple: ???\n",
    "* mass of the apple: ???"
   ]
  },
  {
   "cell_type": "code",
   "execution_count": 16,
   "id": "08f767f3-c513-475e-aef9-c290de99b754",
   "metadata": {
    "editable": true,
    "slideshow": {
     "slide_type": ""
    },
    "tags": []
   },
   "outputs": [],
   "source": [
    "radius_apple = 1\n",
    "mass_apple = 0"
   ]
  },
  {
   "attachments": {},
   "cell_type": "markdown",
   "id": "8a81ce42-4de9-4528-9174-af96708bd663",
   "metadata": {
    "editable": true,
    "slideshow": {
     "slide_type": "slide"
    },
    "tags": []
   },
   "source": [
    "## What physical property do we measure?"
   ]
  },
  {
   "cell_type": "markdown",
   "id": "08a184c9-9bae-46b4-8b91-f86d5c281706",
   "metadata": {
    "editable": true,
    "slideshow": {
     "slide_type": "fragment"
    },
    "tags": []
   },
   "source": [
    "Density\n",
    "\n",
    "$$\\rho = \\frac{mass}{volume}$$"
   ]
  },
  {
   "cell_type": "markdown",
   "id": "cfe18c45-ea15-447e-941a-f4455b731122",
   "metadata": {
    "editable": true,
    "slideshow": {
     "slide_type": "subslide"
    },
    "tags": []
   },
   "source": [
    "## Units!\n",
    "\n",
    "Density:\n",
    "* SI -\n",
    "  $$ \\frac{kg}{m^3} $$\n",
    "* Commonly -\n",
    "  $$ \\frac{g}{cm^3} = \\frac{1}{1000} \\frac{kg}{m^3}$$"
   ]
  },
  {
   "cell_type": "markdown",
   "id": "8c6d8c25-39bb-4b47-9f9b-e760c3d1dbae",
   "metadata": {
    "editable": true,
    "slideshow": {
     "slide_type": "subslide"
    },
    "tags": []
   },
   "source": [
    "gravity:\n",
    "* SI -\n",
    "  $$ \\frac{m}{s^2} $$\n",
    "* Common\n",
    "  * Gal (Galileo)\n",
    "  $$ 1 Gal = \\frac{1}{100} \\frac{m}{s^2} $$\n"
   ]
  },
  {
   "cell_type": "markdown",
   "id": "e14ac138-17d9-453e-a137-854dfb678526",
   "metadata": {
    "editable": true,
    "slideshow": {
     "slide_type": "subslide"
    },
    "tags": []
   },
   "source": [
    "* On a regional scale: geophysicists usually use $mGal$ (milli Gal)\n",
    "    * Anomaly size due to mountains, regional trends etc.\n",
    "* On a smaller scale near surface: usually $\\micro Gal$.\n",
    "  $$ 1 \\micro Gal = 10^{-3} m Gal = 10^-6 Gal = 10^-8 \\frac{m}{s^2} $$\n",
    "  $$ 1 \\micro Gal \\approx 1 ppb of earth field $$"
   ]
  },
  {
   "attachments": {},
   "cell_type": "markdown",
   "id": "08037973-9052-4450-b2ce-d56e93e2e933",
   "metadata": {
    "editable": true,
    "slideshow": {
     "slide_type": "slide"
    },
    "tags": []
   },
   "source": [
    "# Instrumentation!\n",
    "Using your knowledge of physics, how would you measure gravity?"
   ]
  },
  {
   "attachments": {},
   "cell_type": "markdown",
   "id": "cdc2c817-c528-47cb-9d39-78589d0d70da",
   "metadata": {
    "editable": true,
    "slideshow": {
     "slide_type": "subslide"
    },
    "tags": []
   },
   "source": [
    "## So how?\n",
    "* Pendulum (time the swing)\n",
    "* Mass on a spring (Hooke's law: $\\Delta F = k \\Delta x $)\n",
    "* Drop a ball, measure time and distance.\n",
    "\n",
    "All common gravimeters use (very accurate) versions of these principles."
   ]
  },
  {
   "cell_type": "markdown",
   "id": "395e3845-2f64-40aa-b6ad-4ba94dea55b5",
   "metadata": {
    "editable": true,
    "slideshow": {
     "slide_type": "subslide"
    },
    "tags": []
   },
   "source": [
    "### Accelerometer vs Gravimeter?\n",
    "Litterally the same thing, but once they become sensitive enough to see tidal effects (relative locations in time of the sun and moon and deformation of the planet, we start to call them gravimeters."
   ]
  },
  {
   "cell_type": "markdown",
   "id": "9829bca0-536d-4c19-a963-c0c82a9248d3",
   "metadata": {
    "editable": true,
    "slideshow": {
     "slide_type": "subslide"
    },
    "tags": []
   },
   "source": [
    "## Relative vs Absolute?"
   ]
  },
  {
   "cell_type": "markdown",
   "id": "6674e36a-7cd6-47ba-b5df-bb56ce9a199d",
   "metadata": {
    "editable": true,
    "slideshow": {
     "slide_type": "subslide"
    },
    "tags": []
   },
   "source": [
    "Gravimeters fall into two categories, both very precise.\n",
    "\n",
    "* Relative\n",
    "  * Gives precise differences in gravity between two measurements.\n",
    "  * Think like you have a ruler with the first 1.5 inches cut off, it still fundamentaly works, you just need to remember the difference from the baseline measure.\n",
    "* Absolute\n",
    "    * Okay it's not actually absolute, but think of it as be absolute relative to the earth....\n",
    "\n",
    "| Relative | Absolute |\n",
    "|----------|----------|\n",
    "|          |          |\n",
    "|           |         |"
   ]
  },
  {
   "cell_type": "markdown",
   "id": "9eccb86d-8c80-41f8-bde4-5621ec3e3e0d",
   "metadata": {
    "editable": true,
    "slideshow": {
     "slide_type": "slide"
    },
    "tags": []
   },
   "source": [
    "## Relative gravimeters"
   ]
  },
  {
   "cell_type": "markdown",
   "id": "cb0cef65-437f-4b8d-9048-7077a083f2ce",
   "metadata": {
    "editable": true,
    "slideshow": {
     "slide_type": "subslide"
    },
    "tags": []
   },
   "source": [
    "Lacoste and Romberg Model G\n",
    "\n",
    "![Model G](http://www.gravitymeter-repair.com/portals/0/Images/upgrade.jpg)"
   ]
  },
  {
   "cell_type": "markdown",
   "id": "c0103b71-a44c-4e55-87d2-8710e204ba00",
   "metadata": {
    "editable": true,
    "slideshow": {
     "slide_type": "subslide"
    },
    "tags": []
   },
   "source": [
    "![Inside Scheme](resources/inside_diagram.png)"
   ]
  },
  {
   "cell_type": "markdown",
   "id": "059111e3-91f4-4c02-88ff-07e125c2ab7c",
   "metadata": {
    "editable": true,
    "slideshow": {
     "slide_type": "subslide"
    },
    "tags": []
   },
   "source": [
    "![inside_machine](resources/model_g_inside.png)"
   ]
  },
  {
   "cell_type": "markdown",
   "id": "3fd83835-34e7-48ac-8b4c-6bfeec6a0b5d",
   "metadata": {
    "editable": true,
    "slideshow": {
     "slide_type": "subslide"
    },
    "tags": []
   },
   "source": [
    "Scintrex CG-5\n",
    "\n",
    "![Scintrex CG-5](https://georeva.eu/wp-content/uploads/2021/07/ScintrexCG5-1-new-1-500x500-1.jpg)"
   ]
  },
  {
   "cell_type": "markdown",
   "id": "59c1b87c-739d-4368-88e0-e48f86b6cdfd",
   "metadata": {
    "editable": true,
    "slideshow": {
     "slide_type": "subslide"
    },
    "tags": []
   },
   "source": [
    "Scintrex CG-6\n",
    "\n",
    "![Scintrex CG-6](https://georeva.eu/wp-content/uploads/2021/07/ScintrexCG6-2-new-1-500x500-1.jpg)"
   ]
  },
  {
   "cell_type": "markdown",
   "id": "0a14bf45-e41f-4824-93bc-139c664cac2a",
   "metadata": {
    "editable": true,
    "slideshow": {
     "slide_type": "subslide"
    },
    "tags": []
   },
   "source": [
    "## Absolute Gravimeters\n",
    "### On the surface:\n",
    "\n",
    "A10 Micro G\n",
    "\n",
    "![A10](https://microglacoste.com/wp-content/uploads/2017/03/A10-product.jpg)"
   ]
  },
  {
   "cell_type": "markdown",
   "id": "aeec0b94-b76d-4174-8ac8-4e3e54efe388",
   "metadata": {
    "editable": true,
    "slideshow": {
     "slide_type": "subslide"
    },
    "tags": []
   },
   "source": [
    "![Absolute Scheme](resources/absolute_scheme.png)"
   ]
  },
  {
   "cell_type": "markdown",
   "id": "ef175dce-533a-4dac-b570-500e9e81e013",
   "metadata": {
    "editable": true,
    "slideshow": {
     "slide_type": "subslide"
    },
    "tags": []
   },
   "source": [
    "### In Space!\n",
    "\n",
    "GRACE-FO\n",
    "\n",
    "![grace](https://grace.jpl.nasa.gov/rails/active_storage/blobs/redirect/eyJfcmFpbHMiOnsibWVzc2FnZSI6IkJBaHBBbk1EIiwiZXhwIjpudWxsLCJwdXIiOiJibG9iX2lkIn19--d3a40f736a59795797a54a45b9897b80606fc0f3/grace-fo-satellite_768p.jpg?disposition=inline)"
   ]
  },
  {
   "cell_type": "markdown",
   "id": "7a20f0bb-8f2a-4def-a6d4-2f14e4e3cf67",
   "metadata": {
    "editable": true,
    "slideshow": {
     "slide_type": "subslide"
    },
    "tags": []
   },
   "source": [
    "![Grace Data](https://grace.jpl.nasa.gov/rails/active_storage/blobs/redirect/eyJfcmFpbHMiOnsibWVzc2FnZSI6IkJBaHBBYW89IiwiZXhwIjpudWxsLCJwdXIiOiJibG9iX2lkIn19--a7b300a151dca677bb16db243bc5d3ebd94e40e7/PIA12146_(1).gif?disposition=inline)"
   ]
  },
  {
   "attachments": {},
   "cell_type": "markdown",
   "id": "55ea8685-afa3-4fa1-9b53-4bd7a93d1081",
   "metadata": {
    "editable": true,
    "slideshow": {
     "slide_type": "subslide"
    },
    "tags": []
   },
   "source": [
    "## Other types:\n",
    "Superconducting gravimeters:\n",
    "* Suspend a superconductive ball in a magnetic field\n",
    "* strength of field is proportional to the gravity.\n",
    "* Usually stationary\n",
    "* Not practical in the field"
   ]
  },
  {
   "attachments": {},
   "cell_type": "markdown",
   "id": "b87a4f08-5207-4819-8f10-7a26b0e4119b",
   "metadata": {
    "editable": true,
    "slideshow": {
     "slide_type": "subslide"
    },
    "tags": []
   },
   "source": [
    "![UT-Austin superconducting gravimeter](resources/ut_austin_super_grav.png)"
   ]
  },
  {
   "cell_type": "markdown",
   "id": "0f3004f6-924a-4097-adcf-a0dcb982bee5",
   "metadata": {
    "editable": true,
    "slideshow": {
     "slide_type": "subslide"
    },
    "tags": []
   },
   "source": [
    "## What else?\n",
    "\n",
    "* Almost everyone has one:"
   ]
  },
  {
   "cell_type": "markdown",
   "id": "641f0ee3-8774-44ad-8892-3b8fd3d25e74",
   "metadata": {
    "editable": true,
    "slideshow": {
     "slide_type": "subslide"
    },
    "tags": []
   },
   "source": [
    "![IPhone](https://www.apple.com/newsroom/images/2025/09/apple-debuts-iphone-17/article/Apple-iPhone-17-lineup-250909_big.jpg.large_2x.jpg)"
   ]
  },
  {
   "cell_type": "markdown",
   "id": "4d513ccf-51d0-4a5b-92c3-e5404ffa0207",
   "metadata": {
    "editable": true,
    "slideshow": {
     "slide_type": "subslide"
    },
    "tags": []
   },
   "source": [
    "![Pixel 10](https://lh3.googleusercontent.com/gfKfq1e6jLwipxXjP1g8AoYo58_hAcL7FvK3BvcEJiKg3DRpEsCkUizGcctc0dD25zOPvbCpyUhvwjmMXDFPBTSuqYnK6-s692GyJQ=rw-e365-w2880-v1)"
   ]
  },
  {
   "cell_type": "markdown",
   "id": "e6067db3-16ce-4d76-b06b-5f42f1910870",
   "metadata": {
    "editable": true,
    "slideshow": {
     "slide_type": "subslide"
    },
    "tags": []
   },
   "source": [
    "### MEMS accelerometer - (Micro Electromechanical systems)\n",
    "\n",
    "![So tiny](https://www.researchgate.net/publication/330291252/figure/fig1/AS:960288576778240@1605962046157/Schematic-of-MEMS-differential-capacitive-accelerometer.png)"
   ]
  },
  {
   "cell_type": "markdown",
   "id": "4696b6c3-6a2a-4f29-a959-39e4d3b010a2",
   "metadata": {
    "editable": true,
    "slideshow": {
     "slide_type": "subslide"
    },
    "tags": []
   },
   "source": [
    "### The Ears?\n",
    "\n",
    "![Ear](https://images.squarespace-cdn.com/content/v1/6001cf75ae8fe92a02b30315/1631134049294-YWX4RDKZTHPTS5SOZZ3S/Vest.PNG)"
   ]
  },
  {
   "cell_type": "markdown",
   "id": "2436ec7d-3144-47e0-b591-4f34673fe1b4",
   "metadata": {
    "editable": true,
    "slideshow": {
     "slide_type": "subslide"
    },
    "tags": []
   },
   "source": [
    "Two otolith organs within the labrynth of the inner ear.\n",
    "\n",
    "![Human accelerometers](https://images.squarespace-cdn.com/content/v1/6001cf75ae8fe92a02b30315/1631159794610-E76XO58NLOP8OBR2HZUV/7.jpg)\n",
    "\n",
    "Part of the Vesitbular System\n",
    "\n",
    "\n",
    "[Read more](https://www.neurolab360.com/blog/vestibular-system-and-balance)"
   ]
  }
 ],
 "metadata": {
  "kernelspec": {
   "display_name": "Python 3 (ipykernel)",
   "language": "python",
   "name": "python3"
  },
  "language_info": {
   "codemirror_mode": {
    "name": "ipython",
    "version": 3
   },
   "file_extension": ".py",
   "mimetype": "text/x-python",
   "name": "python",
   "nbconvert_exporter": "python",
   "pygments_lexer": "ipython3",
   "version": "3.12.11"
  }
 },
 "nbformat": 4,
 "nbformat_minor": 5
}
