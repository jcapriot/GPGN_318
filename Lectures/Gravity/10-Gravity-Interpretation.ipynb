{
 "cells": [
  {
   "cell_type": "code",
   "execution_count": 2,
   "id": "be602c12-8cab-47ad-9daa-f8eea1194915",
   "metadata": {},
   "outputs": [
    {
     "data": {
      "text/html": [
       "<link rel=\"stylesheet\" href=\"../custom.css\"/>  \n"
      ],
      "text/plain": [
       "<IPython.core.display.HTML object>"
      ]
     },
     "metadata": {},
     "output_type": "display_data"
    }
   ],
   "source": [
    "%%HTML\n",
    "<link rel=\"stylesheet\" href=\"../custom.css\"/>  "
   ]
  },
  {
   "cell_type": "markdown",
   "id": "6b95f6b6-2b44-45f0-ae69-c79ac3c115b8",
   "metadata": {
    "editable": true,
    "slideshow": {
     "slide_type": "slide"
    },
    "tags": []
   },
   "source": [
    "# Interpretting Gravity Data\n",
    "---------\n",
    "Today's goals:\n",
    "1) Recap\n",
    "2) Interpretation\n",
    "   * By Forward Modelling\n",
    "   * By Inversion\n",
    "3) Examples\n",
    "4) Other gravity methods"
   ]
  },
  {
   "cell_type": "markdown",
   "id": "00e2e7e6-b969-4965-a383-828de040155d",
   "metadata": {
    "editable": true,
    "slideshow": {
     "slide_type": "subslide"
    },
    "tags": []
   },
   "source": [
    "# Gravity Corrections\n",
    "## Components of an observed value:\n",
    "$$ g_{total} = g_{sphere} + \\Delta g_{latitude} + \\Delta g_{free-air} + \\Delta g_{eotvos} + \\Delta g_{iso} + \\Delta g_{drift} + \\Delta g_{terrain} + \\Delta g_{anomaly}$$\n",
    "\n",
    "1) $g_{sphere}$ Reference spheroid\n",
    "1) $\\Delta g_{latitude} \\rightarrow$ Reference Spheroid $\\rightarrow$ Lattitude correction\n",
    "1) $\\Delta g_{free-air} \\rightarrow$ Effect due to vertical gradient $\\rightarrow$ Free Air correction\n",
    "1) $\\Delta g_{eotvos} \\rightarrow$ Moving platform $\\rightarrow$ Eotvos correction\n",
    "1) $\\Delta g_{iso} \\rightarrow$ Isostatic effects $\\rightarrow$ Isostatic correction\n",
    "1) $\\Delta g_{drift} \\rightarrow$ Tidal and instrument drift $\\rightarrow$ Drift correction\n",
    "1) $\\Delta g_{terrain} \\rightarrow$ Field due to background mass above sea level $\\rightarrow$ Bouguer and Terrain correction\n",
    "1) $\\Delta g_{anomaly} \\rightarrow$ Local geology $\\rightarrow$ What we want.\n",
    "\n",
    "Removing the \"known\" contributions leaves us with \"reduced\" data"
   ]
  },
  {
   "attachments": {},
   "cell_type": "markdown",
   "id": "6d6abb67-6aa3-4c2f-beea-50c170b2b21e",
   "metadata": {
    "editable": true,
    "slideshow": {
     "slide_type": "subslide"
    },
    "tags": []
   },
   "source": [
    "## Meaning of Reduced Data\n",
    "What it is: \n",
    "* It is the gravity field produced by the anomalous mass at the observational points located on the original topographic surface. Simple as that!\n",
    "\n",
    "What it is NOT:\n",
    "* It is not the anomaly at the sea level!   (Misconception #1)\n",
    "* It is not the anomaly reduced to a plane surface (the datum)! (Misconception #2)"
   ]
  },
  {
   "cell_type": "markdown",
   "id": "704d92fd-53e0-4651-8614-ed0183c789f6",
   "metadata": {
    "editable": true,
    "slideshow": {
     "slide_type": "slide"
    },
    "tags": []
   },
   "source": [
    "# Interpreting Gravity Data"
   ]
  },
  {
   "attachments": {},
   "cell_type": "markdown",
   "id": "56945fa9-1b94-498a-a6d5-7c312171bc5c",
   "metadata": {
    "editable": true,
    "slideshow": {
     "slide_type": "subslide"
    },
    "tags": []
   },
   "source": [
    "## Modelling gravity\n",
    "<div class=\"row\">\n",
    "<div class=\"column\">\n",
    "\n",
    "Usually:\n",
    "1) Break up the earth into a collection of bodies with\n",
    "    * Constant density\n",
    "    * Known geometry\n",
    "2) Sum the response to calculate gravity anomaly\n",
    "\n",
    "What density do we use? -> Density Contrast!\n",
    "* To calculate gravity anomaly use density contrasts!\n",
    "</div>\n",
    "<div class=\"column\">\n",
    "\n",
    "\n",
    "![cubs](resources/10-cubes.png)\n",
    "</div>\n",
    "</div>\n",
    "\n"
   ]
  },
  {
   "cell_type": "markdown",
   "id": "b8e53fc1-9c76-4864-ac69-10442df59fb9",
   "metadata": {
    "editable": true,
    "slideshow": {
     "slide_type": "subslide"
    },
    "tags": []
   },
   "source": [
    "![salt](resources/10-salt_blocks.jpg)"
   ]
  },
  {
   "cell_type": "markdown",
   "id": "a6f763b8-45c5-4e3d-88fe-bdd8187b6acb",
   "metadata": {
    "editable": true,
    "slideshow": {
     "slide_type": "slide"
    },
    "tags": []
   },
   "source": [
    "## Interpretation by Modelling!\n",
    "### Field Camp 2009\n",
    "![bam](resources/10-2009-FieldCamp.png)"
   ]
  },
  {
   "attachments": {},
   "cell_type": "markdown",
   "id": "f2670b21-fdd5-40d6-8ef0-abc1f3cede5e",
   "metadata": {
    "editable": true,
    "slideshow": {
     "slide_type": "subslide"
    },
    "tags": []
   },
   "source": [
    "### Planetary and Lunar Exploration\n",
    "Example: Studying Ancient Rift Valleys\n",
    "![Images](resources/10-grail-topo.jpg)"
   ]
  },
  {
   "attachments": {},
   "cell_type": "markdown",
   "id": "64bec27c-d996-4a41-bfee-e5691ae18c8e",
   "metadata": {
    "editable": true,
    "slideshow": {
     "slide_type": "subslide"
    },
    "tags": []
   },
   "source": [
    "<div class=\"row\">\n",
    "<div class=\"column\">\n",
    "\n",
    "![data](resources/10-grail-dat.png)\n",
    "</div>\n",
    "<div class=\"column\">\n",
    "\n",
    "Density model of Schrodinger Basin\n",
    "![interp](resources/10-grail-interp.png)\n",
    "</div>\n",
    "</div>"
   ]
  },
  {
   "cell_type": "markdown",
   "id": "0f4fcc6a-e4cc-48d4-9de7-34bf7dc300db",
   "metadata": {
    "editable": true,
    "slideshow": {
     "slide_type": "notes"
    },
    "tags": []
   },
   "source": [
    "Courville, S. W., P. B. James, and G. Y. Kramer. \"Shallow Subsurface Investigations of Schrodinger Basin's Peak Ring Using Grail Gravity Field.\" 49th Annual Lunar and Planetary Science Conference. No. 2083. 2018."
   ]
  },
  {
   "cell_type": "markdown",
   "id": "fb1b1003-0ac4-4821-80ac-3549632c3448",
   "metadata": {
    "editable": true,
    "slideshow": {
     "slide_type": "subslide"
    },
    "tags": []
   },
   "source": [
    "## Can we automate this a bit more?"
   ]
  },
  {
   "cell_type": "markdown",
   "id": "32903796-4ec1-4585-b855-f7682e7c4f31",
   "metadata": {
    "editable": true,
    "slideshow": {
     "slide_type": "slide"
    },
    "tags": []
   },
   "source": [
    "# Inversion!"
   ]
  },
  {
   "cell_type": "markdown",
   "id": "328f5d6e-6d9e-4340-ad86-a9b762c7cbe4",
   "metadata": {
    "editable": true,
    "slideshow": {
     "slide_type": "subslide"
    },
    "tags": []
   },
   "source": [
    "## What is inversion?"
   ]
  },
  {
   "cell_type": "markdown",
   "id": "8ce1aacb-6f4d-4a8a-b033-c9085ddaea3d",
   "metadata": {
    "editable": true,
    "slideshow": {
     "slide_type": "subslide"
    },
    "tags": []
   },
   "source": [
    "![inv](resources/10-forward.png)"
   ]
  },
  {
   "cell_type": "markdown",
   "id": "67a40693-bc76-49c3-9762-7d2ae9a3b707",
   "metadata": {
    "editable": true,
    "slideshow": {
     "slide_type": "subslide"
    },
    "tags": []
   },
   "source": [
    "![inv](resources/10-inverse.png)"
   ]
  },
  {
   "cell_type": "markdown",
   "id": "13895d4f-889e-4107-af72-9a152d863ab9",
   "metadata": {
    "editable": true,
    "slideshow": {
     "slide_type": "subslide"
    },
    "tags": []
   },
   "source": [
    "![workflow](resources/10-inv-workflow.png)"
   ]
  },
  {
   "attachments": {},
   "cell_type": "markdown",
   "id": "0b0df106-88ac-40ef-b3f8-eab1637352c7",
   "metadata": {
    "editable": true,
    "slideshow": {
     "slide_type": "subslide"
    },
    "tags": []
   },
   "source": [
    "## Inversion Procedure\n",
    "<div class=\"row\">\n",
    "<div class=\"column\">\n",
    "\n",
    "*Divide earth into cells (each with unknown properties and properties geometry)\n",
    "* Inversion: Find the physical properties and geometry for the cells such that the data are explained\n",
    "* Use mathematical optimization theory\n",
    "* Difficulties:\n",
    "    * Solution is non-unique\n",
    "    * Computationally demanding\n",
    "\n",
    "</div>\n",
    "<div class=\"column\">\n",
    "\n",
    "![flow](resources/10-inv-portions.png)\n",
    "![cubes2](resources/10-cubes2.png)\n",
    "</div>\n",
    "</div>"
   ]
  },
  {
   "cell_type": "markdown",
   "id": "958d694b-0e75-40da-be97-d327650080d6",
   "metadata": {
    "editable": true,
    "slideshow": {
     "slide_type": "subslide"
    },
    "tags": []
   },
   "source": [
    "### Inversion directly analogous to medical imaging"
   ]
  },
  {
   "cell_type": "markdown",
   "id": "cfe59341-9bf8-452e-b70d-d4842de504ef",
   "metadata": {
    "editable": true,
    "slideshow": {
     "slide_type": "subslide"
    },
    "tags": []
   },
   "source": [
    "<div class=\"row\">\n",
    "<div class=\"column\">\n",
    "\n",
    "\n",
    "![flow](resources/10-MRI.png)\n",
    "\n",
    "</div>\n",
    "<div class=\"column\">\n",
    "    \n",
    "![cubes2](resources/10-mag-inv.png)\n",
    "</div>\n",
    "</div>"
   ]
  },
  {
   "cell_type": "markdown",
   "id": "ea86b184-477b-4aab-b11e-92f10671ffbe",
   "metadata": {
    "editable": true,
    "slideshow": {
     "slide_type": "subslide"
    },
    "tags": []
   },
   "source": [
    "### Generalized Inversion\n"
   ]
  },
  {
   "cell_type": "markdown",
   "id": "e202cd76-054f-4f06-a3eb-14827705742d",
   "metadata": {
    "editable": true,
    "slideshow": {
     "slide_type": "subslide"
    },
    "tags": []
   },
   "source": [
    "![gen](resources/10-generalized.png)"
   ]
  },
  {
   "cell_type": "markdown",
   "id": "08da942d-ac33-4aec-85e6-40b88a9681b1",
   "metadata": {
    "editable": true,
    "slideshow": {
     "slide_type": "subslide"
    },
    "tags": []
   },
   "source": [
    "### An Example (from a minecraft world)"
   ]
  },
  {
   "cell_type": "markdown",
   "id": "c68901ad-e359-4f73-9ccb-9ee46f8123e4",
   "metadata": {
    "editable": true,
    "slideshow": {
     "slide_type": "subslide"
    },
    "tags": []
   },
   "source": [
    "![minecraft model](resources/10-minecraft-model.png)"
   ]
  },
  {
   "cell_type": "markdown",
   "id": "f37726b5-230c-42d7-8b87-42ca6d402614",
   "metadata": {
    "editable": true,
    "slideshow": {
     "slide_type": "subslide"
    },
    "tags": []
   },
   "source": [
    "![minecraft inversion](resources/10-minecraft-inv.png)"
   ]
  },
  {
   "cell_type": "markdown",
   "id": "46194968-a7dd-4781-b576-a6e38b556918",
   "metadata": {
    "editable": true,
    "slideshow": {
     "slide_type": "subslide"
    },
    "tags": []
   },
   "source": [
    "### Kauring Gravity Test Site:\n",
    "![Kauring](resources/10-Kauring.png)"
   ]
  },
  {
   "attachments": {},
   "cell_type": "markdown",
   "id": "192d0c4c-757a-4ab4-b222-ba0172aa50cc",
   "metadata": {
    "editable": true,
    "slideshow": {
     "slide_type": "subslide"
    },
    "tags": []
   },
   "source": [
    "### Time-lapse gravity monitoring at Prudhoe Bay giant oil-field\n",
    "* Gas-cap water injection to maintain reservoir pressure\n",
    "* Gravity data collected at repeat stations over several years\n",
    "* Large time-lapse gravity anomaly increasing over time from expanding water plume\n",
    "\n",
    "![prudhoe](resources/10-PrudhoeBay.png)"
   ]
  },
  {
   "attachments": {},
   "cell_type": "markdown",
   "id": "fc9edb5d-4e64-495a-ab20-d20b44619a6f",
   "metadata": {
    "editable": true,
    "slideshow": {
     "slide_type": "subslide"
    },
    "tags": []
   },
   "source": [
    "* This is at a depth of ~ 2.5km (1.5 Miles) and it produces an anomaly of ~ 70 µGal\n",
    "    \n",
    "![Prudhoe Interp](resources/10-Prudhoe-Interp.png)"
   ]
  },
  {
   "cell_type": "markdown",
   "id": "126f83f7-fee4-4e3e-9132-335fcc1f8019",
   "metadata": {
    "editable": true,
    "slideshow": {
     "slide_type": "subslide"
    },
    "tags": []
   },
   "source": [
    "## Geometric Inversions\n",
    "* Assume a fixed Density Contrast\n",
    "* Solve for the geometry of the object"
   ]
  },
  {
   "cell_type": "markdown",
   "id": "42f2c2c8-052a-47a5-a654-2e14a8e28787",
   "metadata": {
    "editable": true,
    "slideshow": {
     "slide_type": "subslide"
    },
    "tags": []
   },
   "source": [
    "### Leyden Mine:\n",
    "<div class=\"row\">\n",
    "<div class=\"column\">\n",
    "\n",
    "\n",
    "![LeydenCross](resources/10-Leyden-Cross.png)\n",
    "\n",
    "</div>\n",
    "<div class=\"column\">\n",
    "    \n",
    "![LeydenExtent](resources/10-Leyden-extent.png)\n",
    "</div>\n",
    "</div>"
   ]
  },
  {
   "cell_type": "markdown",
   "id": "27648f51-e18d-496a-b90c-cd3e4adf2f95",
   "metadata": {
    "editable": true,
    "slideshow": {
     "slide_type": "subslide"
    },
    "tags": []
   },
   "source": [
    "<div class=\"row\">\n",
    "<div class=\"column\">\n",
    "\n",
    "\n",
    "![LeydenData](resources/10-leyden-data.png)\n",
    "\n",
    "</div>\n",
    "<div class=\"column\">\n",
    "    \n",
    "![LeydenExtent](resources/10-leyden-model.png)\n",
    "</div>\n",
    "</div>"
   ]
  },
  {
   "cell_type": "code",
   "execution_count": null,
   "id": "50caa598-5157-4078-9071-d1a23fc40985",
   "metadata": {},
   "outputs": [],
   "source": []
  }
 ],
 "metadata": {
  "kernelspec": {
   "display_name": "Python 3 (ipykernel)",
   "language": "python",
   "name": "python3"
  },
  "language_info": {
   "codemirror_mode": {
    "name": "ipython",
    "version": 3
   },
   "file_extension": ".py",
   "mimetype": "text/x-python",
   "name": "python",
   "nbconvert_exporter": "python",
   "pygments_lexer": "ipython3",
   "version": "3.12.11"
  }
 },
 "nbformat": 4,
 "nbformat_minor": 5
}
