{
 "cells": [
  {
   "cell_type": "markdown",
   "id": "da4ce422-71de-4ee0-9080-be5320cbc64d",
   "metadata": {
    "editable": true,
    "slideshow": {
     "slide_type": "slide"
    },
    "tags": []
   },
   "source": [
    "# Gravity Corrections\n",
    "----------------\n",
    "\n",
    "Today's goals:\n",
    "* Finish up discussing the corrections applied to gravity data\n",
    "* Work through an example\n",
    "* Plan for lab."
   ]
  },
  {
   "cell_type": "markdown",
   "id": "6d2d77aa-a748-48db-86be-982c01c8d57e",
   "metadata": {
    "editable": true,
    "slideshow": {
     "slide_type": "subslide"
    },
    "tags": []
   },
   "source": [
    "## Components of an observed value:\n",
    "$$ g_{total} = g_{sphere} + \\Delta g_{latitude} + \\Delta g_{free-air} + \\Delta g_{eotvos} + \\Delta g_{iso} + \\Delta g_{drift} + \\Delta g_{terrain} + \\Delta g_{anomaly}$$\n",
    "\n",
    "1) $g_{sphere}$ Reference spheroid\n",
    "1) $\\Delta g_{latitude} \\rightarrow$ Reference Spheroid $\\rightarrow$ Lattitude correction\n",
    "1) $\\Delta g_{free-air} \\rightarrow$ Effect due to vertical gradient $\\rightarrow$ Free Air correction\n",
    "1) $\\Delta g_{eotvos} \\rightarrow$ Moving platform $\\rightarrow$ Eotvos correction\n",
    "1) $\\Delta g_{iso} \\rightarrow$ Isostatic effects $\\rightarrow$ Isostatic correction\n",
    "1) $\\Delta g_{drift} \\rightarrow$ Tidal and instrument drift $\\rightarrow$ Drift correction\n",
    "1) $\\Delta g_{terrain} \\rightarrow$ Field due to background mass above sea level $\\rightarrow$ Bouguer and Terrain correction\n",
    "1) $\\Delta g_{anomaly} \\rightarrow$ Local geology $\\rightarrow$ What we want."
   ]
  },
  {
   "cell_type": "markdown",
   "id": "5fefde62-873e-4cb6-a7b9-a36e8ace15a4",
   "metadata": {
    "editable": true,
    "slideshow": {
     "slide_type": "subslide"
    },
    "tags": []
   },
   "source": [
    "## Latitude Correction\n",
    "* Removing the reference field from the spheroid\n",
    "* International Gravity Formula (IGRF) (spheroid)\n",
    "    * closed form expression:\n",
    "    $ g_{ref} = g_{sphere} + \\Delta g_{lat} = g_e \\frac{1 + k \\sin^2\\phi}{\\sqrt{1 - \\eta^2 \\sin^2\\phi}} $\n",
    "        * $g_e = 978.03267714$ Gal\n",
    "        * $k = 0.00193185138639$\n",
    "        * $\\eta^2 = 0.0069437999013$\n",
    "        * $\\phi$ - latitude\n",
    "    * Or approximate:\n",
    "      $g = g_e (1 + \\alpha sin^2\\phi + \\beta \\sin^4\\phi)$"
   ]
  },
  {
   "cell_type": "markdown",
   "id": "4565fbde-5757-4f49-b709-baec8eb099d1",
   "metadata": {
    "editable": true,
    "slideshow": {
     "slide_type": "subslide"
    },
    "tags": []
   },
   "source": [
    "$$ g_{total} - g_{sphere} - \\Delta g_{lat} - ... $$"
   ]
  },
  {
   "cell_type": "markdown",
   "id": "ba1ae862-bfef-4853-8b0f-39e3ad0985f4",
   "metadata": {
    "editable": true,
    "slideshow": {
     "slide_type": "subslide"
    },
    "tags": []
   },
   "source": [
    "## Free Air Correction\n",
    "![false](resources/8-fa-example.png)"
   ]
  },
  {
   "cell_type": "markdown",
   "id": "4016ad18-75ae-445c-afda-b8ee71f8686b",
   "metadata": {
    "editable": true,
    "slideshow": {
     "slide_type": "subslide"
    },
    "tags": []
   },
   "source": [
    "* Assume we have absolute gravity data, we perform the correction by referencing to the ellipsoid, since the reference field we just removed is that of the ellipsoid.\n",
    "* The correction for a point with elevation h is therefore given by:\n",
    "    $$ \\Delta g_{fa} = -2 \\frac{h}{R}g_0 \\approx -0.3086 \\frac{mGal}{m} h$$\n",
    "    * i.e., the free air gradient is -0.3086 mGal/m\n",
    "* For relative gravity measurements, the background field is implicitly removed (missing).\n",
    "    * The main concern is the false anomaly produced by elevation differences.\n",
    "    * A correction based on this difference $\\Delta h$ relative to a base station will suffice\n",
    "    * But... $h$ is used customarily."
   ]
  },
  {
   "cell_type": "markdown",
   "id": "22c178e2-921e-4a50-81c3-b996f468d3c2",
   "metadata": {
    "editable": true,
    "slideshow": {
     "slide_type": "subslide"
    },
    "tags": []
   },
   "source": [
    "$$ g_{total} - g_{sphere} - \\Delta g_{lat} - \\Delta g_{free-air}... $$"
   ]
  },
  {
   "attachments": {},
   "cell_type": "markdown",
   "id": "dddba946-e9a7-47c7-95ef-3398efb74cac",
   "metadata": {
    "editable": true,
    "slideshow": {
     "slide_type": "subslide"
    },
    "tags": []
   },
   "source": [
    "## Drift Corrections"
   ]
  },
  {
   "attachments": {},
   "cell_type": "markdown",
   "id": "d8d82e6d-90d6-4084-832d-924fb3ecb010",
   "metadata": {
    "editable": true,
    "slideshow": {
     "slide_type": ""
    },
    "tags": []
   },
   "source": [
    "![corr](resources/drift_correction.png)"
   ]
  },
  {
   "cell_type": "markdown",
   "id": "d29a5cfb-5b9c-41ae-8abf-532f3976a939",
   "metadata": {
    "editable": true,
    "slideshow": {
     "slide_type": "subslide"
    },
    "tags": []
   },
   "source": [
    "Correction method:\n",
    "* approximate the drift curve by line segments, making a function for the gravity at the base station as a function of time.\n",
    "    $$ g_{interp, base}(t) = \\frac{g_2 - g_1}{t_2 - t_1}(t - t_1) + g_1 $$"
   ]
  },
  {
   "cell_type": "markdown",
   "id": "222465fb-d45e-455e-b9c2-acb96b262d2e",
   "metadata": {
    "editable": true,
    "slideshow": {
     "slide_type": "subslide"
    },
    "tags": []
   },
   "source": [
    "$$ g_{total} - g_{sphere} - \\Delta g_{lat} - \\Delta g_{free-air} - \\Delta g_{drift}... $$"
   ]
  },
  {
   "cell_type": "markdown",
   "id": "a84ed172-dd93-4775-a9e9-515fe445a5e1",
   "metadata": {
    "editable": true,
    "slideshow": {
     "slide_type": "subslide"
    },
    "tags": []
   },
   "source": [
    "### Eotvos Correction\n",
    "* Correct for the alteration to the measurement due to the ship’s motion.\n",
    "    * Differences in speed relative to spin of the earth\n",
    "* Necessary for marine and airborne surveys.\n",
    "* Need to have data for the speed and heading of the platform: \n",
    "* Eotvos correction is given by,\n",
    "    $$\\Delta g_{eotvos} = -2(\\omega v \\sin \\lambda \\cos \\phi  + \\frac{v^2}{R})$$\n",
    "* For most surveys, v is very small (relative to R), so only first term is needed:\n",
    "* approximate Eotvos correction is given by,\n",
    "    $$\\Delta g_{eotvos} \\approx -2\\omega v \\sin \\lambda \\cos \\phi$$\n",
    "\n",
    "![eotvos](resources/8-eotvos.png)"
   ]
  },
  {
   "cell_type": "markdown",
   "id": "19cccd2a-b628-4ac1-a8ad-e7c0466d6a6b",
   "metadata": {
    "editable": true,
    "slideshow": {
     "slide_type": "subslide"
    },
    "tags": []
   },
   "source": [
    "$$ g_{total} - g_{sphere} - \\Delta g_{lat} - \\Delta g_{free-air} - \\Delta g_{drift} - \\Delta g_{eotvos}... $$"
   ]
  },
  {
   "cell_type": "markdown",
   "id": "68db2c07-70d2-4dac-bfb3-c727a4f3b7e3",
   "metadata": {
    "editable": true,
    "slideshow": {
     "slide_type": "subslide"
    },
    "tags": []
   },
   "source": [
    "### Isostatic Correction\n",
    "\n",
    "Isostatic Effect\n",
    "* The fact that geoid does not correlate with excess or deficient  mass distributions can only mean the following: \n",
    "    1) The excess mass is compensated by mass deficient at depth\n",
    "    1) while deficient mass is compensated by excess mass below. \n",
    "* This is called isostatic compensation.\n",
    "* The mechanism can be best understood by the model of a lighter material floating on top of a heavier “fluid”. \n",
    "\n",
    "Two models:\n",
    "1) Airy’s model: varying depth extent\n",
    "2) Pratt’s model: laterally varying density"
   ]
  },
  {
   "cell_type": "markdown",
   "id": "e2c84d4f-9be6-4b73-88f7-ed4e0134a45d",
   "metadata": {
    "editable": true,
    "slideshow": {
     "slide_type": "subslide"
    },
    "tags": []
   },
   "source": [
    "Airy's Model:\n",
    "![airy](resources/8-airy.png)"
   ]
  },
  {
   "cell_type": "markdown",
   "id": "cfa2e92e-2435-46f6-933e-4c192460221b",
   "metadata": {
    "editable": true,
    "slideshow": {
     "slide_type": "subslide"
    },
    "tags": []
   },
   "source": [
    "Pratt's model:\n",
    "![pratt](resources/8-pratt.png)"
   ]
  },
  {
   "cell_type": "markdown",
   "id": "77cdec0a-8cfa-41d8-8b00-b130fcda399a",
   "metadata": {
    "editable": true,
    "slideshow": {
     "slide_type": "subslide"
    },
    "tags": []
   },
   "source": [
    "### Correction method\n",
    "* Only for large surveys that are on the regional scale.\n",
    "* Less definitive (don’t know the distribution of the causative mass)\n",
    "* Correction can be done effectively using Airy’s model, \n",
    "    1) calculate the shape (depth extent) of the compensating mass based on surface topography \n",
    "    2) integrate the gravity effect by numerical integration.\n",
    "* for small scale survey, isostatic effect can be lumped together with the “regional” field to be separated in the interpretation stage.\n"
   ]
  },
  {
   "attachments": {},
   "cell_type": "markdown",
   "id": "f994ce63-bef6-4858-aeee-b982b40bb87e",
   "metadata": {
    "editable": true,
    "slideshow": {
     "slide_type": "subslide"
    },
    "tags": []
   },
   "source": [
    "* Airy’s model: columns of equal mass\n",
    "* derive the crustal thickness of Airy’s model\n",
    "    $$d_m = h \\frac{\\rho_{top}}{\\Delta \\rho} + d_s$$\n",
    "    * $d_s=30$ km\n",
    "    * $\\rho_{c}\\approx2.67$ g/cc\n",
    "    * $\\Delta \\rho=\\rho_m - \\rho_c \\approx 0.35$ g/cc\n",
    "* calculate the gravity effect due to the volume that deviates from the “standard” thickness below the shore line\n",
    "    $$ \\Delta g_{iso} = ... \\text{ from a computer}$$"
   ]
  },
  {
   "cell_type": "markdown",
   "id": "0687416f-4f1b-437b-850f-eab9468d0bd9",
   "metadata": {
    "editable": true,
    "slideshow": {
     "slide_type": "subslide"
    },
    "tags": []
   },
   "source": [
    "![iso](resources/9-airy-calc.png)"
   ]
  },
  {
   "cell_type": "markdown",
   "id": "00e8eb19-939e-4230-937f-4ae78ddc12f3",
   "metadata": {
    "editable": true,
    "slideshow": {
     "slide_type": "subslide"
    },
    "tags": []
   },
   "source": [
    "$$ g_{total} - g_{sphere} - \\Delta g_{lat} - \\Delta g_{free-air} - \\Delta g_{drift} - \\Delta g_{eotvos} - \\Delta g_{iso}... $$"
   ]
  },
  {
   "attachments": {},
   "cell_type": "markdown",
   "id": "fd2778f2-e7d8-4b2a-9e93-c6ffb8e4095d",
   "metadata": {
    "editable": true,
    "slideshow": {
     "slide_type": "subslide"
    },
    "tags": []
   },
   "source": [
    "## Bouguer and Terrain Corrections\n",
    "Bouguer and terrain corrections are traditionally discussed as two separate steps of data reduction,\n",
    "* but they are actually related to the single task of removing the gravitational effect of the background density below the topo surface down to the sea level.\n",
    "* The objective is to subtract the field produced by the background density and obtain the field due to the anomolous density: $\\Delta \\rho = \\rho - \\rho_b$."
   ]
  },
  {
   "cell_type": "markdown",
   "id": "e12b682b-8548-4731-b2d0-c14f26093db5",
   "metadata": {
    "editable": true,
    "slideshow": {
     "slide_type": "subslide"
    },
    "tags": []
   },
   "source": [
    "![terr](resources/9-terrain_corr.png)"
   ]
  },
  {
   "attachments": {},
   "cell_type": "markdown",
   "id": "f796b190-a17b-4934-9630-1100e1e8f8d4",
   "metadata": {
    "editable": true,
    "slideshow": {
     "slide_type": "subslide"
    },
    "tags": []
   },
   "source": [
    "The field due to the background density is given by an integration over the entire volume of $\\rho_B$\n",
    "* This is conveniently calculated in two parts:\n",
    "    1) Effect of a slab with thickness equal to the station elevation:\n",
    "        * simple analytical solution available:$\\rightarrow$ Bouguer Correction\n",
    "    2) effect of excess and deficient mass introduced by the terrain:\n",
    "        * numerical integration required:     $\\rightarrow$         Terrain Correction"
   ]
  },
  {
   "cell_type": "markdown",
   "id": "823d9fcf-103c-4475-8b80-960e9881e544",
   "metadata": {
    "editable": true,
    "slideshow": {
     "slide_type": "subslide"
    },
    "tags": []
   },
   "source": [
    "![terr](resources/9-terr-label.png)"
   ]
  },
  {
   "cell_type": "markdown",
   "id": "564c8404-f79d-40aa-90ce-ada8fd76a382",
   "metadata": {
    "editable": true,
    "slideshow": {
     "slide_type": "subslide"
    },
    "tags": []
   },
   "source": [
    "$$\\Delta g_{slab} + \\Delta g_{T} = \\Delta g_B$$\n",
    "![parts](resources/9-terr-parts.png)"
   ]
  },
  {
   "attachments": {},
   "cell_type": "markdown",
   "id": "e8be632d-728c-404a-b038-a12377b7da9b",
   "metadata": {
    "editable": true,
    "raw_mimetype": "",
    "slideshow": {
     "slide_type": "subslide"
    },
    "tags": []
   },
   "source": [
    "### Bouguer correction:\n",
    "* This is the gravitational effect of a slab with thickness h and infinite horizontal extent.\n",
    "    $$\\Delta g_{slab} = 2 \\pi \\gamma \\rho_B h $$\n",
    "* Assuming a density of $\\rho_B=2.67$ g/cc gives:\n",
    "    $$\\Delta g_{slab} = 0.1119\\frac{mGal}{m} h $$\n",
    "* Usually, the density is unknown, and it needs to be estimated by directly sampling or by using numerical techniques."
   ]
  },
  {
   "attachments": {},
   "cell_type": "markdown",
   "id": "36344bba-99d2-4d7a-add1-907b78bb1ed6",
   "metadata": {
    "editable": true,
    "slideshow": {
     "slide_type": "subslide"
    },
    "tags": []
   },
   "source": [
    "### Terrain Correction\n",
    "This part calculates the effect of what’s left by the simple Bouguer correction.\n",
    "* Essentially models the gravity response of this:\n",
    "![terr](resources/9-terr-only.png)\n",
    "* Don't do it yourself\n",
    "* Make a computer do it for you...\n",
    "  $$ \\Delta g_{T} = F(\\text{observation locations, terrain, density})$$"
   ]
  },
  {
   "cell_type": "markdown",
   "id": "11b9ae99-0b48-4a73-b75e-177c5f61567c",
   "metadata": {
    "editable": true,
    "slideshow": {
     "slide_type": "subslide"
    },
    "tags": []
   },
   "source": [
    "**note** Used to be done by hand using Hammer charts:\n",
    "![hammer](resources/9-hammer.png)"
   ]
  },
  {
   "cell_type": "code",
   "execution_count": null,
   "id": "b8e2387c-9fe6-41f3-9a65-41cffbf6a2b1",
   "metadata": {},
   "outputs": [],
   "source": []
  },
  {
   "cell_type": "markdown",
   "id": "3603d529-a254-44ac-abdd-f41d8c177a5d",
   "metadata": {
    "editable": true,
    "slideshow": {
     "slide_type": "subslide"
    },
    "tags": []
   },
   "source": [
    "$$ g_{total} - g_{sphere} - \\Delta g_{lat} - \\Delta g_{free-air} - \\Delta g_{drift} - \\Delta g_{eotvos} - \\Delta g_{iso} - \\Delta g_{B} = g_{anomaly}$$"
   ]
  },
  {
   "cell_type": "markdown",
   "id": "b2209d88-80ea-4088-a602-b434b6388a42",
   "metadata": {
    "editable": true,
    "slideshow": {
     "slide_type": "slide"
    },
    "tags": []
   },
   "source": [
    "## Corrections example, on a profile"
   ]
  },
  {
   "cell_type": "code",
   "execution_count": 19,
   "id": "665650ad-7ae8-4156-9f1e-d41a408e5bc7",
   "metadata": {
    "tags": []
   },
   "outputs": [],
   "source": [
    "import pandas as pd\n",
    "import numpy as np\n",
    "import matplotlib.pyplot as plt"
   ]
  },
  {
   "cell_type": "markdown",
   "id": "25de2d94-ef7b-497c-8a31-b8e5f5041453",
   "metadata": {},
   "source": [
    "# Read in some data\n",
    "\n",
    "Let's plot and read in some data"
   ]
  },
  {
   "cell_type": "code",
   "execution_count": 21,
   "id": "97273d91-845a-4853-8739-456d004a5c42",
   "metadata": {
    "collapsed": false,
    "jupyter": {
     "outputs_hidden": false
    },
    "tags": []
   },
   "outputs": [
    {
     "data": {
      "text/html": [
       "<div>\n",
       "<style scoped>\n",
       "    .dataframe tbody tr th:only-of-type {\n",
       "        vertical-align: middle;\n",
       "    }\n",
       "\n",
       "    .dataframe tbody tr th {\n",
       "        vertical-align: top;\n",
       "    }\n",
       "\n",
       "    .dataframe thead th {\n",
       "        text-align: right;\n",
       "    }\n",
       "</style>\n",
       "<table border=\"1\" class=\"dataframe\">\n",
       "  <thead>\n",
       "    <tr style=\"text-align: right;\">\n",
       "      <th></th>\n",
       "      <th>Station Label</th>\n",
       "      <th>Northing (m)</th>\n",
       "      <th>Elevation (m)</th>\n",
       "      <th>Time (h)</th>\n",
       "      <th>obs (mGal)</th>\n",
       "    </tr>\n",
       "  </thead>\n",
       "  <tbody>\n",
       "    <tr>\n",
       "      <th>0</th>\n",
       "      <td>Base</td>\n",
       "      <td>NaN</td>\n",
       "      <td>NaN</td>\n",
       "      <td>0.00</td>\n",
       "      <td>980081.07</td>\n",
       "    </tr>\n",
       "    <tr>\n",
       "      <th>1</th>\n",
       "      <td>0</td>\n",
       "      <td>0.0</td>\n",
       "      <td>1812.02</td>\n",
       "      <td>0.15</td>\n",
       "      <td>979724.81</td>\n",
       "    </tr>\n",
       "    <tr>\n",
       "      <th>2</th>\n",
       "      <td>1</td>\n",
       "      <td>50.0</td>\n",
       "      <td>1812.03</td>\n",
       "      <td>0.28</td>\n",
       "      <td>979724.96</td>\n",
       "    </tr>\n",
       "    <tr>\n",
       "      <th>3</th>\n",
       "      <td>2</td>\n",
       "      <td>100.0</td>\n",
       "      <td>1812.03</td>\n",
       "      <td>0.44</td>\n",
       "      <td>979725.13</td>\n",
       "    </tr>\n",
       "    <tr>\n",
       "      <th>4</th>\n",
       "      <td>3</td>\n",
       "      <td>150.0</td>\n",
       "      <td>1812.03</td>\n",
       "      <td>0.56</td>\n",
       "      <td>979725.28</td>\n",
       "    </tr>\n",
       "    <tr>\n",
       "      <th>5</th>\n",
       "      <td>4</td>\n",
       "      <td>200.0</td>\n",
       "      <td>1812.03</td>\n",
       "      <td>0.70</td>\n",
       "      <td>979725.44</td>\n",
       "    </tr>\n",
       "    <tr>\n",
       "      <th>6</th>\n",
       "      <td>5</td>\n",
       "      <td>250.0</td>\n",
       "      <td>1812.02</td>\n",
       "      <td>0.85</td>\n",
       "      <td>979725.62</td>\n",
       "    </tr>\n",
       "    <tr>\n",
       "      <th>7</th>\n",
       "      <td>6</td>\n",
       "      <td>300.0</td>\n",
       "      <td>1812.00</td>\n",
       "      <td>0.98</td>\n",
       "      <td>979725.79</td>\n",
       "    </tr>\n",
       "    <tr>\n",
       "      <th>8</th>\n",
       "      <td>7</td>\n",
       "      <td>350.0</td>\n",
       "      <td>1811.93</td>\n",
       "      <td>1.10</td>\n",
       "      <td>979725.97</td>\n",
       "    </tr>\n",
       "    <tr>\n",
       "      <th>9</th>\n",
       "      <td>Base</td>\n",
       "      <td>NaN</td>\n",
       "      <td>NaN</td>\n",
       "      <td>1.20</td>\n",
       "      <td>980081.94</td>\n",
       "    </tr>\n",
       "    <tr>\n",
       "      <th>10</th>\n",
       "      <td>8</td>\n",
       "      <td>400.0</td>\n",
       "      <td>1811.80</td>\n",
       "      <td>1.30</td>\n",
       "      <td>979726.23</td>\n",
       "    </tr>\n",
       "    <tr>\n",
       "      <th>11</th>\n",
       "      <td>9</td>\n",
       "      <td>450.0</td>\n",
       "      <td>1811.56</td>\n",
       "      <td>1.38</td>\n",
       "      <td>979726.45</td>\n",
       "    </tr>\n",
       "    <tr>\n",
       "      <th>12</th>\n",
       "      <td>10</td>\n",
       "      <td>500.0</td>\n",
       "      <td>1811.11</td>\n",
       "      <td>1.49</td>\n",
       "      <td>979726.77</td>\n",
       "    </tr>\n",
       "    <tr>\n",
       "      <th>13</th>\n",
       "      <td>11</td>\n",
       "      <td>550.0</td>\n",
       "      <td>1810.33</td>\n",
       "      <td>1.63</td>\n",
       "      <td>979727.21</td>\n",
       "    </tr>\n",
       "    <tr>\n",
       "      <th>14</th>\n",
       "      <td>12</td>\n",
       "      <td>600.0</td>\n",
       "      <td>1808.96</td>\n",
       "      <td>1.71</td>\n",
       "      <td>979727.78</td>\n",
       "    </tr>\n",
       "    <tr>\n",
       "      <th>15</th>\n",
       "      <td>13</td>\n",
       "      <td>650.0</td>\n",
       "      <td>1806.62</td>\n",
       "      <td>1.84</td>\n",
       "      <td>979728.68</td>\n",
       "    </tr>\n",
       "    <tr>\n",
       "      <th>16</th>\n",
       "      <td>14</td>\n",
       "      <td>700.0</td>\n",
       "      <td>1802.66</td>\n",
       "      <td>1.95</td>\n",
       "      <td>979730.04</td>\n",
       "    </tr>\n",
       "    <tr>\n",
       "      <th>17</th>\n",
       "      <td>15</td>\n",
       "      <td>750.0</td>\n",
       "      <td>1795.99</td>\n",
       "      <td>2.10</td>\n",
       "      <td>979732.21</td>\n",
       "    </tr>\n",
       "    <tr>\n",
       "      <th>18</th>\n",
       "      <td>16</td>\n",
       "      <td>800.0</td>\n",
       "      <td>1784.87</td>\n",
       "      <td>2.25</td>\n",
       "      <td>979735.59</td>\n",
       "    </tr>\n",
       "    <tr>\n",
       "      <th>19</th>\n",
       "      <td>17</td>\n",
       "      <td>850.0</td>\n",
       "      <td>1766.42</td>\n",
       "      <td>2.40</td>\n",
       "      <td>979740.68</td>\n",
       "    </tr>\n",
       "    <tr>\n",
       "      <th>20</th>\n",
       "      <td>Base</td>\n",
       "      <td>NaN</td>\n",
       "      <td>NaN</td>\n",
       "      <td>2.50</td>\n",
       "      <td>980082.86</td>\n",
       "    </tr>\n",
       "    <tr>\n",
       "      <th>21</th>\n",
       "      <td>18</td>\n",
       "      <td>900.0</td>\n",
       "      <td>1735.97</td>\n",
       "      <td>2.65</td>\n",
       "      <td>979748.46</td>\n",
       "    </tr>\n",
       "    <tr>\n",
       "      <th>22</th>\n",
       "      <td>19</td>\n",
       "      <td>950.0</td>\n",
       "      <td>1783.73</td>\n",
       "      <td>2.73</td>\n",
       "      <td>979738.37</td>\n",
       "    </tr>\n",
       "    <tr>\n",
       "      <th>23</th>\n",
       "      <td>20</td>\n",
       "      <td>1000.0</td>\n",
       "      <td>1821.67</td>\n",
       "      <td>2.80</td>\n",
       "      <td>979730.29</td>\n",
       "    </tr>\n",
       "    <tr>\n",
       "      <th>24</th>\n",
       "      <td>21</td>\n",
       "      <td>1050.0</td>\n",
       "      <td>1856.93</td>\n",
       "      <td>2.90</td>\n",
       "      <td>979722.71</td>\n",
       "    </tr>\n",
       "    <tr>\n",
       "      <th>25</th>\n",
       "      <td>22</td>\n",
       "      <td>1100.0</td>\n",
       "      <td>1895.44</td>\n",
       "      <td>3.00</td>\n",
       "      <td>979714.42</td>\n",
       "    </tr>\n",
       "    <tr>\n",
       "      <th>26</th>\n",
       "      <td>23</td>\n",
       "      <td>1150.0</td>\n",
       "      <td>1942.97</td>\n",
       "      <td>3.10</td>\n",
       "      <td>979704.38</td>\n",
       "    </tr>\n",
       "    <tr>\n",
       "      <th>27</th>\n",
       "      <td>24</td>\n",
       "      <td>1200.0</td>\n",
       "      <td>2006.09</td>\n",
       "      <td>3.20</td>\n",
       "      <td>979691.40</td>\n",
       "    </tr>\n",
       "    <tr>\n",
       "      <th>28</th>\n",
       "      <td>25</td>\n",
       "      <td>1250.0</td>\n",
       "      <td>1948.75</td>\n",
       "      <td>3.40</td>\n",
       "      <td>979702.79</td>\n",
       "    </tr>\n",
       "    <tr>\n",
       "      <th>29</th>\n",
       "      <td>26</td>\n",
       "      <td>1300.0</td>\n",
       "      <td>1908.31</td>\n",
       "      <td>3.50</td>\n",
       "      <td>979710.62</td>\n",
       "    </tr>\n",
       "    <tr>\n",
       "      <th>30</th>\n",
       "      <td>27</td>\n",
       "      <td>1350.0</td>\n",
       "      <td>1879.81</td>\n",
       "      <td>3.60</td>\n",
       "      <td>979716.04</td>\n",
       "    </tr>\n",
       "    <tr>\n",
       "      <th>31</th>\n",
       "      <td>28</td>\n",
       "      <td>1400.0</td>\n",
       "      <td>1859.73</td>\n",
       "      <td>3.70</td>\n",
       "      <td>979719.84</td>\n",
       "    </tr>\n",
       "    <tr>\n",
       "      <th>32</th>\n",
       "      <td>Base</td>\n",
       "      <td>NaN</td>\n",
       "      <td>NaN</td>\n",
       "      <td>3.80</td>\n",
       "      <td>980083.75</td>\n",
       "    </tr>\n",
       "    <tr>\n",
       "      <th>33</th>\n",
       "      <td>29</td>\n",
       "      <td>1450.0</td>\n",
       "      <td>1845.58</td>\n",
       "      <td>4.00</td>\n",
       "      <td>979722.66</td>\n",
       "    </tr>\n",
       "    <tr>\n",
       "      <th>34</th>\n",
       "      <td>30</td>\n",
       "      <td>1500.0</td>\n",
       "      <td>1835.63</td>\n",
       "      <td>4.10</td>\n",
       "      <td>979724.57</td>\n",
       "    </tr>\n",
       "    <tr>\n",
       "      <th>35</th>\n",
       "      <td>31</td>\n",
       "      <td>1550.0</td>\n",
       "      <td>1828.62</td>\n",
       "      <td>4.20</td>\n",
       "      <td>979725.95</td>\n",
       "    </tr>\n",
       "    <tr>\n",
       "      <th>36</th>\n",
       "      <td>32</td>\n",
       "      <td>1600.0</td>\n",
       "      <td>1823.69</td>\n",
       "      <td>4.30</td>\n",
       "      <td>979726.95</td>\n",
       "    </tr>\n",
       "    <tr>\n",
       "      <th>37</th>\n",
       "      <td>33</td>\n",
       "      <td>1650.0</td>\n",
       "      <td>1820.22</td>\n",
       "      <td>4.40</td>\n",
       "      <td>979727.68</td>\n",
       "    </tr>\n",
       "    <tr>\n",
       "      <th>38</th>\n",
       "      <td>34</td>\n",
       "      <td>1700.0</td>\n",
       "      <td>1817.78</td>\n",
       "      <td>4.50</td>\n",
       "      <td>979728.22</td>\n",
       "    </tr>\n",
       "    <tr>\n",
       "      <th>39</th>\n",
       "      <td>35</td>\n",
       "      <td>1750.0</td>\n",
       "      <td>1816.06</td>\n",
       "      <td>4.60</td>\n",
       "      <td>979728.63</td>\n",
       "    </tr>\n",
       "    <tr>\n",
       "      <th>40</th>\n",
       "      <td>36</td>\n",
       "      <td>1800.0</td>\n",
       "      <td>1814.85</td>\n",
       "      <td>4.70</td>\n",
       "      <td>979728.95</td>\n",
       "    </tr>\n",
       "    <tr>\n",
       "      <th>41</th>\n",
       "      <td>37</td>\n",
       "      <td>1850.0</td>\n",
       "      <td>1814.01</td>\n",
       "      <td>4.80</td>\n",
       "      <td>979729.20</td>\n",
       "    </tr>\n",
       "    <tr>\n",
       "      <th>42</th>\n",
       "      <td>38</td>\n",
       "      <td>1900.0</td>\n",
       "      <td>1813.41</td>\n",
       "      <td>4.90</td>\n",
       "      <td>979729.40</td>\n",
       "    </tr>\n",
       "    <tr>\n",
       "      <th>43</th>\n",
       "      <td>39</td>\n",
       "      <td>1950.0</td>\n",
       "      <td>1812.99</td>\n",
       "      <td>5.00</td>\n",
       "      <td>979729.58</td>\n",
       "    </tr>\n",
       "    <tr>\n",
       "      <th>44</th>\n",
       "      <td>40</td>\n",
       "      <td>2000.0</td>\n",
       "      <td>1812.70</td>\n",
       "      <td>5.10</td>\n",
       "      <td>979729.73</td>\n",
       "    </tr>\n",
       "    <tr>\n",
       "      <th>45</th>\n",
       "      <td>Base</td>\n",
       "      <td>NaN</td>\n",
       "      <td>NaN</td>\n",
       "      <td>5.30</td>\n",
       "      <td>980084.73</td>\n",
       "    </tr>\n",
       "  </tbody>\n",
       "</table>\n",
       "</div>"
      ],
      "text/plain": [
       "   Station Label  Northing (m)  Elevation (m)  Time (h)  obs (mGal)\n",
       "0           Base           NaN            NaN      0.00   980081.07\n",
       "1              0           0.0        1812.02      0.15   979724.81\n",
       "2              1          50.0        1812.03      0.28   979724.96\n",
       "3              2         100.0        1812.03      0.44   979725.13\n",
       "4              3         150.0        1812.03      0.56   979725.28\n",
       "5              4         200.0        1812.03      0.70   979725.44\n",
       "6              5         250.0        1812.02      0.85   979725.62\n",
       "7              6         300.0        1812.00      0.98   979725.79\n",
       "8              7         350.0        1811.93      1.10   979725.97\n",
       "9           Base           NaN            NaN      1.20   980081.94\n",
       "10             8         400.0        1811.80      1.30   979726.23\n",
       "11             9         450.0        1811.56      1.38   979726.45\n",
       "12            10         500.0        1811.11      1.49   979726.77\n",
       "13            11         550.0        1810.33      1.63   979727.21\n",
       "14            12         600.0        1808.96      1.71   979727.78\n",
       "15            13         650.0        1806.62      1.84   979728.68\n",
       "16            14         700.0        1802.66      1.95   979730.04\n",
       "17            15         750.0        1795.99      2.10   979732.21\n",
       "18            16         800.0        1784.87      2.25   979735.59\n",
       "19            17         850.0        1766.42      2.40   979740.68\n",
       "20          Base           NaN            NaN      2.50   980082.86\n",
       "21            18         900.0        1735.97      2.65   979748.46\n",
       "22            19         950.0        1783.73      2.73   979738.37\n",
       "23            20        1000.0        1821.67      2.80   979730.29\n",
       "24            21        1050.0        1856.93      2.90   979722.71\n",
       "25            22        1100.0        1895.44      3.00   979714.42\n",
       "26            23        1150.0        1942.97      3.10   979704.38\n",
       "27            24        1200.0        2006.09      3.20   979691.40\n",
       "28            25        1250.0        1948.75      3.40   979702.79\n",
       "29            26        1300.0        1908.31      3.50   979710.62\n",
       "30            27        1350.0        1879.81      3.60   979716.04\n",
       "31            28        1400.0        1859.73      3.70   979719.84\n",
       "32          Base           NaN            NaN      3.80   980083.75\n",
       "33            29        1450.0        1845.58      4.00   979722.66\n",
       "34            30        1500.0        1835.63      4.10   979724.57\n",
       "35            31        1550.0        1828.62      4.20   979725.95\n",
       "36            32        1600.0        1823.69      4.30   979726.95\n",
       "37            33        1650.0        1820.22      4.40   979727.68\n",
       "38            34        1700.0        1817.78      4.50   979728.22\n",
       "39            35        1750.0        1816.06      4.60   979728.63\n",
       "40            36        1800.0        1814.85      4.70   979728.95\n",
       "41            37        1850.0        1814.01      4.80   979729.20\n",
       "42            38        1900.0        1813.41      4.90   979729.40\n",
       "43            39        1950.0        1812.99      5.00   979729.58\n",
       "44            40        2000.0        1812.70      5.10   979729.73\n",
       "45          Base           NaN            NaN      5.30   980084.73"
      ]
     },
     "execution_count": 21,
     "metadata": {},
     "output_type": "execute_result"
    }
   ],
   "source": [
    "data = pd.read_csv('resources/profile_data.csv')\n",
    "data"
   ]
  },
  {
   "cell_type": "markdown",
   "id": "dbaa037d-f681-404a-8b9b-2ac2df73ff47",
   "metadata": {},
   "source": [
    "First, let's get the indices of the base stations, and the indices of everywhere else."
   ]
  },
  {
   "cell_type": "code",
   "execution_count": 22,
   "id": "02ea63c7-2cf8-4054-8b13-6c9a5b16c427",
   "metadata": {
    "collapsed": false,
    "jupyter": {
     "outputs_hidden": false
    },
    "tags": []
   },
   "outputs": [
    {
     "data": {
      "text/plain": [
       "array([ 0,  9, 20, 32, 45])"
      ]
     },
     "execution_count": 22,
     "metadata": {},
     "output_type": "execute_result"
    }
   ],
   "source": [
    "base_inds = np.where(data['Station Label'] == \"Base\")[0]\n",
    "station_inds = np.where(data['Station Label'] != \"Base\")[0]\n",
    "base_inds"
   ]
  },
  {
   "cell_type": "markdown",
   "id": "9327f235-887c-4a58-b7e7-5ac5b1e3a39e",
   "metadata": {},
   "source": [
    "Now let's plot the observed value at each station, according to its northing location"
   ]
  },
  {
   "cell_type": "code",
   "execution_count": 23,
   "id": "2166ba58-67de-474a-abbf-1b1488195ab4",
   "metadata": {
    "collapsed": false,
    "jupyter": {
     "outputs_hidden": false
    },
    "tags": []
   },
   "outputs": [
    {
     "data": {
      "text/plain": [
       "<matplotlib.collections.PathCollection at 0x11dbd7f50>"
      ]
     },
     "execution_count": 23,
     "metadata": {},
     "output_type": "execute_result"
    },
    {
     "data": {
      "image/png": "[encoded data removed]",
      "text/plain": [
       "<Figure size 640x480 with 1 Axes>"
      ]
     },
     "metadata": {},
     "output_type": "display_data"
    }
   ],
   "source": [
    "plt.scatter(data['Northing (m)'][station_inds], data['obs (mGal)'][station_inds])"
   ]
  },
  {
   "cell_type": "markdown",
   "id": "f17a048c-817c-4566-833b-39e8f0fe2f4e",
   "metadata": {},
   "source": [
    "# Drift-Correction"
   ]
  },
  {
   "cell_type": "code",
   "execution_count": 24,
   "id": "943e463b-892f-4286-8290-b4483ce9e3b1",
   "metadata": {
    "collapsed": false,
    "jupyter": {
     "outputs_hidden": false
    },
    "tags": []
   },
   "outputs": [
    {
     "data": {
      "text/plain": [
       "[<matplotlib.lines.Line2D at 0x11e364440>]"
      ]
     },
     "execution_count": 24,
     "metadata": {},
     "output_type": "execute_result"
    },
    {
     "data": {
      "image/png": "[encoded data removed]",
      "text/plain": [
       "<Figure size 640x480 with 1 Axes>"
      ]
     },
     "metadata": {},
     "output_type": "display_data"
    }
   ],
   "source": [
    "plt.plot(data['Time (h)'][base_inds], data['obs (mGal)'][base_inds], marker='*', markersize=10)"
   ]
  },
  {
   "cell_type": "markdown",
   "id": "6a5d87ef-e557-492b-b0ce-d05a21fa42cd",
   "metadata": {},
   "source": [
    "We can do some nice stuff with python here to make this easy!\n",
    "So what do we want?\n",
    "* Need a function that describes the base station as a function of time...\n",
    "* Remove that variability from the observed data."
   ]
  },
  {
   "cell_type": "code",
   "execution_count": 25,
   "id": "8f81d74e-27a0-4ee9-aaa2-ff9ab6bd33e6",
   "metadata": {
    "collapsed": false,
    "jupyter": {
     "outputs_hidden": false
    },
    "tags": []
   },
   "outputs": [
    {
     "data": {
      "text/plain": [
       "<matplotlib.collections.PathCollection at 0x11e3ecfe0>"
      ]
     },
     "execution_count": 25,
     "metadata": {},
     "output_type": "execute_result"
    },
    {
     "data": {
      "image/png": "[encoded data removed]",
      "text/plain": [
       "<Figure size 640x480 with 1 Axes>"
      ]
     },
     "metadata": {},
     "output_type": "display_data"
    }
   ],
   "source": [
    "# part one sounds like an interpolation....\n",
    "# Want to interpolate the values of the base station at times of the observations!\n",
    "times = data['Time (h)']\n",
    "obs = data['obs (mGal)']\n",
    "\n",
    "g_drift = np.interp(times[station_inds], times[base_inds], obs[base_inds])\n",
    "\n",
    "plt.scatter(times[station_inds], g_drift)"
   ]
  },
  {
   "cell_type": "code",
   "execution_count": 27,
   "id": "d389dd50-c368-44cb-8be6-db6f46eeed1f",
   "metadata": {
    "collapsed": false,
    "jupyter": {
     "outputs_hidden": false
    },
    "tags": []
   },
   "outputs": [
    {
     "data": {
      "text/plain": [
       "Text(0, 0.5, 'drift corrected (mGal)')"
      ]
     },
     "execution_count": 27,
     "metadata": {},
     "output_type": "execute_result"
    },
    {
     "data": {
      "image/png": "[encoded data removed]",
      "text/plain": [
       "<Figure size 500x500 with 2 Axes>"
      ]
     },
     "metadata": {},
     "output_type": "display_data"
    }
   ],
   "source": [
    "fig, ax1 = plt.subplots(figsize=(5, 5))\n",
    "ax2 = ax1.twinx()\n",
    "\n",
    "p1 = ax1.scatter(times[station_inds], obs[station_inds], color='C0', label='observed')\n",
    "p2 = ax2.scatter(times[station_inds], obs[station_inds]-g_drift, color='C1', label='drift corrected')\n",
    "\n",
    "ax1.legend(handles=[p1, p2])\n",
    "ax1.set_ylabel('observed (mGal)')\n",
    "ax2.set_ylabel('drift corrected (mGal)')"
   ]
  },
  {
   "cell_type": "markdown",
   "id": "a2139798-d065-4036-b7a2-a6ee939de169",
   "metadata": {},
   "source": [
    "Now the other ones are pretty formulaic\n",
    "# Free air\n",
    "\n",
    "$$ \\Delta g_{FA} = -0.3086 (mGal/m) * h $$"
   ]
  },
  {
   "cell_type": "code",
   "execution_count": 28,
   "id": "4c9f19e2-c4f4-4157-bbd6-9e5bc773414f",
   "metadata": {
    "collapsed": false,
    "jupyter": {
     "outputs_hidden": false
    },
    "tags": []
   },
   "outputs": [
    {
     "data": {
      "text/plain": [
       "Text(0, 0.5, 'Elevations (m)')"
      ]
     },
     "execution_count": 28,
     "metadata": {},
     "output_type": "execute_result"
    },
    {
     "data": {
      "image/png": "[encoded data removed]",
      "text/plain": [
       "<Figure size 640x480 with 1 Axes>"
      ]
     },
     "metadata": {},
     "output_type": "display_data"
    }
   ],
   "source": [
    "# Do the free air correction\n",
    "profile = data['Northing (m)'][station_inds]\n",
    "height = data['Elevation (m)'][station_inds]\n",
    "plt.plot(profile, height)\n",
    "plt.xlabel('Northing (m)')\n",
    "plt.ylabel('Elevations (m)')"
   ]
  },
  {
   "cell_type": "code",
   "execution_count": 30,
   "id": "8b0d360e-3559-4869-9cf8-96ebce70de43",
   "metadata": {
    "tags": []
   },
   "outputs": [
    {
     "data": {
      "text/plain": [
       "<matplotlib.collections.PathCollection at 0x11e6e6c00>"
      ]
     },
     "execution_count": 30,
     "metadata": {},
     "output_type": "execute_result"
    },
    {
     "data": {
      "image/png": "[encoded data removed]",
      "text/plain": [
       "<Figure size 640x480 with 1 Axes>"
      ]
     },
     "metadata": {},
     "output_type": "display_data"
    }
   ],
   "source": [
    "g_obs = data['obs (mGal)'][station_inds]\n",
    "\n",
    "g_fa = -0.3086 * height\n",
    "\n",
    "\n",
    "plt.scatter(profile, g_obs - g_drift - g_fa)"
   ]
  },
  {
   "cell_type": "markdown",
   "id": "d9f7d9ef-203f-4126-b9af-56ebe99d2f58",
   "metadata": {},
   "source": [
    "# Simple Bouguer correction\n",
    "\n",
    "The simple bouguer correction removes an infinite slab with a thickness $h$ from the data.\n",
    "\n",
    "$$\\Delta g_{Bouguer} = 2 \\pi \\gamma \\rho h$$\n",
    "\n",
    "For $\\rho = 2.67 g/cc$ this gives:\n",
    "\n",
    "$$\\Delta g_{booger} = 0.1119 (mGal/m) * h $$"
   ]
  },
  {
   "cell_type": "code",
   "execution_count": 31,
   "id": "985387b9-a0f0-4ec4-ab9f-337ab010e86a",
   "metadata": {
    "collapsed": false,
    "jupyter": {
     "outputs_hidden": false
    },
    "pycharm": {
     "is_executing": true
    },
    "tags": []
   },
   "outputs": [
    {
     "data": {
      "text/plain": [
       "<matplotlib.collections.PathCollection at 0x11e6e62a0>"
      ]
     },
     "execution_count": 31,
     "metadata": {},
     "output_type": "execute_result"
    },
    {
     "data": {
      "image/png": "[encoded data removed]",
      "text/plain": [
       "<Figure size 640x480 with 1 Axes>"
      ]
     },
     "metadata": {},
     "output_type": "display_data"
    }
   ],
   "source": [
    "g_booger = 0.1119 * height # 2 pi gamma rho * h,  (rho=2.67)\n",
    "\n",
    "\n",
    "plt.scatter(profile, g_obs - g_drift - g_fa - g_booger)"
   ]
  },
  {
   "cell_type": "markdown",
   "id": "c197458b-60bc-4500-bca5-eed1df6f3da4",
   "metadata": {},
   "source": [
    "# Latitude correction\n",
    "\n",
    "The full latitude correction is:\n",
    "\n",
    "$$ \\Delta g_{Lat} = g_e \\left( \\frac{1 + k \\sin^2 \\phi}{\\sqrt{1-e^2 \\sin^2 \\phi}} - 1\\right)$$\n",
    "\n",
    "with $g_e = 978032.67714 mGal$, $k =  0.00193185138639$, and $e^2=0.00669437999013$ at latitude $\\phi$\n",
    "\n",
    "\n",
    "However for this data set, we do not know the latitude of each point, we are only given the latitude at the relative 0 North of the profile (45$\\degree$) and the distance north from each point, thus we will use the local approximation:\n",
    "\n",
    "$$ \\Delta g_{Lat} = 0.001626 (mGal/m) * \\sin\\phi\\cos\\phi * \\Delta y$$\n",
    "\n",
    "where $\\Delta y$ is the difference in northing from the reference latitude point at $\\phi$\n",
    "\n",
    "this data has a reference point of 45$\\degree$\n",
    "\n",
    "**note:** Remember to convert from degrees to radians for numpy!"
   ]
  },
  {
   "cell_type": "code",
   "execution_count": 32,
   "id": "ce6ae15e-63f7-4295-898b-e22007b4353e",
   "metadata": {
    "collapsed": false,
    "jupyter": {
     "outputs_hidden": false
    },
    "tags": []
   },
   "outputs": [
    {
     "data": {
      "text/plain": [
       "<matplotlib.collections.PathCollection at 0x11e6e6180>"
      ]
     },
     "execution_count": 32,
     "metadata": {},
     "output_type": "execute_result"
    },
    {
     "data": {
      "image/png": "[encoded data removed]",
      "text/plain": [
       "<Figure size 640x480 with 1 Axes>"
      ]
     },
     "metadata": {},
     "output_type": "display_data"
    }
   ],
   "source": [
    "lat = np.pi/180 * 45\n",
    "\n",
    "g_lat = 0.001626 * np.sin(lat) * np.cos(lat) * profile\n",
    "\n",
    "plt.scatter(profile, g_obs - g_drift - g_fa - g_booger - g_lat)"
   ]
  },
  {
   "cell_type": "code",
   "execution_count": 33,
   "id": "beee7e8d-7f47-4f4d-9f9c-c5e40a17ab96",
   "metadata": {
    "tags": []
   },
   "outputs": [
    {
     "data": {
      "text/plain": [
       "<matplotlib.collections.PathCollection at 0x11e146180>"
      ]
     },
     "execution_count": 33,
     "metadata": {},
     "output_type": "execute_result"
    },
    {
     "data": {
      "image/png": "[encoded data removed]",
      "text/plain": [
       "<Figure size 640x480 with 1 Axes>"
      ]
     },
     "metadata": {},
     "output_type": "display_data"
    }
   ],
   "source": [
    "plt.scatter(profile, g_lat)"
   ]
  },
  {
   "cell_type": "code",
   "execution_count": 36,
   "id": "0ba32768-a618-4d97-9ed4-eeca507efea9",
   "metadata": {},
   "outputs": [
    {
     "data": {
      "text/plain": [
       "Text(0, 0.5, 'corrected (mGal)')"
      ]
     },
     "execution_count": 36,
     "metadata": {},
     "output_type": "execute_result"
    },
    {
     "data": {
      "image/png": "[encoded data removed]",
      "text/plain": [
       "<Figure size 800x800 with 2 Axes>"
      ]
     },
     "metadata": {},
     "output_type": "display_data"
    }
   ],
   "source": [
    "\n",
    "fig, ax1 = plt.subplots(figsize=(8, 8))\n",
    "ax2 = ax1.twinx()\n",
    "\n",
    "p1 = ax1.scatter(data['Northing (m)'][station_inds], data['obs (mGal)'][station_inds], label='observed', color='C0')\n",
    "p2 = ax2.scatter(profile, g_obs - g_drift - g_fa - g_booger - g_lat, label='corrected', color='C1')\n",
    "\n",
    "ax1.legend(handles=[p1, p2])\n",
    "ax1.set_ylabel('observed (mGal)')\n",
    "ax2.set_ylabel('corrected (mGal)')"
   ]
  },
  {
   "cell_type": "code",
   "execution_count": null,
   "id": "5388bd19-1807-4dea-b503-e73e2df97771",
   "metadata": {},
   "outputs": [],
   "source": []
  }
 ],
 "metadata": {
  "kernelspec": {
   "display_name": "Python 3 (ipykernel)",
   "language": "python",
   "name": "python3"
  },
  "language_info": {
   "codemirror_mode": {
    "name": "ipython",
    "version": 3
   },
   "file_extension": ".py",
   "mimetype": "text/x-python",
   "name": "python",
   "nbconvert_exporter": "python",
   "pygments_lexer": "ipython3",
   "version": "3.12.11"
  }
 },
 "nbformat": 4,
 "nbformat_minor": 5
}
