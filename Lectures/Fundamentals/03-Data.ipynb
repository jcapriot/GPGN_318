{
 "cells": [
  {
   "cell_type": "markdown",
   "id": "062eb825-85ce-4075-802e-cac2e202e5d8",
   "metadata": {
    "editable": true,
    "slideshow": {
     "slide_type": "slide"
    },
    "tags": []
   },
   "source": [
    "# Working with data\n",
    "-------------"
   ]
  },
  {
   "cell_type": "code",
   "execution_count": null,
   "id": "5a866694-9034-4264-ae53-b4d31eb9baa6",
   "metadata": {
    "editable": true,
    "slideshow": {
     "slide_type": "notes"
    },
    "tags": []
   },
   "outputs": [],
   "source": [
    "import scipy.stats as spst\n",
    "import numpy as np\n",
    "import matplotlib.pyplot as plt\n",
    "import pandas as pd"
   ]
  },
  {
   "cell_type": "markdown",
   "id": "24dcd2aa-eb2f-43e7-a74e-ca76fa494e9d",
   "metadata": {
    "editable": true,
    "slideshow": {
     "slide_type": "subslide"
    },
    "tags": []
   },
   "source": [
    "### Today's Goals:\n",
    "* Common operations for reading in data\n",
    "* Descriptions of data\n",
    "* Presenting data\n",
    "* Statistical measures"
   ]
  },
  {
   "cell_type": "markdown",
   "id": "4d03b968-0557-411f-a97d-da174835b80d",
   "metadata": {
    "editable": true,
    "slideshow": {
     "slide_type": "subslide"
    },
    "tags": []
   },
   "source": [
    "What is data?"
   ]
  },
  {
   "cell_type": "markdown",
   "id": "8760614e-b8ef-4d1b-b8fd-a7ef055339a1",
   "metadata": {
    "editable": true,
    "slideshow": {
     "slide_type": "fragment"
    },
    "tags": []
   },
   "source": [
    "What is metadata?"
   ]
  },
  {
   "cell_type": "markdown",
   "id": "3c09b2df-3095-4f4f-8ef6-41784a1d3af0",
   "metadata": {
    "editable": true,
    "slideshow": {
     "slide_type": "slide"
    },
    "tags": []
   },
   "source": [
    "# An example data set\n",
    "Let's work through some common operations involved with *reading* in and *displaying* data. These files were downloaded from [Kauring data](https://ecat.ga.gov.au/geonetwork/srv/eng/catalog.search#/metadata/70811):\n",
    "\n",
    "\n",
    "Inside the KauringGravity folder are a few files:\n",
    " * A point located [data file](KauringGravity/Kauring%20AG-AGG%20Ground%20Gravity%202009%20AGG%20Area%20Data.dat)\n",
    " * a [README](KauringGravity/Kauring%20AG-AGG%20Ground%20Gravity%202009%20AGG%20Area%20Data%20--%20README.txt)\n",
    " * A [header file](Lectures/Fundamentals/KauringGravity/Kauring%20AG-AGG%20Ground%20Gravity%202009%20AGG%20Area%20Data.dfn) describing the columns of the data files"
   ]
  },
  {
   "cell_type": "markdown",
   "id": "a8ed07d9-73a5-4306-912c-0992f37e426a",
   "metadata": {
    "editable": true,
    "slideshow": {
     "slide_type": "subslide"
    },
    "tags": []
   },
   "source": [
    "You are all likely familiar with using pandas to read in data files, so let's stick with that."
   ]
  },
  {
   "cell_type": "code",
   "execution_count": null,
   "id": "cf4a54dc-10ff-40fe-828a-270c4b07ce3e",
   "metadata": {
    "editable": true,
    "slideshow": {
     "slide_type": "fragment"
    },
    "tags": []
   },
   "outputs": [],
   "source": [
    "import pandas as pd"
   ]
  },
  {
   "cell_type": "code",
   "execution_count": null,
   "id": "a78b4c06-f59e-4d0f-a04d-17b412156740",
   "metadata": {
    "editable": true,
    "slideshow": {
     "slide_type": "fragment"
    },
    "tags": []
   },
   "outputs": [],
   "source": [
    "data_file_name = 'KauringGravity/Kauring AG-AGG Ground Gravity 2009 AGG Area Data.dat'"
   ]
  },
  {
   "cell_type": "code",
   "execution_count": null,
   "id": "dfdd747a-3b40-4b88-b7a9-0f0ce2e9b6c2",
   "metadata": {
    "editable": true,
    "slideshow": {
     "slide_type": "fragment"
    },
    "tags": []
   },
   "outputs": [],
   "source": [
    "pd.read_table(data_file_name)"
   ]
  },
  {
   "cell_type": "markdown",
   "id": "122dd9f0-bf6d-4cab-8197-cf945412e205",
   "metadata": {
    "editable": true,
    "slideshow": {
     "slide_type": "subslide"
    },
    "tags": []
   },
   "source": [
    "That did something, there is data there, but likely not in a way we can actually use it...\n",
    "\n",
    "Let's give panda's some more information, starting with explicitly telling it the delimiter (separator)"
   ]
  },
  {
   "cell_type": "code",
   "execution_count": null,
   "id": "216c0787-6948-41c4-aa73-ae38d2838f31",
   "metadata": {
    "editable": true,
    "slideshow": {
     "slide_type": "fragment"
    },
    "tags": []
   },
   "outputs": [],
   "source": [
    "pd.read_table(data_file_name) "
   ]
  },
  {
   "cell_type": "markdown",
   "id": "457f4f12-d195-4653-8cfa-f725bcd69162",
   "metadata": {
    "editable": true,
    "slideshow": {
     "slide_type": "subslide"
    },
    "tags": []
   },
   "source": [
    "Well that looks better, we have the expected number of columns!\n",
    "\n",
    "What else is wrong though?"
   ]
  },
  {
   "cell_type": "code",
   "execution_count": null,
   "id": "4d6bcec6-5220-4ce7-9716-fd3b039cc8eb",
   "metadata": {
    "editable": true,
    "slideshow": {
     "slide_type": "fragment"
    },
    "tags": []
   },
   "outputs": [],
   "source": [
    "# don't interpret the first line as a header, it is actually data\n",
    "pd.read_table(data_file_name, sep=r\"\\s+\", header=None)"
   ]
  },
  {
   "cell_type": "markdown",
   "id": "9e266139-9463-4a1a-8f66-f7ef09a59ec4",
   "metadata": {
    "editable": true,
    "slideshow": {
     "slide_type": "subslide"
    },
    "tags": []
   },
   "source": [
    "Now what?\n",
    "\n",
    "This data is in a completely useable format, but it could be a bit easier if we gave each column an appropriate name...\n",
    "\n",
    "The `.dfn` file has some good names! Let's make a list of them."
   ]
  },
  {
   "cell_type": "code",
   "execution_count": null,
   "id": "31aabb8b-28dd-434e-8752-4b3b3e1b6d33",
   "metadata": {
    "editable": true,
    "slideshow": {
     "slide_type": "fragment"
    },
    "tags": []
   },
   "outputs": [],
   "source": [
    "header_file_name = 'KauringGravity/Kauring AG-AGG Ground Gravity 2009 AGG Area Data.dfn'"
   ]
  },
  {
   "cell_type": "code",
   "execution_count": null,
   "id": "8af969a2-91ad-46a7-a66c-82a2d8c3c63f",
   "metadata": {
    "editable": true,
    "scrolled": true,
    "slideshow": {
     "slide_type": "fragment"
    },
    "tags": []
   },
   "outputs": [],
   "source": [
    "with open(header_file_name) as f:\n",
    "    while line:=f.readline():\n",
    "        print(line)"
   ]
  },
  {
   "cell_type": "markdown",
   "id": "a111e9cf-b2ca-4df3-9af0-b716fd793c82",
   "metadata": {
    "editable": true,
    "slideshow": {
     "slide_type": "subslide"
    },
    "tags": []
   },
   "source": [
    "Looks like there are descriptions of two data files in here:\n",
    "1) The point data\n",
    "2) The coordinate reference frame\n",
    "\n",
    "Let's grab the labels of the data frame here\n",
    "\n",
    "an example line looks like \n",
    "\n",
    "`DEFN 23 ST=RECD,RT=;UNITS_OF_ELLIPSOID_GROUND_HGT:A7:NULL=9999`\n",
    "\n",
    "how can we separate out the `UNITS_OF_ELLIPSOID_GROUND_HGT` from the above string?"
   ]
  },
  {
   "cell_type": "code",
   "execution_count": null,
   "id": "2a1f83ac-b3b4-4768-bb20-63571d65d1cb",
   "metadata": {
    "editable": true,
    "slideshow": {
     "slide_type": "subslide"
    },
    "tags": []
   },
   "outputs": [],
   "source": [
    "example_line = \"DEFN 23 ST=RECD,RT=;UNITS_OF_ELLIPSOID_GROUND_HGT:A7:NULL=9999\\n\""
   ]
  },
  {
   "cell_type": "code",
   "execution_count": null,
   "id": "4223f292-82db-4daa-86bb-bc9270f8d676",
   "metadata": {
    "editable": true,
    "scrolled": true,
    "slideshow": {
     "slide_type": "fragment"
    },
    "tags": []
   },
   "outputs": [],
   "source": [
    "labels = []\n",
    "with open(header_file_name) as f:\n",
    "    f.readline() # read the first line, and do nothing\n",
    "    for i in range(74): # read the next 74 lines\n",
    "        line = f.readline()\n",
    "        name = line.split(\";\")[1].split(\":\")[0]\n",
    "        labels.append(name)\n",
    "labels"
   ]
  },
  {
   "cell_type": "code",
   "execution_count": null,
   "id": "c417f006-71cf-4ca8-8816-a2a1c52f62d9",
   "metadata": {
    "editable": true,
    "scrolled": true,
    "slideshow": {
     "slide_type": "subslide"
    },
    "tags": []
   },
   "outputs": [],
   "source": [
    "# Now let's also give the pandas reader the column names\n",
    "dat = pd.read_table(data_file_name, sep=r\"\\s+\", names=labels)\n",
    "dat"
   ]
  },
  {
   "cell_type": "markdown",
   "id": "0ac8b050-a026-40e6-8cca-f0c0f51173bc",
   "metadata": {
    "editable": true,
    "jp-MarkdownHeadingCollapsed": true,
    "slideshow": {
     "slide_type": "subslide"
    },
    "tags": []
   },
   "source": [
    "## Key thoughts on reading in data files\n",
    "* Data on its own is useless without metadata\n",
    "* Make use of available data readers (`pandas` or `numpy` in python)\n",
    "    * do not write code to read in data unless you absolutely have to\n",
    "    * You'll likely need to pass specific parameters to these functions to make it work with your file."
   ]
  },
  {
   "cell_type": "markdown",
   "id": "1cdb2204-1cbb-41c6-a600-8c2ff264b386",
   "metadata": {
    "editable": true,
    "slideshow": {
     "slide_type": "slide"
    },
    "tags": []
   },
   "source": [
    "# Fundamental thoughts on displaying data\n",
    "You want to be able to interpret the data you collect, often visually.\n",
    "\n",
    "in python `matplotlib` is often a great place to start."
   ]
  },
  {
   "cell_type": "code",
   "execution_count": null,
   "id": "07abfbe0-5263-4d99-b5cf-fb30808885ae",
   "metadata": {
    "editable": true,
    "slideshow": {
     "slide_type": "fragment"
    },
    "tags": []
   },
   "outputs": [],
   "source": [
    "import matplotlib.pyplot as plt"
   ]
  },
  {
   "cell_type": "code",
   "execution_count": null,
   "id": "e09d424c-f8cb-4e95-b3e1-b34d8f5b7afc",
   "metadata": {
    "editable": true,
    "slideshow": {
     "slide_type": "skip"
    },
    "tags": []
   },
   "outputs": [],
   "source": [
    "lats = dat['LATITUDE']\n",
    "lons = dat['LONGITUDE']"
   ]
  },
  {
   "cell_type": "code",
   "execution_count": null,
   "id": "a7a12e8c-8c1f-4161-a819-5868be422c64",
   "metadata": {
    "editable": true,
    "slideshow": {
     "slide_type": "subslide"
    },
    "tags": []
   },
   "outputs": [],
   "source": [
    "# creating a simple scatter plot\n",
    "plt.scatter(lons, lats)"
   ]
  },
  {
   "cell_type": "markdown",
   "id": "93e96056-811b-41c6-97f5-f4227fd322f8",
   "metadata": {
    "editable": true,
    "slideshow": {
     "slide_type": "subslide"
    },
    "tags": []
   },
   "source": [
    "It looks like this data set also has UTM coordinates associated with it too!"
   ]
  },
  {
   "cell_type": "code",
   "execution_count": null,
   "id": "0d43a118-8c2b-4d3b-a0d3-6cf50c1fe765",
   "metadata": {
    "editable": true,
    "slideshow": {
     "slide_type": "fragment"
    },
    "tags": []
   },
   "outputs": [],
   "source": [
    "dat_x = dat['X_GDA94_MGA50']\n",
    "dat_y = dat['Y_GDA94_MGA50']\n",
    "plt.scatter(dat_x, dat_y)"
   ]
  },
  {
   "cell_type": "markdown",
   "id": "cfc617d4-a795-4586-9b2b-fed3fc99d8ab",
   "metadata": {
    "editable": true,
    "slideshow": {
     "slide_type": "subslide"
    },
    "tags": []
   },
   "source": [
    "What's missing from these plots?\n",
    "\n",
    "How can we make them better?"
   ]
  },
  {
   "cell_type": "markdown",
   "id": "a7a5a1bd-da2e-4a8a-8e50-ac4dd73dd0c4",
   "metadata": {
    "editable": true,
    "slideshow": {
     "slide_type": "subslide"
    },
    "tags": []
   },
   "source": [
    "## Plotting values associated with spatial locations\n",
    "\n",
    "Q: What's difficult about plotting values associated with these locations?"
   ]
  },
  {
   "cell_type": "markdown",
   "id": "c438dc2b-4174-4752-8b12-b48a795d2786",
   "metadata": {
    "editable": true,
    "slideshow": {
     "slide_type": "fragment"
    },
    "tags": []
   },
   "source": [
    "* It's not a regular grid\n",
    "* It's at an angle"
   ]
  },
  {
   "cell_type": "markdown",
   "id": "4467008b-c274-4715-9056-dccce9150a91",
   "metadata": {
    "editable": true,
    "slideshow": {
     "slide_type": "subslide"
    },
    "tags": []
   },
   "source": [
    "Some options:\n",
    "1) Color the scatter plot points"
   ]
  },
  {
   "cell_type": "code",
   "execution_count": null,
   "id": "e08eafdc-525d-4499-820f-d8bb7dcf1c99",
   "metadata": {
    "editable": true,
    "slideshow": {
     "slide_type": "fragment"
    },
    "tags": []
   },
   "outputs": [],
   "source": [
    "grav_v = dat['INFINITE_SLAB_BOUGUER_ANOMALY']\n",
    "plt.scatter(dat_x, dat_y, c=grav_v, s=1)"
   ]
  },
  {
   "cell_type": "markdown",
   "id": "eeec4e1d-4a0a-41b7-a46b-2c45d182f8de",
   "metadata": {
    "editable": true,
    "slideshow": {
     "slide_type": "subslide"
    },
    "tags": []
   },
   "source": [
    "2) Interpolate to a regular grid and plot"
   ]
  },
  {
   "cell_type": "code",
   "execution_count": null,
   "id": "4e8fbfd2-bf50-4582-96c0-8ff60e76f2c9",
   "metadata": {
    "editable": true,
    "slideshow": {
     "slide_type": "fragment"
    },
    "tags": []
   },
   "outputs": [],
   "source": [
    "# The easy way!\n",
    "plt.tripcolor(dat_x, dat_y, grav_v)"
   ]
  },
  {
   "cell_type": "code",
   "execution_count": null,
   "id": "b2fa9f01-4af5-4af1-a653-3f6794f62acb",
   "metadata": {
    "editable": true,
    "slideshow": {
     "slide_type": "subslide"
    },
    "tags": []
   },
   "outputs": [],
   "source": [
    "# Change the interpolation method\n",
    "plt.tripcolor(dat_x, dat_y, grav_v, shading='gouraud')"
   ]
  },
  {
   "cell_type": "markdown",
   "id": "baef9dca-6e28-4370-aa53-3996cd1debe6",
   "metadata": {
    "editable": true,
    "slideshow": {
     "slide_type": "subslide"
    },
    "tags": []
   },
   "source": [
    "3) contour plot"
   ]
  },
  {
   "cell_type": "code",
   "execution_count": null,
   "id": "200d4891-e4f1-4b28-95ca-81a93c19c16f",
   "metadata": {
    "editable": true,
    "slideshow": {
     "slide_type": "fragment"
    },
    "tags": []
   },
   "outputs": [],
   "source": [
    "plt.tricontour(dat_x, dat_y, grav_v, levels=20)"
   ]
  },
  {
   "cell_type": "code",
   "execution_count": null,
   "id": "d387c91e-8a5d-45f2-a71b-82ed25c1c25c",
   "metadata": {
    "editable": true,
    "slideshow": {
     "slide_type": "subslide"
    },
    "tags": []
   },
   "outputs": [],
   "source": [
    "plt.tricontourf(dat_x, dat_y, grav_v, levels=20)"
   ]
  },
  {
   "cell_type": "code",
   "execution_count": null,
   "id": "f5067938-e22b-476f-b676-794122cedf09",
   "metadata": {
    "editable": true,
    "slideshow": {
     "slide_type": "subslide"
    },
    "tags": []
   },
   "outputs": [],
   "source": [
    "# or both filled and contoured!\n",
    "plt.tricontourf(dat_x, dat_y, grav_v, levels=20)\n",
    "plt.tricontour(dat_x, dat_y, grav_v, levels=20, colors='w', alpha=0.25, linestyles='--')"
   ]
  },
  {
   "cell_type": "markdown",
   "id": "9cf35c30-e851-4fb6-b5fc-006f29476aee",
   "metadata": {
    "editable": true,
    "slideshow": {
     "slide_type": "subslide"
    },
    "tags": []
   },
   "source": [
    "## A note on colorbars"
   ]
  },
  {
   "cell_type": "code",
   "execution_count": null,
   "id": "15dfc0de-7f35-4acb-a27c-3a3cc6ee7ad4",
   "metadata": {
    "editable": true,
    "slideshow": {
     "slide_type": "notes"
    },
    "tags": []
   },
   "outputs": [],
   "source": [
    "def make_comparison(map1='viridis', map2='jet'):\n",
    "    plt.figure(figsize=(8,4), dpi=250)\n",
    "    plt.subplot(1,2,1)\n",
    "    plt.tripcolor(dat_x, dat_y, grav_v, cmap=map1, shading='gouraud')\n",
    "    plt.subplot(1,2,2)\n",
    "    plt.tripcolor(dat_x, dat_y, grav_v, cmap=map2, shading='gouraud')"
   ]
  },
  {
   "cell_type": "code",
   "execution_count": null,
   "id": "564d09a2-d6c3-46f4-afe4-f0d9c43c2b3b",
   "metadata": {
    "editable": true,
    "slideshow": {
     "slide_type": "subslide"
    },
    "tags": []
   },
   "outputs": [],
   "source": [
    "make_comparison()"
   ]
  },
  {
   "cell_type": "markdown",
   "id": "d6f8acc3-55a6-4828-a21a-7b8efb1bfc93",
   "metadata": {
    "editable": true,
    "slideshow": {
     "slide_type": "subslide"
    },
    "tags": []
   },
   "source": [
    "### What's wrong with Jet?\n",
    "\n",
    "... alot"
   ]
  },
  {
   "cell_type": "code",
   "execution_count": null,
   "id": "f66abdc4-2533-4c37-a17b-312e6afa1632",
   "metadata": {
    "editable": true,
    "slideshow": {
     "slide_type": "notes"
    },
    "tags": []
   },
   "outputs": [],
   "source": [
    "import numpy as np\n",
    "from colorspacious import cspace_convert\n",
    "from matplotlib.colors import ListedColormap\n",
    "\n",
    "def make_simple(map1='viridis', map2='jet', colorblind=None):\n",
    "    x = np.linspace(10, 20, 256)\n",
    "    y = np.ones(100)\n",
    "    v = x[None, :] * y[:, None]\n",
    "\n",
    "    map1 = plt.get_cmap(map1)\n",
    "    plt.figure(figsize=(8,4), dpi=250)\n",
    "    plt.subplot(1,2,1)\n",
    "    plt.imshow(v, cmap=map1)\n",
    "    plt.axis('off')\n",
    "    plt.title(map1.name)\n",
    "\n",
    "    map2 = plt.get_cmap(map2)\n",
    "    plt.subplot(1,2,2)\n",
    "    plt.imshow(v, cmap=map2)\n",
    "    plt.axis('off')\n",
    "    plt.title(map2.name)"
   ]
  },
  {
   "cell_type": "code",
   "execution_count": null,
   "id": "d4a09625-0162-4cee-a399-303c15ee423e",
   "metadata": {
    "editable": true,
    "slideshow": {
     "slide_type": "notes"
    },
    "tags": []
   },
   "outputs": [],
   "source": [
    "def as_colorblind(cmap, cvd_type=\"deuteranomaly\", severity=100):\n",
    "    assert cvd_type in {\n",
    "        \"deuteranomaly\",\n",
    "        \"protanomaly\",\n",
    "        \"tritanomaly\"\n",
    "    }\n",
    "\n",
    "    n_colors = 256\n",
    "    original_cmap = plt.get_cmap(cmap, n_colors)\n",
    "    rgb_colors = original_cmap(np.linspace(0, 1, n_colors))[:, :3] # Get RGB, discard alpha\n",
    "    # 2. Define the CVD simulation parameters\n",
    "    cvd_space = {\n",
    "        \"name\": \"sRGB1+CVD\",\n",
    "        \"cvd_type\": cvd_type,\n",
    "        \"severity\": severity,\n",
    "    }\n",
    "    # 3. Apply the CVD transformation and convert back to sRGB\n",
    "    simulated_rgb_colors = cspace_convert(rgb_colors, cvd_space, 'sRGB1')\n",
    "    \n",
    "    # Ensure values are within valid RGB range [0, 1]\n",
    "    simulated_rgb_colors = np.clip(simulated_rgb_colors, 0, 1)\n",
    "    cmap = ListedColormap(simulated_rgb_colors, name=original_cmap.name + \" \" + cvd_type)\n",
    "    return cmap\n",
    "\n",
    "def compare_colorblind(cmap, cvd_type=\"deuteranomaly\", severity=100):\n",
    "    make_simple(cmap, as_colorblind(cmap, cvd_type, severity))"
   ]
  },
  {
   "cell_type": "code",
   "execution_count": null,
   "id": "89524cc6-622a-4ab8-90cc-73ba296b48cb",
   "metadata": {
    "editable": true,
    "slideshow": {
     "slide_type": "subslide"
    },
    "tags": []
   },
   "outputs": [],
   "source": [
    "make_simple('jet', 'viridis')"
   ]
  },
  {
   "cell_type": "markdown",
   "id": "374f4ea4-e0f1-4780-8f8a-b5fb3f3d2c86",
   "metadata": {
    "editable": true,
    "slideshow": {
     "slide_type": "subslide"
    },
    "tags": []
   },
   "source": [
    "### Colorblindness...\n",
    "check this out: [changing matplotlib's defaults](https://bids.github.io/colormap/)\n",
    "\n",
    "Types of colorblindness\n",
    "* deuteranomaly - Red - Green colorblind (No greens)\n",
    "* protanomaly - Red - Green colorblind (No Reds)\n",
    "* tritanomaly - Blue - Yellow colorblind (No Blues)\n",
    "\n",
    "Red-greens colorblinds are about 1 in 12 male and 1 in 200 female, fairly common\n",
    "\n",
    "Tritanomaly is **very** rare (<0.1%)"
   ]
  },
  {
   "cell_type": "code",
   "execution_count": null,
   "id": "48cdf294-340e-4d09-b600-00c9e1048f2b",
   "metadata": {
    "editable": true,
    "slideshow": {
     "slide_type": "subslide"
    },
    "tags": []
   },
   "outputs": [],
   "source": [
    "compare_colorblind('jet', cvd_type=\"deuteranomaly\", severity=100)"
   ]
  },
  {
   "cell_type": "code",
   "execution_count": null,
   "id": "155cdab9-3f7d-4b59-ade9-4210e4baf61e",
   "metadata": {
    "editable": true,
    "slideshow": {
     "slide_type": "subslide"
    },
    "tags": []
   },
   "outputs": [],
   "source": [
    "cmap = 'jet'; make_comparison(cmap, as_colorblind(cmap))"
   ]
  },
  {
   "cell_type": "markdown",
   "id": "a7504078-9faf-4679-ab88-13ec07eb0150",
   "metadata": {
    "editable": true,
    "slideshow": {
     "slide_type": "subslide"
    },
    "tags": []
   },
   "source": [
    "### More information\n",
    "checkout matplotlib's descriptions of colormaps\n",
    "[here](https://matplotlib.org/stable/users/explain/colors/colormaps.html)."
   ]
  },
  {
   "cell_type": "markdown",
   "id": "59ef2513-dc12-424a-be01-092a5a8f6f1b",
   "metadata": {
    "editable": true,
    "slideshow": {
     "slide_type": "slide"
    },
    "tags": []
   },
   "source": [
    "# Statistics\n",
    "\n",
    "Q: When we take a measurement in the real world should we ever use an interpretation that exactly matches our measurement?"
   ]
  },
  {
   "cell_type": "markdown",
   "id": "e80e2331-5b08-4498-b740-4ed140f49ecf",
   "metadata": {
    "editable": true,
    "slideshow": {
     "slide_type": "subslide"
    },
    "tags": []
   },
   "source": [
    "## Errors in data\n",
    "Measurements always have sources of uncertainties.\n",
    "\n",
    "What can we do to reduce them?"
   ]
  },
  {
   "cell_type": "markdown",
   "id": "c4ac86e7-174e-4a71-b4b8-155aa3df1650",
   "metadata": {
    "editable": true,
    "slideshow": {
     "slide_type": "subslide"
    },
    "tags": []
   },
   "source": [
    "## Basic Idea:\n",
    "If the noise is random, take many measurements and average them."
   ]
  },
  {
   "cell_type": "code",
   "execution_count": null,
   "id": "8dd8ae45-902b-4f2a-8b5e-a8c77fb8ec1e",
   "metadata": {
    "editable": true,
    "slideshow": {
     "slide_type": ""
    },
    "tags": []
   },
   "outputs": [],
   "source": [
    "true = np.r_[1, 1]\n",
    "rng = np.random.default_rng(4421)\n",
    "\n",
    "obs = true + rng.standard_normal((3312, 2))\n",
    "\n",
    "avg = np.mean(obs, axis=0)\n",
    "avg"
   ]
  },
  {
   "cell_type": "code",
   "execution_count": null,
   "id": "eb37cf09-12ea-4c02-8d1d-47a7dd23c092",
   "metadata": {
    "editable": true,
    "slideshow": {
     "slide_type": "subslide"
    },
    "tags": []
   },
   "outputs": [],
   "source": [
    "plt.scatter(obs[:, 0], obs[:, 1], alpha=0.2, marker='.')\n",
    "plt.scatter(true[0], true[1])\n",
    "plt.scatter(avg[0], avg[1])"
   ]
  },
  {
   "cell_type": "markdown",
   "id": "562b971d-c445-4528-8b8e-7c4970a33fb5",
   "metadata": {
    "editable": true,
    "slideshow": {
     "slide_type": "subslide"
    },
    "tags": []
   },
   "source": [
    "# Probability distributions\n",
    "\n",
    "Measurements are statistical in nature, their errors usually follow some unknown probability distribution.\n",
    "\n",
    "Distributions are either:\n",
    "* Continuous\n",
    "* Discrete"
   ]
  },
  {
   "cell_type": "markdown",
   "id": "c4b3b038-023a-49b5-9cf9-1c68ff83fb57",
   "metadata": {
    "editable": true,
    "slideshow": {
     "slide_type": "subslide"
    },
    "tags": []
   },
   "source": [
    "## Common discrete distributions\n",
    "* Binomial: Number of success in a specific number of tests with a given probability of success.\n",
    "* Poisson: Number of expected events in a given amount of time, with a given probability of success. (a limit of the Binomial distribution)"
   ]
  },
  {
   "cell_type": "code",
   "execution_count": null,
   "id": "7a124d36-074c-4811-bcc9-f145d4e751ec",
   "metadata": {
    "editable": true,
    "slideshow": {
     "slide_type": "subslide"
    },
    "tags": []
   },
   "outputs": [],
   "source": [
    "# Parameters\n",
    "n = 100          # Number of trials\n",
    "p = 0.5         # Probability of success\n",
    "\n",
    "x = np.arange(0, n+1)\n",
    "\n",
    "pmf_values = spst.binom.pmf(x, n, p)\n",
    "\n",
    "# Plotting\n",
    "plt.bar(x, pmf_values, color='skyblue', edgecolor='black')\n",
    "plt.title(f'Binomial Distribution (n={n}, p={p})')\n",
    "plt.xlabel('Number of Successes')\n",
    "plt.ylabel('Probability')"
   ]
  },
  {
   "cell_type": "markdown",
   "id": "99f43755-fbdd-4c8e-8fb1-92da57bf3619",
   "metadata": {
    "editable": true,
    "slideshow": {
     "slide_type": "subslide"
    },
    "tags": []
   },
   "source": [
    "## Common continuous distributions\n",
    "* Uniform\n",
    "* Exponential\n",
    "* Laplace (or double exponential)\n",
    "* Normal (or Gaussian)\n",
    "* Chi-squared\n",
    "* Student's T-distribution\n",
    "\n",
    "A ton available through scipy see [here](https://docs.scipy.org/doc/scipy/reference/stats.html#continuous-distributions)"
   ]
  },
  {
   "cell_type": "code",
   "execution_count": null,
   "id": "0a928eb3-06fd-4215-9dbc-d696dc212773",
   "metadata": {
    "editable": true,
    "slideshow": {
     "slide_type": "subslide"
    },
    "tags": []
   },
   "outputs": [],
   "source": [
    "x = np.linspace(-4, 4, 256)\n",
    "\n",
    "pdf = spst.uniform.pdf(x, -2, 4)\n",
    "\n",
    "# Plotting\n",
    "plt.plot(x, pdf)\n",
    "plt.title(f'Uniform Distribution')\n",
    "plt.xlabel('X')\n",
    "plt.ylabel('Probability')"
   ]
  },
  {
   "cell_type": "code",
   "execution_count": null,
   "id": "bd4490b3-5381-4ebd-b6df-3c247d2677e4",
   "metadata": {
    "editable": true,
    "slideshow": {
     "slide_type": "subslide"
    },
    "tags": []
   },
   "outputs": [],
   "source": [
    "x = np.linspace(-4, 4, 256)\n",
    "pdf = spst.t.pdf(x, 2)\n",
    "\n",
    "# Plotting\n",
    "plt.plot(x, pdf)\n",
    "plt.title(f\"Student's T Distribution\")\n",
    "plt.xlabel('X')\n",
    "plt.ylabel('Probability')"
   ]
  },
  {
   "cell_type": "code",
   "execution_count": null,
   "id": "54f75927-f82a-499a-b6e7-0f7fa1f14927",
   "metadata": {
    "editable": true,
    "slideshow": {
     "slide_type": "subslide"
    },
    "tags": []
   },
   "outputs": [],
   "source": [
    "x = np.linspace(0, 20, 256)\n",
    "pdf = spst.chi2.pdf(x, 5)\n",
    "\n",
    "# Plotting\n",
    "plt.plot(x, pdf)\n",
    "plt.title(f\"Chi-Squared Distribution\")\n",
    "plt.xlabel('X')\n",
    "plt.ylabel('Probability')"
   ]
  },
  {
   "cell_type": "code",
   "execution_count": null,
   "id": "d767a9a3-d2a1-4da6-bf95-2c04e3878f9e",
   "metadata": {
    "editable": true,
    "slideshow": {
     "slide_type": "subslide"
    },
    "tags": []
   },
   "outputs": [],
   "source": [
    "x = np.linspace(0, 20, 256)\n",
    "pdf = spst.lognorm.pdf(x, 50)\n",
    "\n",
    "# Plotting\n",
    "plt.plot(x, pdf)\n",
    "plt.title(f\"Log-normal Distribution\")\n",
    "plt.xlabel('X')\n",
    "plt.ylabel('Probability')"
   ]
  },
  {
   "cell_type": "code",
   "execution_count": null,
   "id": "d455ca8e-6835-43ef-a594-84810f4c2e37",
   "metadata": {
    "editable": true,
    "slideshow": {
     "slide_type": "subslide"
    },
    "tags": []
   },
   "outputs": [],
   "source": [
    "x = np.linspace(-4, 4, 256)\n",
    "pdf = spst.norm.pdf(x, 0)\n",
    "\n",
    "# Plotting\n",
    "plt.plot(x, pdf)\n",
    "plt.title(f\"Normal Distribution\")\n",
    "plt.xlabel('X')\n",
    "plt.ylabel('Probability')"
   ]
  },
  {
   "cell_type": "markdown",
   "id": "08dbe84b-948f-456a-9b22-e38c86ce6177",
   "metadata": {
    "editable": true,
    "slideshow": {
     "slide_type": "subslide"
    },
    "tags": []
   },
   "source": [
    "## Properties of sets of samples\n",
    "* Sample: A draw (or draws) from a random process\n",
    "\n",
    "Multiple samples usually described by\n",
    "* Means ($\\mu$)\n",
    "* Standard deviations ($\\sigma$) (or variances $\\sigma^2$)"
   ]
  },
  {
   "cell_type": "markdown",
   "id": "2d3a2617-02b3-4231-8ea5-b9b13e06d6b8",
   "metadata": {
    "editable": true,
    "slideshow": {
     "slide_type": "fragment"
    },
    "tags": []
   },
   "source": [
    "Q: If I take two sets of 10 measurements, average each individually, will I get the same value?"
   ]
  },
  {
   "cell_type": "markdown",
   "id": "c2d732f7-944f-46f8-a95d-049a92277553",
   "metadata": {
    "editable": true,
    "slideshow": {
     "slide_type": "subslide"
    },
    "tags": []
   },
   "source": [
    "### Implies:\n",
    "Sample averages (means) are also randomly distributed!\n",
    "\n",
    "P.S. Sample standard deviations are also randomly distributed."
   ]
  },
  {
   "cell_type": "markdown",
   "id": "829c2954-bec8-4af5-8425-04227d5fbeef",
   "metadata": {
    "editable": true,
    "slideshow": {
     "slide_type": "subslide"
    },
    "tags": []
   },
   "source": [
    "Sample Mean:\n",
    "$$ \\bar{x} = \\frac{1}{n}\\sum_{i=1}^{n} x_i \\neq \\mu$$.\n",
    "\n",
    "(Population) Variance:\n",
    "$$ \\sigma^2 = \\frac{1}{n}\\sum_{i=1}^{n} (x_i - \\mu)^2 $$\n",
    "\n",
    "\n",
    "Sample Variance (note $\\bar{x}$ instead of $\\mu$ and $n-1$ in division):\n",
    "$$ \\sigma^2 = \\frac{1}{n - 1}\\sum_{i=1}^{n} (x_i - \\bar{x})^2 $$"
   ]
  },
  {
   "cell_type": "markdown",
   "id": "ca83e609-fcf4-460c-b2a2-1906940fa52e",
   "metadata": {
    "editable": true,
    "slideshow": {
     "slide_type": "subslide"
    },
    "tags": []
   },
   "source": [
    "## The Central Limit Theorem:\n",
    "Given enough samples, the distribution of means ($\\tilde{X}_n$) tends towards a normal distribution with mean, $\\mu$ (population/true mean), and variance ($\\sigma^2/2$), **regardless of the distribution of $X$**\n",
    "\n",
    "P.S. The sample variance follows a chi-squared distribution"
   ]
  },
  {
   "cell_type": "markdown",
   "id": "cf809c5c-ef38-4a02-b3a7-a55bbf7f2de4",
   "metadata": {
    "editable": true,
    "slideshow": {
     "slide_type": "subslide"
    },
    "tags": []
   },
   "source": [
    "Why is this important?\n",
    "\n",
    "Most of the time we do not take a single value to represent a measurement, commonly we:\n",
    "* Average a single location over time to reduce the effects of random noise, and average out consistantly variable noise (i.e. a sine wave like error source).\n",
    "* Take many measurements close together in space (i.e. on an airborne system) and average them together."
   ]
  },
  {
   "cell_type": "markdown",
   "id": "132daf71-6c01-4909-ba6c-2a989e61bdf4",
   "metadata": {
    "editable": true,
    "slideshow": {
     "slide_type": "subslide"
    },
    "tags": []
   },
   "source": [
    "## Estimating errors\n",
    "So how do we estimate the error in our measurements (or at least a range of possible values)?\n",
    "\n",
    "Say we take measurements of a value at a single location over time and obtain the following values."
   ]
  },
  {
   "cell_type": "code",
   "execution_count": null,
   "id": "83d33eed-0f12-41bc-ac85-f2074f53b1c0",
   "metadata": {
    "editable": true,
    "slideshow": {
     "slide_type": "fragment"
    },
    "tags": []
   },
   "outputs": [],
   "source": [
    "my_data = np.array([1.0, 1.5, 2.3, 3.1, 0.5, 2.4, 3.2, 2.3, 2.1, 4.2, 0.0, 1.9])"
   ]
  },
  {
   "cell_type": "code",
   "execution_count": null,
   "id": "d5e913fc-1f89-4a12-b039-29bd9629ec97",
   "metadata": {
    "editable": true,
    "slideshow": {
     "slide_type": "fragment"
    },
    "tags": []
   },
   "outputs": [],
   "source": [
    "plt.hist(my_data, 10);\n",
    "plt.xlabel('X')\n",
    "plt.ylabel('Counts')"
   ]
  },
  {
   "cell_type": "markdown",
   "id": "0b087e29-d741-4ffd-a2ea-7237d27b21aa",
   "metadata": {
    "editable": true,
    "slideshow": {
     "slide_type": "fragment"
    },
    "tags": []
   },
   "source": [
    "As we take more and more values, we might expect the shape of this histogram to match the shape of the true distribution"
   ]
  },
  {
   "cell_type": "markdown",
   "id": "9c7012bd-a535-49c0-9431-4245a8188d42",
   "metadata": {
    "editable": true,
    "slideshow": {
     "slide_type": "subslide"
    },
    "tags": []
   },
   "source": [
    "We can calculate the mean and standard deviation of this data:"
   ]
  },
  {
   "cell_type": "code",
   "execution_count": null,
   "id": "e14d1ec4-c05a-407f-b168-d6055bac682e",
   "metadata": {
    "editable": true,
    "slideshow": {
     "slide_type": "fragment"
    },
    "tags": []
   },
   "outputs": [],
   "source": [
    "np.mean(my_data)"
   ]
  },
  {
   "cell_type": "code",
   "execution_count": null,
   "id": "822e3783-cd74-46a4-892c-2bf10a664a7d",
   "metadata": {
    "editable": true,
    "slideshow": {
     "slide_type": "fragment"
    },
    "tags": []
   },
   "outputs": [],
   "source": [
    "np.std(my_data, ddof=1)"
   ]
  },
  {
   "cell_type": "markdown",
   "id": "202fa90a-b9da-4c97-86d2-5c626bcf2c17",
   "metadata": {
    "editable": true,
    "slideshow": {
     "slide_type": "subslide"
    },
    "tags": []
   },
   "source": [
    "These numbers define the mean and standard deviation of our samples.\n",
    "\n",
    "But, what is the error in the mean?"
   ]
  },
  {
   "cell_type": "markdown",
   "id": "2413a899-07cf-4fa1-9fb7-60072e414038",
   "metadata": {
    "editable": true,
    "slideshow": {
     "slide_type": "fragment"
    },
    "tags": []
   },
   "source": [
    "Turns out, that in the central limit theorem, the mean tends towards a normal distribution with a standard deviation of:\n",
    "$$ \\sigma_{mean}^2 = \\frac{\\sigma^2}{n}$$\n",
    "\n",
    "* As we take more samples, the standard deviation gets smaller"
   ]
  },
  {
   "cell_type": "markdown",
   "id": "d275abba-1aa5-4e52-8a60-af5816e02f46",
   "metadata": {
    "editable": true,
    "slideshow": {
     "slide_type": "subslide"
    },
    "tags": []
   },
   "source": [
    "### Questions: \n",
    "I average 2 samples from a distribution who's standard deviation is $\\sigma=20$:\n",
    "\n",
    "1) What is the standard deviation of my average value?"
   ]
  },
  {
   "cell_type": "code",
   "execution_count": null,
   "id": "9a7b1be1-9d9d-4cbc-909b-5f9ba13de149",
   "metadata": {
    "editable": true,
    "slideshow": {
     "slide_type": "fragment"
    },
    "tags": []
   },
   "outputs": [],
   "source": [
    "print(np.sqrt(20**2 / 2))"
   ]
  },
  {
   "cell_type": "markdown",
   "id": "77d1c010-cf43-4e9f-89e6-fc0ae980a732",
   "metadata": {
    "editable": true,
    "slideshow": {
     "slide_type": "fragment"
    },
    "tags": []
   },
   "source": [
    "2) If I instead average 4 measurements, what is the standard deviation?"
   ]
  },
  {
   "cell_type": "code",
   "execution_count": null,
   "id": "ee1c140b-c6de-4924-beaf-fb56bb2bb6fa",
   "metadata": {
    "editable": true,
    "slideshow": {
     "slide_type": "fragment"
    },
    "tags": []
   },
   "outputs": [],
   "source": [
    "print(np.sqrt(20**2 / 4))"
   ]
  },
  {
   "cell_type": "markdown",
   "id": "460b0502-3c77-4c22-9c90-720259226735",
   "metadata": {
    "editable": true,
    "slideshow": {
     "slide_type": "fragment"
    },
    "tags": []
   },
   "source": [
    "**note**: taking 4 measurements decreased the standard deviation by 1/2"
   ]
  },
  {
   "cell_type": "markdown",
   "id": "3b3f59c5-93ab-4416-b681-01fe0fb9ddea",
   "metadata": {
    "editable": true,
    "slideshow": {
     "slide_type": "fragment"
    },
    "tags": []
   },
   "source": [
    "3) What about for 6, 8, 10, 12, 14, 16?"
   ]
  },
  {
   "cell_type": "code",
   "execution_count": null,
   "id": "d1d92e21-6507-41f4-a830-f418c95f75a4",
   "metadata": {
    "editable": true,
    "slideshow": {
     "slide_type": "fragment"
    },
    "tags": []
   },
   "outputs": [],
   "source": [
    "for n in [6, 8, 10, 12, 14, 16]:\n",
    "    s_mean = np.sqrt(20**2/n)\n",
    "    print(n, s_mean)"
   ]
  },
  {
   "cell_type": "markdown",
   "id": "9d34c7a4-816e-496b-86d9-c74d3ed193ac",
   "metadata": {
    "editable": true,
    "slideshow": {
     "slide_type": "fragment"
    },
    "tags": []
   },
   "source": [
    "* going from 1 to 4 measurements decreased the error by 1/2\n",
    "* going from 4 to 16 measurements decreased the error by 1/2"
   ]
  },
  {
   "cell_type": "markdown",
   "id": "830f1a2c-49a9-4519-bb37-1b9eacba5e27",
   "metadata": {
    "editable": true,
    "slideshow": {
     "slide_type": "subslide"
    },
    "tags": []
   },
   "source": [
    "In general, it is commonly understood that the error in your measurement decreases by a factor of \n",
    "$$ \\frac{1}{\\sqrt{n}} $$"
   ]
  },
  {
   "cell_type": "code",
   "execution_count": null,
   "id": "9b03727d-e338-4420-8f5f-a1f4242a42e4",
   "metadata": {
    "editable": true,
    "slideshow": {
     "slide_type": "fragment"
    },
    "tags": []
   },
   "outputs": [],
   "source": [
    "1 / np.sqrt(4096)"
   ]
  }
 ],
 "metadata": {
  "kernelspec": {
   "display_name": "Python 3 (ipykernel)",
   "language": "python",
   "name": "python3"
  },
  "language_info": {
   "codemirror_mode": {
    "name": "ipython",
    "version": 3
   },
   "file_extension": ".py",
   "mimetype": "text/x-python",
   "name": "python",
   "nbconvert_exporter": "python",
   "pygments_lexer": "ipython3",
   "version": "3.12.11"
  }
 },
 "nbformat": 4,
 "nbformat_minor": 5
}
