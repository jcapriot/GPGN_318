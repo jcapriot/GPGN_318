{
 "cells": [
  {
   "cell_type": "code",
   "execution_count": 1,
   "id": "65c4bce6",
   "metadata": {},
   "outputs": [],
   "source": [
    "import sys\n",
    "sys.path.insert(0, \"../gravity/\")\n",
    "\n",
    "from IPython.display import display\n",
    "from ipywidgets import Output\n",
    "from poly_interact import PolygonEditor\n",
    "\n",
    "from grav_interact import gpoly\n",
    "\n",
    "import plotly.graph_objects as go\n",
    "import numpy as np\n",
    "import ipywidgets as widgets"
   ]
  },
  {
   "cell_type": "code",
   "execution_count": 2,
   "id": "3bae0cac",
   "metadata": {},
   "outputs": [],
   "source": [
    "obs_x = np.linspace(-100, 100, 51)\n",
    "obs_z = np.zeros_like(obs_x)\n",
    "obs = np.c_[obs_x, obs_z]\n",
    "\n",
    "dike = [[-15, -400],[-15, -10],[15, -10],[15, -400]]\n",
    "gz = -gpoly(obs, dike, 1.0)\n",
    "\n",
    "editor = PolygonEditor(width=1000, height=400, points=obs)\n",
    "#editor.add_polygons(dike)\n",
    "\n",
    "fig = go.FigureWidget(data=[go.Scatter(x=obs_x, y=gz, mode='lines')])"
   ]
  },
  {
   "cell_type": "code",
   "execution_count": 3,
   "id": "c05b20a6",
   "metadata": {},
   "outputs": [
    {
     "data": {
      "application/vnd.jupyter.widget-view+json": {
       "model_id": "571f1a5611ea486694bab134bcfd4a23",
       "version_major": 2,
       "version_minor": 0
      },
      "text/plain": [
       "PolygonEditor(children=(MultiCanvas(height=400, layout=Layout(border_bottom='1px solid #ccc', border_left='1px…"
      ]
     },
     "execution_count": 3,
     "metadata": {},
     "output_type": "execute_result"
    }
   ],
   "source": [
    "editor"
   ]
  },
  {
   "cell_type": "code",
   "execution_count": 3,
   "id": "8b406e18",
   "metadata": {},
   "outputs": [],
   "source": [
    "# A slider that controls frequency of sine wave\n",
    "def update(polys):\n",
    "    gz = 0.0\n",
    "    for poly in polys:\n",
    "        gz -= gpoly(obs, poly, 1.0)\n",
    "\n",
    "    with fig.batch_update():  # more efficient batch updates\n",
    "        fig.data[0].y = gz"
   ]
  },
  {
   "cell_type": "code",
   "execution_count": 4,
   "id": "b00f1717",
   "metadata": {},
   "outputs": [],
   "source": [
    "editor.on_poly_update(update)"
   ]
  },
  {
   "cell_type": "code",
   "execution_count": 5,
   "id": "d4036f61",
   "metadata": {},
   "outputs": [
    {
     "data": {
      "application/vnd.jupyter.widget-view+json": {
       "model_id": "7865eb20031c4c679d19fae9f69ba463",
       "version_major": 2,
       "version_minor": 0
      },
      "text/plain": [
       "HBox(children=(VBox(children=(FigureWidget({\n",
       "    'data': [{'mode': 'lines',\n",
       "              'type': 'scatter',\n",
       " …"
      ]
     },
     "execution_count": 5,
     "metadata": {},
     "output_type": "execute_result"
    }
   ],
   "source": [
    "# Use FigureWidget\n",
    "w = widgets.VBox([fig, editor], layout=widgets.Layout(max_height=\"100%\"))\n",
    "widgets.HBox([w], layout=widgets.Layout(justify_content=\"center\", width=\"100%\"))"
   ]
  },
  {
   "cell_type": "code",
   "execution_count": 6,
   "id": "cb3c2a68",
   "metadata": {},
   "outputs": [
    {
     "data": {
      "text/plain": [
       "({'name': 'polygons.txt',\n",
       "  'type': 'text/plain',\n",
       "  'size': 64,\n",
       "  'content': <memory at 0x0000018DCD2B3940>,\n",
       "  'last_modified': datetime.datetime(2025, 8, 18, 19, 29, 5, 814000, tzinfo=datetime.timezone.utc)},)"
      ]
     },
     "execution_count": 6,
     "metadata": {},
     "output_type": "execute_result"
    }
   ],
   "source": [
    "editor.load_btn.value"
   ]
  },
  {
   "cell_type": "code",
   "execution_count": null,
   "id": "9fef22f5",
   "metadata": {},
   "outputs": [],
   "source": [
    "editor.load_btn.value[0]."
   ]
  }
 ],
 "metadata": {
  "kernelspec": {
   "display_name": "simulation",
   "language": "python",
   "name": "python3"
  },
  "language_info": {
   "codemirror_mode": {
    "name": "ipython",
    "version": 3
   },
   "file_extension": ".py",
   "mimetype": "text/x-python",
   "name": "python",
   "nbconvert_exporter": "python",
   "pygments_lexer": "ipython3",
   "version": "3.12.6"
  }
 },
 "nbformat": 4,
 "nbformat_minor": 5
}
