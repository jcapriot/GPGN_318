{
 "cells": [
  {
   "cell_type": "markdown",
   "id": "630cf222-25fe-42b0-8a68-a55eddb8401b",
   "metadata": {},
   "source": [
    "# Gravity Modeling\n",
    "------------------\n",
    "* Due date: October 1, 2025"
   ]
  },
  {
   "cell_type": "markdown",
   "id": "ce5e35b8-2523-40b1-b78d-7d79d8e3c6f4",
   "metadata": {},
   "source": [
    "# Objectives\n",
    "For this lab, we will be heading into the steam tunnels to take measurements of their size. Then we will forward model them to help plan our survey for next week.\n",
    "\n",
    "Our objectives are:\n",
    "* Measure details about the tunnels’ sizes, and depths.\n",
    "* Familiarize yourself with modeling gravity in python\n",
    "* Determine expected survey parameters (station spacing, observation times, etc.) for next week’s lab.\n"
   ]
  },
  {
   "cell_type": "markdown",
   "id": "7b23bdab-2fb9-4987-8fbf-1b2b35673d77",
   "metadata": {},
   "source": [
    "# Background\n",
    "The gravity anomaly due to a 2D earth is made of infinitely long objects into and out of the page. We are going to model these objects as polygonal prisms with a constant density. We can make this assumption when the object is locally constant in at least 1 direction. For our long straight tunnel this is a valid assumption."
   ]
  },
  {
   "attachments": {},
   "cell_type": "markdown",
   "id": "1cd23379-f943-431a-81a9-76832e50125a",
   "metadata": {},
   "source": [
    "## Tunnels\n",
    "The tunnels we are interested have a cross-section that looks approximately like this:\n",
    "\n",
    "![Tunnel](resources/tunnel_cross.png)\n",
    "\n",
    "**Figure 1**: Cross section of the Mines Steam Tunnels. To model them, you will need to get measurements for each dimension, and decide a density contrast value to use for them."
   ]
  },
  {
   "attachments": {},
   "cell_type": "markdown",
   "id": "5ef704a1-ffc8-4422-99ea-2f4f04c53563",
   "metadata": {},
   "source": [
    "On canvas, we have also provided a plan view schematic of the steam tunnels to assist with your survey planning."
   ]
  },
  {
   "attachments": {},
   "cell_type": "markdown",
   "id": "236cf024-bc28-418f-aa03-b02cb714ed00",
   "metadata": {},
   "source": [
    "## 2D Gravity Modeling\n",
    "\n",
    "Gravity modeling in 2D is generally accomplished by using analytical solutions of polygonal prisms taken from Blakely 1996. The equations themselves are beyond the scope of this course. However, you should be comfortable using code that implements them. An implementation of this analytic function is available in the `grav_utils/gpoly.py` script. The docstring of the function will give you an idea on how to call this function."
   ]
  },
  {
   "attachments": {},
   "cell_type": "markdown",
   "id": "66a69f3c-5f39-4cff-8534-6c70bfd0e496",
   "metadata": {},
   "source": [
    "# Tasks\n",
    "\n",
    "## Tunnel measurements\n",
    "\n",
    "Our first task involves a nice tour of the tunnel. We will be taking measurements of the tunnels width, height, and depth (according to Figure 1).\n",
    "\n",
    "Include your diagram of the tunnel's dimmensions."
   ]
  },
  {
   "attachments": {},
   "cell_type": "markdown",
   "id": "ff2e9c3a-d7f4-4d1c-bd68-860ed93ec922",
   "metadata": {},
   "source": [
    "# Gravity Modeling\n",
    "After our tunnel adventure we will be modeling the gravitation response that we might expect of the tunnel, as well as a few other simple examples. Follow along below!"
   ]
  },
  {
   "cell_type": "markdown",
   "id": "f5d788d9-835d-4142-b3e5-3806e4f30f59",
   "metadata": {},
   "source": [
    "\n",
    "You should hopefully get experience\n",
    "* Representing bodies as polygons.\n",
    "* Simulating multiple bodies (and using the superposition principle)\n",
    "* Modeling your own experiment (The Tunnel!)"
   ]
  },
  {
   "cell_type": "markdown",
   "id": "f61e8105-07e1-4d92-b079-48fbf42521cc",
   "metadata": {},
   "source": [
    "## Supplying locations\n",
    "In order to model gravity (and really any geophysics), we need to know where we want to calculate data. Below I create a set of x-locations along a line, with a specific station spacing. From -2500m to 2500m along profile, with stations every 50m, at 0m elevation.\n",
    "\n",
    "**note**: If you were wanting to model at real-world locations you would likely read locations in from a data file."
   ]
  },
  {
   "cell_type": "code",
   "execution_count": 1,
   "id": "0a847117-a260-4346-8f89-25a8613f57e5",
   "metadata": {},
   "outputs": [],
   "source": [
    "import numpy as np\n",
    "from grav_utils.grav_interact import GravInteract\n",
    "import matplotlib.pyplot as plt"
   ]
  },
  {
   "cell_type": "code",
   "execution_count": 2,
   "id": "8b505551-ea4f-4794-b410-af6481b7ada1",
   "metadata": {},
   "outputs": [],
   "source": [
    "xmin, xmax = -2500, 2500\n",
    "dx = 10\n",
    "\n",
    "obs_x = np.linspace(xmin, xmax, (xmax-xmin)//dx + 1)  # linearly spaced locations!\n",
    "obs_z = np.zeros_like(obs_x)  # an array of zeros that looks like obs_x\n",
    "\n",
    "obs1 = np.c_[obs_x, obs_z]  # concatenate them together along a new axis"
   ]
  },
  {
   "cell_type": "markdown",
   "id": "8e7d0fb9-9c12-4108-a85f-ca729b8e8648",
   "metadata": {},
   "source": [
    "`obs1` is now a 2D array. (We do not need a third dimension because our model is 2D)\n",
    "\n",
    "Each `obs1[i]` is a 1D array with two elements, the x and z coordinates of the observation point."
   ]
  },
  {
   "cell_type": "code",
   "execution_count": 3,
   "id": "c4c80013-1805-462d-88f0-d1d9d4e4f3de",
   "metadata": {},
   "outputs": [
    {
     "data": {
      "text/plain": [
       "(501, 2)"
      ]
     },
     "execution_count": 3,
     "metadata": {},
     "output_type": "execute_result"
    }
   ],
   "source": [
    "obs1.shape"
   ]
  },
  {
   "cell_type": "code",
   "execution_count": 4,
   "id": "a25e80f2-fbe2-4096-9a9e-c325bf7b2dda",
   "metadata": {},
   "outputs": [
    {
     "data": {
      "text/plain": [
       "array([[-2500.,     0.],\n",
       "       [-2490.,     0.],\n",
       "       [-2480.,     0.],\n",
       "       ...,\n",
       "       [ 2480.,     0.],\n",
       "       [ 2490.,     0.],\n",
       "       [ 2500.,     0.]], shape=(501, 2))"
      ]
     },
     "execution_count": 4,
     "metadata": {},
     "output_type": "execute_result"
    }
   ],
   "source": [
    "obs1"
   ]
  },
  {
   "cell_type": "markdown",
   "id": "a85e589a-a8c7-4009-be95-f29ee9ab5065",
   "metadata": {},
   "source": [
    "## Modeling a Dike\n",
    "Now let's define our dike:"
   ]
  },
  {
   "cell_type": "code",
   "execution_count": 5,
   "id": "54458fff-36c1-4f45-8b66-8ad227705990",
   "metadata": {},
   "outputs": [],
   "source": [
    "# The x and z locations of the corners of the dike, arranged in a CW order.\n",
    "dike_v = np.array([\n",
    "    [-150.0, -100.0],\n",
    "    [150.0, -100.0],\n",
    "    [150.0, -1200.0],\n",
    "    [-150.0, -1200.0]\n",
    "])"
   ]
  },
  {
   "cell_type": "markdown",
   "id": "12f79d4c-8a22-4def-adb3-fea7915ecc3d",
   "metadata": {},
   "source": [
    "We're going to use a simple interactive widget to model the gravity anomaly.\n",
    "With it you can add polygons, change their position, add more points to the prism.\n",
    "\n",
    "You can programmatrically add polygons to it using the\n",
    "`set_polygons()` method.\n",
    "\n",
    "You can also retrieve the polyons using the `get_polygons()` method."
   ]
  },
  {
   "cell_type": "markdown",
   "id": "1c0b9834-c1d3-4d42-a8b3-7756bc7ecdfb",
   "metadata": {},
   "source": [
    "Play around with this a bit, and answer some questions about the gravity data.\n",
    "\n",
    "### Question 1:\n",
    "1) What happens to the gravity anomaly when you move the object?\n",
    "2) What happens when you increase the density contrast?\n",
    "3) What changes when the density contrast changes from positive to negative"
   ]
  },
  {
   "cell_type": "code",
   "execution_count": 6,
   "id": "103ef38a-6f35-4c62-ba62-4fa6ad1173d2",
   "metadata": {},
   "outputs": [
    {
     "data": {
      "application/vnd.jupyter.widget-view+json": {
       "model_id": "832caff7140d4e4ca65ba2a21af48f74",
       "version_major": 2,
       "version_minor": 0
      },
      "text/plain": [
       "GravInteract(children=(FigureWidget({\n",
       "    'data': [{'mode': 'lines',\n",
       "              'type': 'scatter',\n",
       "        …"
      ]
     },
     "execution_count": 6,
     "metadata": {},
     "output_type": "execute_result"
    }
   ],
   "source": [
    "modeler = GravInteract(obs1)\n",
    "modeler.set_polygons(dike_v)\n",
    "modeler"
   ]
  },
  {
   "cell_type": "markdown",
   "id": "1c45381c-167b-4740-8f94-1d713a77d864",
   "metadata": {},
   "source": [
    "You can also programatically retrieve the polyons using the `get_polygons()` method.\n",
    "\n",
    "(If in a jupyterlab, the save polygons and load polygons buttons should also work to save/load it to a file)"
   ]
  },
  {
   "cell_type": "code",
   "execution_count": 7,
   "id": "5a20bba3-efe2-4726-bcfb-9b54b84dba58",
   "metadata": {},
   "outputs": [
    {
     "data": {
      "text/plain": [
       "[array([[ -150.,  -100.],\n",
       "        [  150.,  -100.],\n",
       "        [  150., -1200.],\n",
       "        [ -150., -1200.]])]"
      ]
     },
     "execution_count": 7,
     "metadata": {},
     "output_type": "execute_result"
    }
   ],
   "source": [
    "modeler.get_polygons()"
   ]
  },
  {
   "cell_type": "markdown",
   "id": "070e1dd8-ad8d-47eb-8825-f34c18fd886d",
   "metadata": {},
   "source": [
    "as well as the current data, if you wanted to plot it yourself in another way."
   ]
  },
  {
   "cell_type": "code",
   "execution_count": 8,
   "id": "a1b5851d-10b3-4a4b-a323-5cc5b839e3cb",
   "metadata": {},
   "outputs": [],
   "source": [
    "gz = modeler.get_data()"
   ]
  },
  {
   "cell_type": "code",
   "execution_count": 9,
   "id": "9958f226-8eec-4487-9070-3cbee2a2ea5e",
   "metadata": {},
   "outputs": [
    {
     "data": {
      "text/plain": [
       "[<matplotlib.lines.Line2D at 0x11ea50290>]"
      ]
     },
     "execution_count": 9,
     "metadata": {},
     "output_type": "execute_result"
    },
    {
     "data": {
      "image/png": "[encoded data removed]",
      "text/plain": [
       "<Figure size 640x480 with 1 Axes>"
      ]
     },
     "metadata": {},
     "output_type": "display_data"
    }
   ],
   "source": [
    "plt.plot(obs1[:, 0], gz)"
   ]
  },
  {
   "cell_type": "markdown",
   "id": "4ab1bacc-6aa1-491a-9765-7766d40d414a",
   "metadata": {},
   "source": [
    "### Question 2:\n",
    "At any positive density contrast, adjust the polygon and describe the gravity field. Include an image of the gravity data, the location of the polygon's points, and the density contrast you used, for two cases:\n",
    "   1) Right dipping.\n",
    "   2) Left dipping.\n",
    "     "
   ]
  },
  {
   "cell_type": "markdown",
   "id": "5db13732-0430-4d04-82c3-fcbb72c742ac",
   "metadata": {},
   "source": [
    "## Superposition\n",
    "\n",
    "As we discussed in class gravity follows a super-position principle.\n",
    "For example, here are two dikes, both dipping in the same direction\n",
    "\n",
    "To get the gravitational response, we can simply sum them together!\n",
    "\n",
    "**_NOTE:_** You can pass multiple polygons to the `set_polygons()` function!"
   ]
  },
  {
   "cell_type": "code",
   "execution_count": 10,
   "id": "36c5a174-9dea-481b-8b90-12837808151b",
   "metadata": {},
   "outputs": [],
   "source": [
    "dike_v2 = dike_v + [1000, 50]"
   ]
  },
  {
   "cell_type": "code",
   "execution_count": 11,
   "id": "39486e62-839c-4505-93ee-982e68a8978e",
   "metadata": {},
   "outputs": [
    {
     "data": {
      "application/vnd.jupyter.widget-view+json": {
       "model_id": "df30842f63034f03bbe6d22755e57e8a",
       "version_major": 2,
       "version_minor": 0
      },
      "text/plain": [
       "GravInteract(children=(FigureWidget({\n",
       "    'data': [{'mode': 'lines',\n",
       "              'type': 'scatter',\n",
       "        …"
      ]
     },
     "execution_count": 11,
     "metadata": {},
     "output_type": "execute_result"
    }
   ],
   "source": [
    "modeler2 = GravInteract(obs1)\n",
    "modeler2.set_polygons([dike_v, dike_v2])\n",
    "modeler2"
   ]
  },
  {
   "cell_type": "markdown",
   "id": "1a1a4f65-fa61-48e3-abba-fc525248e4e5",
   "metadata": {},
   "source": [
    "## Sample Spacing:\n",
    "Next we're going to adjust the sample spacing and compare it to the image above with two dikes.\n",
    "\n",
    "### Question 3)\n",
    "Start from a large sample spacing, and decrease it until you find an acceptable spacing that you feel you would interpret the same way.\n",
    "\n",
    "What is your final spacing?"
   ]
  },
  {
   "cell_type": "code",
   "execution_count": 12,
   "id": "3eff9916-95b4-4c07-be67-a0ff606523aa",
   "metadata": {},
   "outputs": [],
   "source": [
    "dx = 1000\n",
    "\n",
    "obs_x2 = np.linspace(xmin, xmax, (xmax-xmin)//dx + 1)\n",
    "obs_z2 = np.zeros_like(obs_x2)\n",
    "\n",
    "obs2 = np.c_[obs_x2, obs_z2]"
   ]
  },
  {
   "cell_type": "code",
   "execution_count": 13,
   "id": "e3146b33-9830-46d5-933a-bb0a0eec3fc9",
   "metadata": {},
   "outputs": [
    {
     "data": {
      "application/vnd.jupyter.widget-view+json": {
       "model_id": "a0e277c74d67490c9e8a349d3a28655a",
       "version_major": 2,
       "version_minor": 0
      },
      "text/plain": [
       "GravInteract(children=(FigureWidget({\n",
       "    'data': [{'mode': 'lines',\n",
       "              'type': 'scatter',\n",
       "        …"
      ]
     },
     "execution_count": 13,
     "metadata": {},
     "output_type": "execute_result"
    }
   ],
   "source": [
    "# Again, starting another new widget with a different name so it doesn't clobber any others\n",
    "modeler3 = GravInteract(obs2)\n",
    "modeler3.set_polygons([dike_v, dike_v2])\n",
    "modeler3"
   ]
  },
  {
   "cell_type": "markdown",
   "id": "1ad44919-7ad0-4c22-9c01-206129e28316",
   "metadata": {},
   "source": [
    "### Question 4\n",
    "\n",
    "Come up with your own model!\n",
    "* Put as many bodies in as you like\n",
    "    * While nothing stops you from putting them on top of each other, it might get a bit confusing.\n",
    "    * Do not make a single body have intersecting lines.\n",
    "* Come up with your own sampling over your model.\n",
    "    * Change your minimum, maximum, and station spacing.\n"
   ]
  },
  {
   "cell_type": "code",
   "execution_count": 14,
   "id": "aaee6443-e545-44b5-b60d-4493ef330aee",
   "metadata": {},
   "outputs": [
    {
     "data": {
      "application/vnd.jupyter.widget-view+json": {
       "model_id": "26d105337b3146758aefadf67eacd99e",
       "version_major": 2,
       "version_minor": 0
      },
      "text/plain": [
       "GravInteract(children=(FigureWidget({\n",
       "    'data': [{'mode': 'lines',\n",
       "              'type': 'scatter',\n",
       "        …"
      ]
     },
     "execution_count": 14,
     "metadata": {},
     "output_type": "execute_result"
    }
   ],
   "source": [
    "# these are all just starting points\n",
    "dx_me = 10\n",
    "xmin_me = -2500\n",
    "xmax_me = 2500\n",
    "\n",
    "obs_x3 = np.linspace(xmin_me, xmax_me, (xmax_me-xmin_me)//dx_me + 1)\n",
    "obs_z3 = np.zeros_like(obs_x3)\n",
    "\n",
    "obs3 = np.c_[obs_x3, obs_z3]\n",
    "\n",
    "modeler4 = GravInteract(obs3)\n",
    "modeler4"
   ]
  },
  {
   "attachments": {},
   "cell_type": "markdown",
   "id": "f7de8bbb-dcd4-44ee-8092-4b4229711c34",
   "metadata": {},
   "source": [
    "## Tunnel Modeling\n",
    "### Question 5\n",
    "Now let's model the tunnels. You will need to:\n",
    "1) Determine the coordinates of the corners of the tunnels.\n",
    "2) Choose an appropriate density contrast value for the tunnel, (i.e. what is a range of expected densities of the surrounding material and the tunnel itself?).\n",
    "3) Choose appropriate spatial sampling rates, and relative starting and ending positions for your survey (think at what point will the anomaly be unobservable by our instrument.)"
   ]
  },
  {
   "cell_type": "code",
   "execution_count": 28,
   "id": "b595c59a-d0bc-44fd-9f60-a5385006a6d6",
   "metadata": {},
   "outputs": [
    {
     "data": {
      "application/vnd.jupyter.widget-view+json": {
       "model_id": "05c6d31615da4f188489f9be01333fba",
       "version_major": 2,
       "version_minor": 0
      },
      "text/plain": [
       "GravInteract(children=(FigureWidget({\n",
       "    'data': [{'mode': 'lines',\n",
       "              'type': 'scatter',\n",
       "        …"
      ]
     },
     "execution_count": 28,
     "metadata": {},
     "output_type": "execute_result"
    }
   ],
   "source": [
    "# these are all just starting points\n",
    "dx_tunnel = 0.25\n",
    "xmin_tunnel = -10.0\n",
    "xmax_tunnel = 10.0\n",
    "\n",
    "obs_x_tun = np.linspace(xmin_tunnel, xmax_tunnel, int(xmax_tunnel-xmin_tunnel//dx_tunnel) + 1)\n",
    "obs_z_tun = np.zeros_like(obs_x_tun)\n",
    "\n",
    "obs_tun = np.c_[obs_x_tun, obs_z_tun]\n",
    "\n",
    "tunnel_upper = np.array([[-1.37, -0.3], [0, -0.3], [0, -0.3-1.96], [-1.37, -0.3-1.96]]) + [1.37, 0]\n",
    "\n",
    "tunnel_lower = np.array([[0, 0],[1.7, 0],[1.7, -1.59],[0, -1.59]])\n",
    "\n",
    "modeler_tun = GravInteract(obs_tun)\n",
    "modeler_tun.set_polygons([tunnel_upper, tunnel_lower])\n",
    "modeler_tun"
   ]
  },
  {
   "attachments": {},
   "cell_type": "markdown",
   "id": "e16c5837-801a-41ab-92c3-2a8fc91eae20",
   "metadata": {},
   "source": [
    "## Preliminary plan:\n",
    "\n",
    "### Question 6\n",
    "Finally provided a plan for carrying out the gravity survey next week, things to consider in your plan:\n",
    "1) In a 3 hour window, how many measurements with a single gravimeter can we take?\n",
    "2) How long should we average values at each station?\n",
    "3) Do we need to bring out anything else besides the gravimeter to perform our survey?\n",
    "4) Where should we perform the survey?\n"
   ]
  },
  {
   "cell_type": "markdown",
   "id": "1f35f386-8f38-4792-a423-d41b07b5bf9a",
   "metadata": {},
   "source": [
    "# Deliverables:\n",
    "\n",
    "For the sake of your grader, please include all of your responses in a copy of this notebook, you can insert new cells as needed.\n",
    "\n",
    "**note**: The widget's are not static things and their states will not be saved when you save your notebook. If you have a final geometry and spacing you determine, you should add that programatically to the notebook so it can be reproduced.\n",
    "\n",
    "You should all be comfortable with working in markdown for submitting responses to the questions asked above. This does not need to be a formal report but you should at least make comments that are justified by images of your models and data. (and make them easily findable by someone else) with:"
   ]
  }
 ],
 "metadata": {
  "kernelspec": {
   "display_name": "Python 3 (ipykernel)",
   "language": "python",
   "name": "python3"
  },
  "language_info": {
   "codemirror_mode": {
    "name": "ipython",
    "version": 3
   },
   "file_extension": ".py",
   "mimetype": "text/x-python",
   "name": "python",
   "nbconvert_exporter": "python",
   "pygments_lexer": "ipython3",
   "version": "3.12.11"
  }
 },
 "nbformat": 4,
 "nbformat_minor": 5
}
