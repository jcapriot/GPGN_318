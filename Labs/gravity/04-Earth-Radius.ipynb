{
 "cells": [
  {
   "cell_type": "markdown",
   "id": "22eecb85-845f-466d-a1e8-14ed8b11e69c",
   "metadata": {},
   "source": [
    "Radius of the Earth\n",
    "-----------\n",
    "* Due date: September 24, 2025"
   ]
  },
  {
   "cell_type": "code",
   "execution_count": 5,
   "id": "d63fbc12-d4a3-404e-a808-03256948bb76",
   "metadata": {},
   "outputs": [],
   "source": [
    "import numpy as np"
   ]
  },
  {
   "cell_type": "markdown",
   "id": "f4885e1a-deea-4bb6-890b-38b5569c31e7",
   "metadata": {},
   "source": [
    "# Objectives\n",
    "Your objective is to use relative gravimeters to measure the radius of the Earth in Golden. You should also familiarize yourself with two common land-based gravimeters."
   ]
  },
  {
   "cell_type": "markdown",
   "id": "43e594bc-8602-4332-a6b0-7456759f729b",
   "metadata": {},
   "source": [
    "# Background\n",
    "You will be using two different gravity meters for this lab:\n"
   ]
  },
  {
   "cell_type": "markdown",
   "id": "07913a71-ccf7-4fb1-bba7-f04b1091d1e5",
   "metadata": {},
   "source": [
    "## LaCoste and Romberg (LNR) Model G gravity meter\n",
    "![LNR](resources/LNR.jpg)\n",
    "Control parts:\n",
    "1) Battery and battery charger\n",
    "1) Locking knob (clockwise to lock)\n",
    "1) Leveling adjusting screws and level bubbles\n",
    "1) Reading adjustment dial (decimal read-out)\n",
    "1) Reading counter (integer read-out)\n",
    "1) Eye piece.\n"
   ]
  },
  {
   "cell_type": "markdown",
   "id": "73ce2b6e-beff-4a23-b708-37a28ee5f1c8",
   "metadata": {},
   "source": [
    "Storage:\n",
    "1) Meter locked (to hold the spring)\n",
    "1) Meter and Battery connected to charger.\n",
    "1) Internal lights off.\n",
    "\n",
    "Deployment:\n",
    "1) Locked\n",
    "1) Connected to battery\n",
    "1) Leveled\n",
    "\n",
    "Reading:\n",
    "1) Connected to battery\n",
    "1) Leveled\n",
    "    1) Works better if long and cross directions are adjusted sequentially\n",
    "1) Unlocked\n",
    "1) Light On\n",
    "1) Adjust the dial until the **left side** of the cross-hair is at **2.4** in the eye-piece (compensating for gravity)\n",
    "    1) Approach 2.4 consistently from the same side (left or right).\n",
    "    1) To move the crosshair towards the increasing side, turn the dial clockwise.\n",
    "1) Record reading using both the counter and the dial\n",
    "    1) The first four digits on the counter give the integer part of the reading\n",
    "    1) The two digits on the dial are the reading after the decimal (the last digit on the counter should match the first digit on the dial).\n"
   ]
  },
  {
   "cell_type": "markdown",
   "id": "9c18c561-2dfd-4163-99a9-f7200ce16edb",
   "metadata": {},
   "source": [
    "## Scintrex CG-5\n",
    "![CG5](resources/cg5-2.png)\n",
    "\n",
    "Control Parts:\n",
    "\n",
    "1) Batteries and chargers\n",
    "1) Leveling base platform\n",
    "1) Leveling adjustment screws\n",
    "1) Alphanumeric keypad\n",
    "1) Digital display showing readings.\n",
    "\n",
    "Storage:\n",
    "\n",
    "1) Gravimeter powered down\n",
    "1) Meter placed in storage case\n",
    "1) Meter connected to chargers.\n",
    "\n",
    "Deployment:\n",
    "\n",
    "1)\tPowered on\n",
    "1)\tBase plate bubble leveled\n",
    "1)\tMeter secure on plate.\n",
    "1)\tLevel using the digital scale.\n",
    "\n",
    "Reading:\n",
    "\n",
    "1)\tSelect level on the menu and level using the digital display\n",
    "1)\tNavigate to the “Start Menu”\n",
    "1)\tPress record (or use the remote to press record)\n",
    "1)\tWalk away from the instrument about 3 meters (to reduce noise from foot traffic)\n",
    "1)\tWatch until the blue light goes on. (whenever the blue light is on the mass is unlocked)\n",
    "1)\tReturn to the meter and record the relative gravity and standard deviation for each of the measurements (usually at least two). "
   ]
  },
  {
   "cell_type": "markdown",
   "id": "2a2c1eba-d479-46cd-be37-7341485240cb",
   "metadata": {},
   "source": [
    "# Task\n",
    "\n",
    "You are to measure the gravity at 3 locations on the Mines campus.\n",
    "\n",
    "* Station 1: Absolute gravity station DA, pad by lot at 15th and Arapahoe\n",
    "* Station 2: Main floor of Alderson Hall (near the elevator by the entrance)\n",
    "* Station 3: Fourth floor of Alderson Hall (near the elevator)\n",
    "\n",
    "The absolute gravity value at station DA (station 1) was measured to be:\n",
    "979,571.122 mGal\n"
   ]
  },
  {
   "cell_type": "markdown",
   "id": "1badc852-03c7-4340-992b-95cde510ea92",
   "metadata": {},
   "source": [
    "# Procedure:\n",
    "\n",
    "The measurements will be taken in the following sequence:\n",
    "\n",
    "* S1 -> S2 -> S3 -> S2 -> S1\n",
    "\n",
    "Take at least two readings per gravimeter at each location.\n",
    "\n",
    "Record:\n",
    "1) mGal reading (CG5) or dial reading (LNR)\n",
    "1) Time\n",
    "1) Standard deviation (CG5)\n",
    "1) Number accepted (CG5)\n",
    "\n",
    "We will also need to measure the difference in height between the two stations in Alderson Hall (using tape measures).\n"
   ]
  },
  {
   "cell_type": "markdown",
   "id": "5c9372b0-3478-47eb-9fde-0b4657a30b4f",
   "metadata": {},
   "source": [
    "# Processing\n",
    "## Calibrations\n",
    "The relative gravimeters need to be calibrated to give us actual mGal values. The CG5 already accounts for this and the number it gives you is in units of mGals. For the LNR though, you must account for the calibration by hand, we have attached the (somewhat outdated) calibration sheet for our specific LNR meter. You can use this to calculate the relative gravity from the dial reading as follows:\n",
    "\t\n",
    "1) Denote your dial reading as A.\n",
    "1) In the supplied table (see attachment), find the nearest integer smaller than your reading from the column labeled “Counter Reading”, denote this as B.\n",
    "1) Find the corresponding mGal value in the column labeled as “Value in mGal”, denote this as C.\n",
    "1) Find the corresponding factor value from the column labeled as “Factor for Interval”, denote this as F.\n",
    "1) Calculate the gravity in mGal using the formula: g = C + F * (A - B).\n",
    "\n",
    "Note: You might notice this equation as adjusting the gravity value using a linear interpolation between two known values.\n"
   ]
  },
  {
   "cell_type": "markdown",
   "id": "4594d60c-9cb1-4c92-848b-42cc68a66b06",
   "metadata": {},
   "source": [
    "## Measurement Averaging\n",
    "**Treat each instrument separately!**\n",
    "\n",
    "Average the gravity measurements taken at each visit to the stations. We visisted the stations in the following order:\n",
    "1) Station 1 : visit 1\n",
    "2) Station 2 : visit 1\n",
    "3) Station 3 : visit 1\n",
    "4) Station 2 : visit 2\n",
    "5) Station 1 : visit 2\n",
    "\n",
    "So you'll need to average all of the LNR readings at Station 1 : visit 1 together to obtain a single measurement for that location and time. Repeat with each of the visits to each station for each instrument (treat the two CG-5's separately).\n",
    "\n",
    "At the end should have a single measurement for each of the three instruments at every visit: 5 for the LNR, 5 for CG-5 1 and 5 for CG-5 2.\n"
   ]
  },
  {
   "cell_type": "code",
   "execution_count": 6,
   "id": "57f76bc3-1a9a-428e-8900-321e03dc9cd9",
   "metadata": {},
   "outputs": [],
   "source": [
    "# Note these are currently just placeholders for whatever values you obtain\n",
    "lnr_grav = np.array([1, 2, 3, 4, 5])\n",
    "lnr_time = np.array([1, 2, 3, 4, 5])\n",
    "\n",
    "cg5_1_grav = np.array([1, 2, 3, 4, 5])\n",
    "cg5_1_time = np.array([1, 2, 3, 4, 5])\n",
    "\n",
    "cg5_2_grav = np.array([1, 2, 3, 4, 5])\n",
    "cg5_2_grav = np.array([1, 2, 3, 4, 5])"
   ]
  },
  {
   "cell_type": "markdown",
   "id": "9e8605c1-b76c-4020-90c6-a3df1b381bf8",
   "metadata": {},
   "source": [
    "### Question 1\n",
    "Comment on the variability of the measurements at each visit for each instrument."
   ]
  },
  {
   "cell_type": "markdown",
   "id": "1d480525-f0bd-41d9-b62a-bd32be9700c1",
   "metadata": {},
   "source": [
    "## Drift Correction\n",
    "There are many things that could change the actual acceleration of gravity throughout the time of our survey. To correct for this, we assume that the change is linear in time and repeated the measurement at station 1 at the end of the survey (we made a loop).\n",
    "\n",
    "Create a function that linearly interpolates the gravity values at Station 1 as a function of time:"
   ]
  },
  {
   "cell_type": "code",
   "execution_count": 21,
   "id": "3ba723a2-16af-49c4-8362-5d411cffc4fb",
   "metadata": {},
   "outputs": [],
   "source": [
    "def grav_interp(grav_1, grav_2, time_1, time_2, time):\n",
    "    \"\"\"Linearly interpolates as a function of time\n",
    "    Parameters\n",
    "    ----------\n",
    "    grav_1, grav_2 : float\n",
    "        The values of gravity at a single location at multiple times\n",
    "    time_1, time_2 : float\n",
    "        The times associated with grav_1 and grav_2, respectively\n",
    "    time : float, numpy.ndarray\n",
    "        The times you want to evaluate the interpolated gravity at a single location\n",
    "\n",
    "    Returns\n",
    "    -------\n",
    "    float, numpy.ndarray\n",
    "        The gravity at a single location evaluates at `time`.\n",
    "    \"\"\"\n",
    "    return np.zeros_like(time) #TODO: some function of `time` linearly interpolating between station 1 visits 1 and 2."
   ]
  },
  {
   "cell_type": "markdown",
   "id": "e9684298-8893-4d48-aa24-34166d55dd8d",
   "metadata": {},
   "source": [
    "You will need to calculate the value of gravity at station 1 at each time for each of the instruments. Then subtract that value from every measurement. If done correctly the repeated values of station 1 at the start and end should be the same and equal to 0."
   ]
  },
  {
   "cell_type": "code",
   "execution_count": 22,
   "id": "c62537fe-8833-462e-89a2-2c2a10a3bf52",
   "metadata": {
    "scrolled": true
   },
   "outputs": [
    {
     "ename": "AssertionError",
     "evalue": "",
     "output_type": "error",
     "traceback": [
      "\u001b[31m---------------------------------------------------------------------------\u001b[39m",
      "\u001b[31mAssertionError\u001b[39m                            Traceback (most recent call last)",
      "\u001b[36mCell\u001b[39m\u001b[36m \u001b[39m\u001b[32mIn[22]\u001b[39m\u001b[32m, line 2\u001b[39m\n\u001b[32m      1\u001b[39m lnr_drift_corr = lnr_grav - grav_interp(lnr_grav[\u001b[32m0\u001b[39m], lnr_grav[-\u001b[32m1\u001b[39m], lnr_time[\u001b[32m0\u001b[39m], lnr_time[\u001b[32m1\u001b[39m], lnr_time)\n\u001b[32m----> \u001b[39m\u001b[32m2\u001b[39m \u001b[38;5;28;01massert\u001b[39;00m lnr_drift_corr[\u001b[32m0\u001b[39m] == lnr_drift_corr[-\u001b[32m1\u001b[39m] == \u001b[32m0\u001b[39m\n",
      "\u001b[31mAssertionError\u001b[39m: "
     ]
    }
   ],
   "source": [
    "lnr_drift_corr = lnr_grav - grav_interp(lnr_grav[0], lnr_grav[-1], lnr_time[0], lnr_time[1], lnr_time)\n",
    "assert lnr_drift_corr[0] == lnr_drift_corr[-1] == 0"
   ]
  },
  {
   "cell_type": "markdown",
   "id": "03790718-ffa3-40d2-b8c2-8b1c6331dae6",
   "metadata": {},
   "source": [
    "### Question 2\n",
    "We repeated station 2 twice as well, how close are the values at this station after drift corrections?"
   ]
  },
  {
   "cell_type": "markdown",
   "id": "1633c239-cd55-48c1-b21c-7da1d324004f",
   "metadata": {},
   "source": [
    "## Relative Gravity at each station"
   ]
  },
  {
   "cell_type": "markdown",
   "id": "916eae9d-6694-45be-8d5b-a900101b1ea8",
   "metadata": {},
   "source": [
    "For each instrument you should now have their drift corrected relative gravity measurements. Since you have subtract the value of gravity of Station 1 from every Station, your measurements are relative to Station 1.\n",
    "\n",
    "Next, for each instrument average any values at repeated stations to obtain a single measurement at each station (independant of time)."
   ]
  },
  {
   "cell_type": "code",
   "execution_count": 23,
   "id": "25aa3a76-78ae-444f-9bb0-a8c2433a638f",
   "metadata": {},
   "outputs": [],
   "source": [
    "# These arrays should end up with your final relative\n",
    "# values at each of the three stations for each instrument\n",
    "lnr_rel = np.array([1, 2, 3])\n",
    "cg5_1_rel = np.array([1, 2, 3])\n",
    "cg5_2_rel = np.array([1, 2, 3])"
   ]
  },
  {
   "cell_type": "markdown",
   "id": "1f25d5fd-6ba4-459d-a341-cc3de3343ae8",
   "metadata": {},
   "source": [
    "# Relative to Absolute\n",
    "Both the CG5 and the LNR are relative gravimeters, meaning they do not measure the full gravity value, instead they measure differences in gravity between two stations. The units of their data are in mGal (after calibration), the difference between 1 mGal and another is accurate, but a single value itself is meaningless.\n",
    "\n",
    "**Ex**. Imagine someone telling you it was 1.4233 degrees celsius warmer inside than it was outside. They obtained this number by using an instrument that read out 331C and 332.4233C. The value itself doesn’t mean anything, but the difference between them is accurate. If the true temperature inside was 24C, then you could use this hypothetical relative temperature sensor to determine that the temperature outside was actually 24.4233C.\n",
    "\n",
    "Because we know for certain the gravity value at one of the stations, we can use its value, and the relative differences from the gravimeters, to determine the absolute gravity at each of the other stations."
   ]
  },
  {
   "cell_type": "markdown",
   "id": "7e4758c6-f3b0-400f-b4b4-06355602a0b3",
   "metadata": {},
   "source": [
    "After drift corrections your data are explicitly the differences between each visit and station 1 ($\\Delta S_i$). Use these values to calculate the absolute gravity at each station.\n",
    "\n",
    "$$ g_{abs, S_2} = \\Delta(S_2) + g_{abs, S_1} $$"
   ]
  },
  {
   "cell_type": "code",
   "execution_count": 20,
   "id": "30d621b3-a5c8-44da-b580-a4e612c24276",
   "metadata": {},
   "outputs": [],
   "source": [
    "lnr_absol = ...\n",
    "cg5_1_absol = ...\n",
    "cg5_2_absol = ..."
   ]
  },
  {
   "cell_type": "markdown",
   "id": "5cd9251f-c2e4-4eaa-9a12-ae553c0416a1",
   "metadata": {},
   "source": [
    "### Question3\n",
    "For each instrument calculate an approximate gradient between stations 2 and 3.\n",
    "  $$ \\partial_z g \\approx \\frac{g_{S_3} - g_{S_2}}{\\Delta H}$$\n",
    "\n",
    "How close is this to the theoretical free air gradient of -0.3086 mGal/m? Comment on any sources of error you might have encountered."
   ]
  },
  {
   "cell_type": "markdown",
   "id": "a3e33fd3-3ff7-476b-be38-3c615cdafdc3",
   "metadata": {},
   "source": [
    "## Determining the radius of the Earth\n",
    "With the absolute gravity values at each location we can now find the radius of the Earth, without needing to know the mass (or the gravitational constant)! We are going to use a first order Taylor series expansion of Newton’s Universal Law of Gravitation:\n",
    " $$ g_{abs}(R) = \\gamma \\frac{M}{R^2} $$"
   ]
  },
  {
   "cell_type": "markdown",
   "id": "d2d3a69c-82f1-4069-b200-d17f1e631878",
   "metadata": {},
   "source": [
    "**note:** Remember your Taylor series expansion?:\n",
    "$$ f(x) = f(a) + \\frac{f'(a)}{1!}(x-a) + \\frac{f''(a)}{2!}(x-a)^2 + \\dots$$"
   ]
  },
  {
   "cell_type": "markdown",
   "id": "515865fe-44c0-47a6-a278-5bb8c69c8c4f",
   "metadata": {},
   "source": [
    "### Question 4\n",
    "Find an expression for the radius of the Earth at Station 2\n",
    "\n",
    "First, find the derivative of Newton's law with respect to $R$\n",
    "\n",
    "$$\\frac{\\partial g_{abs}}{\\partial R} = \\dots$$\n",
    "\n",
    "Then simplify this using $g_{abs}(R)$ itself. i.e.\n",
    "\n",
    "$$\\frac{\\partial g_{abs}}{\\partial R} = g_{abs}(R) ...$$\n",
    "\n",
    "Use Newton's law in the Taylor series with $f(a) = g_{abs}(S_2)$ and $f(x) = g_{abs}(S_3)$ including only the first order in $x$ to show that $$g_{abs}(S3) \\approx g_{abs}(S_2) - 2 \\frac{g(S_2)}{R_2} \\Delta H$$\n",
    "\n",
    "Finally solve for $R_2$ to obtain an expression for the radius of the Earth at Station 2."
   ]
  },
  {
   "cell_type": "markdown",
   "id": "a472563e-3c41-48e1-a65b-d12b8afb99b3",
   "metadata": {},
   "source": [
    "### Question 5\n",
    "Use your equation to obtain estimates of the earth for each instrument. Comment on how close they were to each other and how close they were to the distance to the center of the Earth in Golden.\n"
   ]
  },
  {
   "cell_type": "markdown",
   "id": "f16fa06b-2b7a-41dc-ac22-ae63b041bf74",
   "metadata": {},
   "source": [
    "# Deliverables:\n",
    "Submit a non-formal report detailing your experiment. You are welcome to work together, but your final submitted work should be your own.\n",
    "* Describe the steps necessary to take a reading with each gravimeter\n",
    "* Answer the questions throughout the report (5 total)\n",
    "* Present the results of your attempts to measure the radius of the earth.\n",
    "* Attach your field notebook to your report."
   ]
  },
  {
   "cell_type": "markdown",
   "id": "a702f9f9-fd6e-4fb8-b505-97b18c4d722c",
   "metadata": {},
   "source": [
    "# Appendix\n",
    "![LNR_Cal](resources/LNR_Callibration_sheet.png)"
   ]
  },
  {
   "cell_type": "code",
   "execution_count": null,
   "id": "9db7ca8f-a788-445f-ba3d-9be8c670e664",
   "metadata": {},
   "outputs": [],
   "source": []
  }
 ],
 "metadata": {
  "kernelspec": {
   "display_name": "Python 3 (ipykernel)",
   "language": "python",
   "name": "python3"
  },
  "language_info": {
   "codemirror_mode": {
    "name": "ipython",
    "version": 3
   },
   "file_extension": ".py",
   "mimetype": "text/x-python",
   "name": "python",
   "nbconvert_exporter": "python",
   "pygments_lexer": "ipython3",
   "version": "3.12.11"
  }
 },
 "nbformat": 4,
 "nbformat_minor": 5
}
