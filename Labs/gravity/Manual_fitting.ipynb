{
 "cells": [
  {
   "cell_type": "code",
   "execution_count": 1,
   "id": "bb6278e2-980c-406d-8ef2-04051d944450",
   "metadata": {
    "tags": []
   },
   "outputs": [],
   "source": [
    "import numpy as np\n",
    "import pandas as pd\n",
    "from grav_utils.grav_interact import GravInteract"
   ]
  },
  {
   "cell_type": "code",
   "execution_count": 2,
   "id": "dfc700fe-7ea5-4db8-a346-fb8c9e665ba5",
   "metadata": {
    "tags": []
   },
   "outputs": [],
   "source": [
    "data_frame = pd.read_csv('data/obs2.grv')\n",
    "\n",
    "# make sure to negate height to convert it to depth\n",
    "obs = np.c_[data_frame['Profile (m)'], -data_frame['height (m)']]\n",
    "data = data_frame['G_D (mGal)']\n",
    "std = data_frame['STD (mGal)']"
   ]
  },
  {
   "cell_type": "code",
   "execution_count": 3,
   "id": "a5c53394-75bd-4219-bdc0-f541acbe8407",
   "metadata": {},
   "outputs": [
    {
     "data": {
      "application/vnd.jupyter.widget-view+json": {
       "model_id": "47d3249d77f14cc49ebefd2c3da444d3",
       "version_major": 2,
       "version_minor": 0
      },
      "text/plain": [
       "GravInteract(children=(FigureWidget({\n",
       "    'data': [{'mode': 'lines',\n",
       "              'type': 'scatter',\n",
       "        …"
      ]
     },
     "execution_count": 3,
     "metadata": {},
     "output_type": "execute_result"
    }
   ],
   "source": [
    "grav_modeler = GravInteract(obs, data, std=std)\n",
    "grav_modeler"
   ]
  },
  {
   "cell_type": "code",
   "execution_count": 4,
   "id": "a6c6db81-dfa3-4cad-877d-3d6123a2e9fa",
   "metadata": {},
   "outputs": [
    {
     "data": {
      "text/plain": [
       "[]"
      ]
     },
     "execution_count": 4,
     "metadata": {},
     "output_type": "execute_result"
    }
   ],
   "source": [
    "grav_modeler.get_polygons()"
   ]
  },
  {
   "cell_type": "code",
   "execution_count": 4,
   "id": "ad41072b-27c1-47da-8663-d2b94b9f6d51",
   "metadata": {},
   "outputs": [
    {
     "data": {
      "text/plain": [
       "'6.3.0'"
      ]
     },
     "execution_count": 4,
     "metadata": {},
     "output_type": "execute_result"
    }
   ],
   "source": [
    "import plotly\n",
    "plotly.__version__"
   ]
  },
  {
   "cell_type": "code",
   "execution_count": 4,
   "id": "a9c1f2f5-8223-4b98-b1bd-f929b4c85b94",
   "metadata": {},
   "outputs": [],
   "source": [
    "grav_modeler.fig.layout.autosize = True"
   ]
  },
  {
   "cell_type": "code",
   "execution_count": null,
   "id": "9135f291-4f89-410e-beba-ce27f063511e",
   "metadata": {},
   "outputs": [],
   "source": []
  }
 ],
 "metadata": {
  "kernelspec": {
   "display_name": "Python 3 (ipykernel)",
   "language": "python",
   "name": "python3"
  },
  "language_info": {
   "codemirror_mode": {
    "name": "ipython",
    "version": 3
   },
   "file_extension": ".py",
   "mimetype": "text/x-python",
   "name": "python",
   "nbconvert_exporter": "python",
   "pygments_lexer": "ipython3",
   "version": "3.12.11"
  }
 },
 "nbformat": 4,
 "nbformat_minor": 5
}
