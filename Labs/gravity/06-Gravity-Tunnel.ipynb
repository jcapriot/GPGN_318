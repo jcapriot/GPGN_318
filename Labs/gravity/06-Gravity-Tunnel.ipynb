{
 "cells": [
  {
   "cell_type": "markdown",
   "id": "31253687-b1d6-42e7-b679-8d98f08e7889",
   "metadata": {
    "editable": true,
    "slideshow": {
     "slide_type": ""
    },
    "tags": []
   },
   "source": [
    "# Gravity Survey for Tunnel Detection\n",
    "------------\n",
    "* Due date: October 8, 2025"
   ]
  },
  {
   "cell_type": "markdown",
   "id": "5eba6483-9257-4751-8c85-be66f5341f12",
   "metadata": {},
   "source": [
    "## Objectives\n",
    "\n",
    "Our objectives are:\n",
    "* Design and perform a surface gravity survey to detect the underground steam tunnel in front of the Green Center.\n"
   ]
  },
  {
   "cell_type": "markdown",
   "id": "afccc421-d58f-4215-a0e7-bfe641f329cd",
   "metadata": {},
   "source": [
    "## Background\n",
    "### Tunnels\n",
    "\n",
    "In previous labs you have modeled the tunnels, the approximate range of gravity anomalies was between 30-80 microGal\n"
   ]
  },
  {
   "cell_type": "markdown",
   "id": "23d20845-c623-4138-8c6d-fc25c3fc273b",
   "metadata": {},
   "source": [
    "## Task\n",
    "Broadly your tasks involve three items:\n",
    "\n",
    "### 1) Layout your survey\n",
    "Setup and mark your survey locations on the ground.\n",
    "\n",
    "### 2) Accurately measure the spatial locations\n",
    "Using an appropriately accurate device, measure the station locations.\n",
    "\n",
    "### 3) Measure Gravity\n",
    "Using the gravimeters measure the anomaly of the tunnel. Remember to visit a base station often enough to accurately correct for instrument drift.\n",
    "\n",
    "Afterwards, download the spatial and gravity data from the instruments."
   ]
  },
  {
   "cell_type": "markdown",
   "id": "7431c9fe-d623-4222-8833-54ebb7ca4edc",
   "metadata": {},
   "source": [
    "## Deliverables:\n",
    "\n",
    "Submit an informal report in pdf form detailing:\n",
    "\n",
    "1) Your name and lab title. If you split into two teams, include which team you were on.\n",
    "3) Description of the predicted gravity response prior to survey that guided the data collection process.  A figure of the modeled/predicted data (using the code from last lab) with a descriptive caption.\n",
    "4) Description of the survey implemented in the field (survey length, number of stations, data separations, location relative to tunnels, etc.). A labeled graphic may be helpful to illustrate this.\n",
    "5) Data collected:  Raw data with times (including base station) and standard deviations, as well as processed (drift and free-air corrected) field data you would use for interpretation.  \n",
    "    Please include the following (where you should be including captions for each figure):\n",
    "    * Plot of raw data (with SD error bars)\n",
    "    * Plot of drift and free-air corrected data (with SD error bars)\n",
    "    * Plot of drift, free-air, and simple Bouguer corrected data (with SD error bars)\n",
    "6) A qualitative interpretation of field data (based on what you see visually in the measured gravity data, and relative to the forward models you performed in the previous labs).  \n",
    "    Address the following:\n",
    "    * Compare your response to the models of the tunnels generated in the previous lab.  \n",
    "    * How does your model(s) compare to the data you collected?\n",
    "    * If any discrepancies exist, why? \n",
    "    * What parameters would you like more information about?\n",
    "7) Very brief recommendation on how you would improve the survey if you had the opportunity to re-collect data over the tunnel.\n",
    "8) Assuming your geometry of the tunnels is correct, how would you adjust the density contrast of your model?\n",
    "9) Include the relevant pages of you field notebook."
   ]
  },
  {
   "cell_type": "code",
   "execution_count": null,
   "id": "fa1f81f9-b316-49a1-8424-0ffca079cd7c",
   "metadata": {},
   "outputs": [],
   "source": []
  }
 ],
 "metadata": {
  "kernelspec": {
   "display_name": "Python 3 (ipykernel)",
   "language": "python",
   "name": "python3"
  },
  "language_info": {
   "codemirror_mode": {
    "name": "ipython",
    "version": 3
   },
   "file_extension": ".py",
   "mimetype": "text/x-python",
   "name": "python",
   "nbconvert_exporter": "python",
   "pygments_lexer": "ipython3",
   "version": "3.12.11"
  }
 },
 "nbformat": 4,
 "nbformat_minor": 5
}
