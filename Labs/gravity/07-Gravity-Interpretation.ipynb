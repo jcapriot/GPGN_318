{
 "cells": [
  {
   "cell_type": "markdown",
   "id": "014fc98a-19dd-4083-8697-29914625d11a",
   "metadata": {
    "editable": true,
    "slideshow": {
     "slide_type": ""
    },
    "tags": []
   },
   "source": [
    "# Gravity Model fitting\n",
    "------\n",
    "* Due date: October 15, 2025"
   ]
  },
  {
   "cell_type": "markdown",
   "id": "0b15d442-c967-4d0c-82d7-a70472ddb268",
   "metadata": {
    "editable": true,
    "slideshow": {
     "slide_type": ""
    },
    "tags": []
   },
   "source": [
    "## Objectives\n",
    "Our objectives are:\n",
    "* Familiarize with, and practice, the interpretation of gravity data by a trial-and-error method of modeling.\n",
    "* Understand the ambiguity between the recovered density, geometry, and depth of a causative body during gravity interpretation when the data contain varying error levels.\n",
    "* Quantitatively interpret the gravity data you collected in the previous lab over the “possible” steam tunnel beneath the CSM campus.\n"
   ]
  },
  {
   "cell_type": "code",
   "execution_count": 1,
   "id": "bc774289-d6ee-497d-813c-d1bf4d6cd367",
   "metadata": {},
   "outputs": [],
   "source": [
    "import numpy as np\n",
    "from grav_utils.grav_interact import GravInteract\n",
    "import matplotlib.pyplot as plt\n",
    "import pandas as pd"
   ]
  },
  {
   "cell_type": "markdown",
   "id": "d6fc9a90-3e0c-4eb5-af04-78f4e94fc707",
   "metadata": {
    "editable": true,
    "slideshow": {
     "slide_type": ""
    },
    "tags": []
   },
   "source": [
    "## Background\n",
    "### Interactive Widget\n",
    "\n",
    "The gravity modelling widget you used to forward model, can also load in observed data, additionally with its standard deviation, to compare against!\n",
    "\n",
    "The controls are all the same, except that now your observation locations should be the same as your observed data locations, and you can additionally pass a data and standard deviation arrays.\n",
    "\n",
    "You should also notice that when data are loaded into it, it displays a value called \"misfit\" representing how poorly the observed and predicted data match each other (the smaller the the closer it matches the observed data). In this widget, the misfit is defined as:\n",
    "\n",
    "$$ \\frac{1}{N_d}\\sum_{i=1}^{N_d} \\left(\\frac{d_{pre,i} - d_{obs,i}}{\\sigma_i}\\right)^2$$\n"
   ]
  },
  {
   "cell_type": "markdown",
   "id": "501f5037-b591-49ca-8941-c52735de1e4d",
   "metadata": {},
   "source": [
    "## Tasks\n"
   ]
  },
  {
   "cell_type": "markdown",
   "id": "082781be-589d-4d7c-982b-93dfa2fa3aba",
   "metadata": {},
   "source": [
    "You will be interpreting three sets of data in this lab. The first two are supplied in the data files:\n",
    "`data\\obs1.grv` and `data\\obs2.grv`. For the third data set, use the data you collected over the steam tunnel."
   ]
  },
  {
   "cell_type": "markdown",
   "id": "45b9d202-3bcb-4588-9c3b-612beecd3569",
   "metadata": {},
   "source": [
    "## Data Set 1\n"
   ]
  },
  {
   "cell_type": "markdown",
   "id": "9aca1aad-51b7-4554-9c71-2d0dff4c74d4",
   "metadata": {},
   "source": [
    "For the first part we will load in the `data/obs1.grv` csv data file using pandas"
   ]
  },
  {
   "cell_type": "code",
   "execution_count": 24,
   "id": "b9a3ad37-5549-4242-b16e-120791f408f3",
   "metadata": {
    "scrolled": true
   },
   "outputs": [],
   "source": [
    "dat1_frame = pd.read_csv('data/obs1.grv')"
   ]
  },
  {
   "cell_type": "markdown",
   "id": "ade9fd58-9636-4598-8f9c-85902c681795",
   "metadata": {},
   "source": [
    "Then to make it a little clearer for the inputs to the modeler, let's collect the values of interest into there own variables."
   ]
  },
  {
   "cell_type": "code",
   "execution_count": 22,
   "id": "2847da93-8f37-4369-abe4-ac62d625a03f",
   "metadata": {},
   "outputs": [],
   "source": [
    "obs1 = np.c_[dat1_frame['Profile (m)'], dat1_frame['height (m)']]\n",
    "dat1 = dat1_frame['G_D (mGal)']\n",
    "std1 = dat1_frame['STD (mGal)']"
   ]
  },
  {
   "cell_type": "markdown",
   "id": "1b46640a-2afa-4fd2-a777-37f5e8b32e35",
   "metadata": {},
   "source": [
    "And finally pass it to the modeler.\n",
    "\n",
    "\n",
    "### Question 1: \n",
    "Based on the responses you saw in previous labs, what do you think the model is?"
   ]
  },
  {
   "cell_type": "code",
   "execution_count": 23,
   "id": "1f7b5e3a-63c2-482d-8e7d-488364f76909",
   "metadata": {},
   "outputs": [
    {
     "data": {
      "application/vnd.jupyter.widget-view+json": {
       "model_id": "cac025a0e0424d4fb32cee75c842e0e6",
       "version_major": 2,
       "version_minor": 0
      },
      "text/plain": [
       "GravInteract(children=(FigureWidget({\n",
       "    'data': [{'mode': 'lines',\n",
       "              'type': 'scatter',\n",
       "        …"
      ]
     },
     "execution_count": 23,
     "metadata": {},
     "output_type": "execute_result"
    }
   ],
   "source": [
    "modeler = GravInteract(obs1, dat1, std1)\n",
    "modeler"
   ]
  },
  {
   "cell_type": "markdown",
   "id": "8aa8f4ef-53a6-4b30-baa0-7e94c8cab234",
   "metadata": {},
   "source": [
    "### Question 2:\n",
    "Now begin the process of trial-and-error modeling to interpret the data set and find three different polygons that each fit the data to within their standard deviations/ Remember to save the polygon models so you can reload them later, either with the `modeler.get_polygons()` and `modeler.load_polygons()` methods, or the save and load buttons on the widget."
   ]
  },
  {
   "cell_type": "markdown",
   "id": "6572481d-ac1d-43ba-96be-8dc7c6c06d67",
   "metadata": {},
   "source": [
    "1) Find a dipping slab with four vertices and a density contrast of 1.0 g/cc"
   ]
  },
  {
   "cell_type": "markdown",
   "id": "0de91638-93f5-4b9f-9d63-a5b715a4bfd3",
   "metadata": {},
   "source": [
    "2) Find a similar body with a density contrast of 0.6 g/cc, with a few more vertices (Likely starting from your model in part 1)"
   ]
  },
  {
   "cell_type": "markdown",
   "id": "0b801939-0e35-492b-8280-fa130d61b4a7",
   "metadata": {},
   "source": [
    "3) Find a model that has a density of 1.4 g/cc and a flat top."
   ]
  },
  {
   "cell_type": "markdown",
   "id": "eaf7093f-f74a-4ec1-b0f2-a6855d735c6b",
   "metadata": {
    "jp-MarkdownHeadingCollapsed": true
   },
   "source": [
    "**note**: For each of these cases, you should aim to get your data misfit close to 1.\n",
    "Also, it could be helpful to create a new widget for each part of this question (with different variable names so they don't clobber each other)"
   ]
  },
  {
   "cell_type": "markdown",
   "id": "33cec1d4-f4af-4f24-bba6-de8c11888e4b",
   "metadata": {},
   "source": [
    "## Data Set 2\n"
   ]
  },
  {
   "cell_type": "markdown",
   "id": "18cb8332-a351-4cea-ba3f-9c810df1ae8b",
   "metadata": {},
   "source": [
    "For the second part we will load in the `data/obs2.grv` csv data file using pandas. You should notice that these data look similar to **Data Set 2**, but have a much lower standard deviation."
   ]
  },
  {
   "cell_type": "code",
   "execution_count": 28,
   "id": "d6a18679-c7d7-43c8-bc0e-33b41b0f70c8",
   "metadata": {
    "scrolled": true
   },
   "outputs": [],
   "source": [
    "dat2_frame = pd.read_csv('data/obs2.grv')\n",
    "obs2= np.c_[dat2_frame['Profile (m)'], dat2_frame['height (m)']]\n",
    "dat2c= dat2_frame['G_D (mGal)']\n",
    "std2 = dat2_frame['STD (mGal)']"
   ]
  },
  {
   "cell_type": "code",
   "execution_count": 29,
   "id": "ca06bd0e-b216-4729-a5ff-b6c37ac31c0e",
   "metadata": {},
   "outputs": [
    {
     "data": {
      "application/vnd.jupyter.widget-view+json": {
       "model_id": "5a31cc5c237b4256970d9bb25613f342",
       "version_major": 2,
       "version_minor": 0
      },
      "text/plain": [
       "GravInteract(children=(FigureWidget({\n",
       "    'data': [{'mode': 'lines',\n",
       "              'type': 'scatter',\n",
       "        …"
      ]
     },
     "execution_count": 29,
     "metadata": {},
     "output_type": "execute_result"
    }
   ],
   "source": [
    "modeler2 = GravInteract(obs1, dat1, std1)\n",
    "modeler2"
   ]
  },
  {
   "cell_type": "markdown",
   "id": "4e0ec78a-73cd-4308-a61f-fc3db4ffb6ba",
   "metadata": {},
   "source": [
    "### Question 3\n",
    "1) Input the three models you found in the previous question (part 2), are they still acceptable models? Discuss why or why not.\n",
    "2) Pick one of the cases that is not acceptable, and find a new model that fits the data. Discuss the difference between the model derived for the `obs1.grv` data, and this model.\n"
   ]
  },
  {
   "cell_type": "markdown",
   "id": "85b3894e-2419-46f3-90a1-5eb4bb9b57eb",
   "metadata": {},
   "source": [
    "## Tunnel data\n",
    "Now that you are hopefully comfortable with the process of trial-and-error modeling, lets attempt it with the data you collected over the tunnel.\n",
    "\n",
    "1) Read in the processed gravity data (drift, free-air, and simple Bouguer corrected).\n",
    "    * You will also need the *profile distance*, and height of each observation point.\n",
    "2) You might have noticed in your previous lab that there was still a trend in your data set. We want to isolate the gravity anomaly due to the tunnels,\n",
    "    * Fit a line to your data set (`np.polynomial.Polynomial.fit()`) as a function of profile distance and processed gravity\n",
    "    * Remove that linear trend from your data set.\n",
    "3) Start up the widget with this data.\n",
    "4) Find a model that fits your data set, and is consistent with the prior information you have about the tunnel (think the measurements you took).\n",
    "    * You can adjust the position and density contrast of the tunnel to make it fit the data!\n",
    "    * Is there a range of density contrasts that could fit your data?\n",
    "5) Discuss your ability to fit the data, and the quality of your recovered model in comparison to your previous knowledge of the tunnel(s).\n"
   ]
  },
  {
   "cell_type": "markdown",
   "id": "b2cd8ae9-1622-43ef-84ac-10c380c94e4d",
   "metadata": {},
   "source": [
    "# Deliverables\n",
    "Submit an informal report in pdf form detailing:\n",
    "1) Your name and lab title.\n",
    "1) Your three interpreted models using the `obs1.grv` data set, with a brief description of each. (Include an image of the data fit, the model, and list the locations of the polygon’s nodes).\n",
    "1) Plots showing how well your previous models fit the `obs2.grv` data, with a brief description of which models are still successful.\n",
    "1) The new model you found that better fits `obs2.grv`, and discuss the updates and show the updated data.\n",
    "1) Plots showing the model and data fit, as well as describe your chosen density contrast for the tunnel. Include the requested discussion from that section.\n",
    "1) Address the following discussion points:\n",
    "    1. How does the size of the model change as you decrease the assumed density contrast?\n",
    "    2. Based on Gauss’s law, can you predict how the product of the density contrast and the area of the polygon will change? Will it increase, remain the same, or decrease as you increase density contrast?\n",
    "    3. Can you uniquely determine the shapes of the sources that originally produced the data without knowledge of the density contrast? What if you do know the density contrast?\n",
    "4. How do the errors in the data affect your interpretation?\n"
   ]
  },
  {
   "cell_type": "code",
   "execution_count": null,
   "id": "4be67687-002e-4363-8442-61be36dfbd1c",
   "metadata": {},
   "outputs": [],
   "source": []
  }
 ],
 "metadata": {
  "kernelspec": {
   "display_name": "Python 3 (ipykernel)",
   "language": "python",
   "name": "python3"
  },
  "language_info": {
   "codemirror_mode": {
    "name": "ipython",
    "version": 3
   },
   "file_extension": ".py",
   "mimetype": "text/x-python",
   "name": "python",
   "nbconvert_exporter": "python",
   "pygments_lexer": "ipython3",
   "version": "3.12.11"
  }
 },
 "nbformat": 4,
 "nbformat_minor": 5
}
