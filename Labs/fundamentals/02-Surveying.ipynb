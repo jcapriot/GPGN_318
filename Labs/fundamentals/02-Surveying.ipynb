{
 "cells": [
  {
   "cell_type": "markdown",
   "id": "4e1b1fcc-0de8-48f4-811f-94563ec8f089",
   "metadata": {},
   "source": [
    "# Surveying Techniques\n",
    "----------\n",
    "\n",
    "* Due date: September 10, 2025"
   ]
  },
  {
   "cell_type": "code",
   "execution_count": 16,
   "id": "8d304a1f-96b2-47c0-a377-3a5fd518b70c",
   "metadata": {},
   "outputs": [],
   "source": [
    "from utils import make_lab_grid"
   ]
  },
  {
   "cell_type": "markdown",
   "id": "49e1fdf8-4be0-41e1-ab8b-87de2c000703",
   "metadata": {},
   "source": [
    "# Objectives"
   ]
  },
  {
   "cell_type": "markdown",
   "id": "70ef8e4c-f4d4-4b0a-9ee0-181544e302f5",
   "metadata": {},
   "source": [
    "This lab is designed to give you an understanding of basic surveying techniques including setting up a survey grid, and measuring their locations via GPS. You will see first hand some of the errors associated with taking GPS measurements, and you will compare the resulting measurements of different surveying methods.\n",
    "\n",
    "Your overall goals for this lab are to:\n",
    "1. Setup a survey grid\n",
    "1. Measure the locations of the flags in the survey grid using multiple methods\n",
    "1. Record your processes and relevant data in your field notebook, in accordance with the rubric\n",
    "1. Offload the data and map the collected GPS points.\n",
    "1. Write an informal report detailing your results."
   ]
  },
  {
   "cell_type": "markdown",
   "id": "f97367ce-fbae-40eb-a628-89b015386cc3",
   "metadata": {},
   "source": [
    "You have 4 tasks to accomplish in the field:\n",
    "\n",
    "1. Setup a square survey grid of 20m x 20m, with flagged locations every 5 meters.\n",
    "1. Measure the locations of the flags using Handheld GPS.\n",
    "1. Measure the locations of the flags using the Total Station\n",
    "1. Measure the locations of the flags using a DIfferential GPS"
   ]
  },
  {
   "cell_type": "markdown",
   "id": "e7d993a2-b306-4764-8858-cb4db41787bc",
   "metadata": {},
   "source": [
    "# Background"
   ]
  },
  {
   "cell_type": "markdown",
   "id": "f191d051-d0bf-4126-a826-2253c0b65494",
   "metadata": {},
   "source": [
    "In this lab you will be using three different types of instruments to measure the locations of a survey grid you set up on Kafadar commons. Particularly of note, there are two control points located in the vicinity of Kafadar that we will make use of. One is a survey marker in front of Guggenheim, the second is a well cap on the commons. Their UTM locations are:\n",
    "\n",
    "|Location | Northing(m) | Easting (m) | Elevation (m) |\n",
    "|---------|-------------|-------------|---------------|\n",
    "| Survey marker EL5773| 4,400,167.148 | 480,944.351 | 1744.951 |\n",
    "|Kafadar borehole | 4,400,178.933 | 481,043.533 | 1,743.994 |"
   ]
  },
  {
   "cell_type": "markdown",
   "id": "47cf5499-5d25-4eb1-a969-96e7a6172b67",
   "metadata": {},
   "source": [
    "# Equipment\n",
    "\n",
    "You will be working with different types of surveying equipment\n",
    "1) Tape Measure\n",
    "1) Handheld GPS (as before)\n",
    "1) Total Station\n",
    "1) Differential GPS"
   ]
  },
  {
   "cell_type": "markdown",
   "id": "b0d31142-9c26-400e-8aec-31a844f00007",
   "metadata": {},
   "source": [
    "### Handheld: Garmin GPSMAP 67i\n",
    "![GPSMAP 67i](https://res.garmin.com/en/products/010-02812-00/g/cf-lg.jpg)\n",
    "\n",
    "[Owner's Manual](https://www8.garmin.com/manuals/webhelp/GUID-11021D65-32D1-4558-A83E-F7F74FF88D7E/EN-US/GUID-1B5E73CC-FB09-42E7-A436-9B57D0EF4892-homepage.html)"
   ]
  },
  {
   "cell_type": "markdown",
   "id": "e7147578-b96f-47af-b66f-e8008d324226",
   "metadata": {},
   "source": [
    "### Trimble C5 Total Station:\n",
    "![Trimble C5](https://images.ctfassets.net/1nvkn1423yot/3cSDqj8ZqX3SE45Pq503Je/1071896224b58e47cc962e00743b173d/geo-c5-productpage-fullbackgroundproducthero-800x960.png)\n",
    "\n",
    "[User Manual](http://geonovus.lt/sites/default/files/c5_usergde_1b_eng.pdf)"
   ]
  },
  {
   "cell_type": "markdown",
   "id": "e4de4fa4-e2a4-4a9e-ae35-ccae98908481",
   "metadata": {},
   "source": [
    "### Trimble R10/R12\n",
    "![R10](https://geomaticslandsurveying.com/wp-content/uploads/2018/11/trimble-r10-price.jpg.webp)\n",
    "\n",
    "[R10 User Manual](https://www.neigps.com/wp-content/uploads/2014/01/R10-UserGuide.pdf)\n",
    "\n",
    "[R12 User Manual](https://www.geooptic.ru/static/files/Trimble-R12-GNSS-Receiver-User-Guide_Nov2019.pdf?srsltid=AfmBOordzZ73PUQkRvUPj78tYA5ylvtv5gSwlvKRswyerNxn4XrsDSUi)"
   ]
  },
  {
   "cell_type": "markdown",
   "id": "3c09b572-d9a1-4b34-b03e-f24799c94d0f",
   "metadata": {},
   "source": [
    "### Emlid Reach RS2+/RS3\n",
    "\n",
    "[Emlid Flow](https://emlid.com/emlid-flow/) The software to control these receivers is free to download and available for both iOS and Android devices\n",
    "\n",
    "![RS3](https://emlid.com/wp-content/uploads/2023/09/RS3-doc-1.webp)\n",
    "\n",
    "[RS3 Manual](https://docs.emlid.com/reachrs3/?_gl=1*ohem6f*_gcl_au*MTMwOTA1NjgwMC4xNzU2ODUwODk0*_ga*OTY5NzQzODA1LjE3NTY4NTA4OTQ.*_ga_2L30ZMM7Q4*czE3NTY4NTA4OTMkbzEkZzEkdDE3NTY4NTA5MjckajI2JGwwJGgw)\n",
    "\n",
    "![RS2](https://emlid.com/wp-content/uploads/2023/09/RS2-doc-1.webp)\n",
    "\n",
    "[RS2 Manual](https://docs.emlid.com/reachrs2/?_gl=1*jfod2z*_gcl_au*MTMwOTA1NjgwMC4xNzU2ODUwODk0*_ga*OTY5NzQzODA1LjE3NTY4NTA4OTQ.*_ga_2L30ZMM7Q4*czE3NTY4NTA4OTMkbzEkZzEkdDE3NTY4NTA5NTIkajEkbDAkaDA.)"
   ]
  },
  {
   "cell_type": "markdown",
   "id": "30e3d37e-0e9e-4651-adac-3f7f4a2da907",
   "metadata": {},
   "source": [
    "### Tape Measure:\n",
    "![Measure](embedded_images/tape_measure.avif)\n",
    "\n",
    "[User Manual](https://rick.nerial.uk/video.mp4)"
   ]
  },
  {
   "cell_type": "markdown",
   "id": "edd714b8-68ac-4a47-a0a5-3296b2b26d6e",
   "metadata": {},
   "source": [
    "# Tasks"
   ]
  },
  {
   "cell_type": "markdown",
   "id": "0f8a10f1-490f-4560-aa15-d94bb622c120",
   "metadata": {},
   "source": [
    "## Task 1 - Grid setup\n",
    "As a class, determine a suitable method to set up a 20m x 20m square survey grid using tape measures:"
   ]
  },
  {
   "cell_type": "code",
   "execution_count": 19,
   "id": "c17b2b00-45bc-4544-b712-1df009c520b7",
   "metadata": {},
   "outputs": [
    {
     "data": {
      "image/png": "[encoded data removed]",
      "text/plain": [
       "<Figure size 800x600 with 1 Axes>"
      ]
     },
     "metadata": {},
     "output_type": "display_data"
    }
   ],
   "source": [
    "plt.figure(figsize=(4,3),dpi=200); make_lab_grid();"
   ]
  },
  {
   "cell_type": "markdown",
   "id": "b0a5f3b1-bc83-487b-acdb-f8aa29ecc285",
   "metadata": {},
   "source": [
    "Placing flags every 5 meters should be straight forward, keeping the entire grid a square is slightly more challenging. You will also need to come up with (and communicate) a logical naming scheme for the stations.\n",
    "\n",
    "After the survey flags are set up, (and the two base stations are set up) we will split into 5 groups of 4-5 people to perform some tasks in parallel.\n",
    "\n",
    "In your field notebooks, make sure to include sufficient details so that you can identify the survey grid points at a later date, possibly including a general sketch of the area and the names of each station.\n"
   ]
  },
  {
   "cell_type": "markdown",
   "id": "002f55c0-be0c-4f07-b05f-37bd7551c8d8",
   "metadata": {},
   "source": [
    "## Task 2 - Handheld GPS\n",
    "Using a handheld Garmin, record the location and elevation of each flag in your field notebook. Consider where you should place your handheld receiver to obtain the most accurate elevations of the flags.\n",
    "\n",
    "Also in your field notebooks, be sure to note which Garmin you are using and the steps necessary to mark the locations.\n",
    "\n",
    "**GROUPS**:\n",
    "\tEach group will measure all of the survey flags."
   ]
  },
  {
   "cell_type": "markdown",
   "id": "644269fa-d1bd-40f6-8d58-b905770387fb",
   "metadata": {},
   "source": [
    "## Task 3 - Total Station\n",
    "\n",
    "### Choosing a base station\n",
    "As discussed in class, the total station requires a line-of-sight between the base station and the marked flags to be able to measure their location. Choose an appropriate location for the base station such that it has line of sight to both control points (the survey marker in front of Guggenheim and the Kafadar borehole) and to all of the flags.\n",
    "\n",
    "**GROUP SPLIT**:\n",
    "\tEach group will measure one line of the survey flags. You will aggregate the collected data amongst your classmates.\n",
    "\n",
    "### Collecting Data\n",
    "Using the total station and the reflecting prism you will measure the locations of each of the flags.\n",
    "\n",
    "We will allow the total station to determine its own position by measuring the two control points (A process known as resectioning or free stationing).\n",
    "\n",
    "In the instrument you will have to:\n",
    "* Start a new survey (with a coordinate system of UTM zone 13 North, WGS84 ellipsoid)\n",
    "* Manually enter the two known locations to the survey.\n",
    "* Then resection and shoot to these two known locations.\n",
    "\n",
    "You will also need to:\n",
    "* Measure the height of the target prism.\n",
    "* Measure the air temperature and pressure.\n",
    "\n",
    "P.S.: These are great things to also record in your field notebook!\n",
    "\n",
    "**Note**: The C5's data collection software does all of the geometry calculations for you, so you don't have to bother with trigonometry for this lab (at least to measure locations)."
   ]
  },
  {
   "cell_type": "markdown",
   "id": "83b21a91-99e6-461f-a676-6a88c4eb584b",
   "metadata": {},
   "source": [
    "## Task 4 - Differential GPS\n",
    "We have two different GNSS systems: the Trimble R10, and the Emlid Reach, with different software to interact with them, but they function essentially the same.\n",
    "\n",
    "After the total station has been set up and a measurement has been taken to each control point, we will set up differential GPS base station over them.\n",
    "\n",
    "For configuring the differential gps instruments:\n",
    "* The GNSS Base stations should be set up with a known and fixed location.\n",
    "    * Level the antenna on a tripod directly over the known location\n",
    "    * Measure the height of the gps antenna above the known location\n",
    "    * Start a survey and manually enter the coordinates of the fixed location.\n",
    "        * Make sure you are in the correct coordinate system (UTM Zone 13 North, WGS84)\n",
    "* When taking a measurement setup your collection device to average over at least 5 seconds\n",
    "\n",
    "\n",
    "**GROUP SPLIT**:\n",
    "\tEach group will measure a line of flags. You will aggregate the collected data amongst your classmates.\n",
    "\n",
    "\n",
    "**note**: The differential GPS base stations can be set up to use an external radio as well to extend their communication distances"
   ]
  },
  {
   "cell_type": "markdown",
   "id": "cda16d5c-2765-430e-ad64-c2afbcc2a39a",
   "metadata": {},
   "source": [
    "# Reports\n",
    "\n",
    "**As a class**:\n",
    "* Each group must copy their handheld gps coordinates into a sensibly formatted text file\n",
    "* Upload all data to the shared one-drive (link can be found on Canvas)\n",
    "* Include a readme file about the uploaded data (the metadata).\n",
    "\n",
    "You are welcome to work together if you struggle processing your data, but each member should produce an informal report that includes the following (in your own words):\n",
    "\n",
    "1. Describe how the GPS receivers calculate our position.\n",
    "1. Describe how a Differential GPS reduces the error compared to a handheld GPS. \n",
    "1. Describe how a Total Station is used to determine position.\n",
    "1. Include a map of the GPS locations for each method (Can be a simple scatter plot with matplotlib).\n",
    "1. Compare the results of the different measurement techniques, considering:\n",
    "    * How close are the three \"precise\" techniques to each other?\n",
    "    * How close are the handheld measurements to each other.\n",
    "    * Postulate on reasons for the respective accuracies of each.\n",
    "1. Include a scan of the relevant pages of your lab notebook."
   ]
  },
  {
   "cell_type": "code",
   "execution_count": null,
   "id": "16eb5036-993b-42bb-b57a-0fc7ea794b6a",
   "metadata": {},
   "outputs": [],
   "source": []
  }
 ],
 "metadata": {
  "kernelspec": {
   "display_name": "Python 3 (ipykernel)",
   "language": "python",
   "name": "python3"
  },
  "language_info": {
   "codemirror_mode": {
    "name": "ipython",
    "version": 3
   },
   "file_extension": ".py",
   "mimetype": "text/x-python",
   "name": "python",
   "nbconvert_exporter": "python",
   "pygments_lexer": "ipython3",
   "version": "3.12.11"
  }
 },
 "nbformat": 4,
 "nbformat_minor": 5
}
