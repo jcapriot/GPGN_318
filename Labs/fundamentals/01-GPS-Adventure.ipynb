{
 "cells": [
  {
   "cell_type": "markdown",
   "id": "464fcb69-3438-4c77-9313-ef3f677d11ba",
   "metadata": {
    "editable": true,
    "slideshow": {
     "slide_type": ""
    },
    "tags": []
   },
   "source": [
    "# GPS Adventure\n",
    "\n",
    "------\n",
    "* Due date: September 4, 2025"
   ]
  },
  {
   "cell_type": "markdown",
   "id": "243a5e44-ec78-41cd-93a0-4cb9ed83086e",
   "metadata": {
    "editable": true,
    "slideshow": {
     "slide_type": ""
    },
    "tags": []
   },
   "source": [
    "# Objectives\n",
    "\n",
    "* You're goal is to use GPS to locate significant features at several locations around the School of Mines Campus and Downtown Golden.\n",
    "* Get experience using handheld GPS to locate points\n",
    "* Learn about UTM Coordinates\n",
    "\n",
    "\n",
    "Note:\n",
    "* I encourage you to work together in teams to find the pieces of Golden History.\n",
    "* If you visit these locations in order, it should be a decent stroll."
   ]
  },
  {
   "cell_type": "markdown",
   "id": "3465e24a-1d25-4e3b-9ace-05b17f0216fd",
   "metadata": {},
   "source": [
    "\n",
    "| Location | UTM Zone | Easting | Northing |\n",
    "|----------|----------|---------|----------|\n",
    "| 1 | 13 North (13S) |480944 m E |4400167 m N|\n",
    "|2| 13 North (13S)| 480953 m E|4400123 m N|\n",
    "|3|13 North (13S)|480932 m E|4400102 m N|\n",
    "|4|13 North (13S)|480761 m E|4400231 m N|\n",
    "|5|13 North (13S)|480546 m E|4400275 m N|\n",
    "|6|13 North (13S)|480656 m E|4400579 m N|\n",
    "|7|13 North (13S)|480828 m E|4400547 m N|\n",
    "|8|13 North (13S)|481000 m E|4400670 m N|\n",
    "|9|13 North (13S)|481124 m E|4400529 m N|\n",
    "|10|13 North (13S)|481146 m E|4400270 m N|"
   ]
  },
  {
   "cell_type": "markdown",
   "id": "900f2dda-de77-4f8e-b342-e116ae7e3cb3",
   "metadata": {},
   "source": [
    "## Equipment\n",
    "* Handheld GPS\n",
    "* Camera"
   ]
  },
  {
   "cell_type": "markdown",
   "id": "3a3eac6f-0b57-4890-ba87-18325011d9b6",
   "metadata": {
    "editable": true,
    "slideshow": {
     "slide_type": ""
    },
    "tags": []
   },
   "source": [
    "# Report\n",
    " Please create an informal report where for each marker:\n",
    " * List the point of interest you found\n",
    " * Include a photo of yourself (or your entire team) at each marker.\n",
    " * If you worked in a team identify all of your team members!\n",
    " * Make sure you include your relevant notebook pages, at the very least detailing the steps you took to enter points into the GPS.\n",
    "\n",
    "For submissions:\n",
    " * The **team** may submit a single report\n",
    " * Every ***individual*** must still submit a copy of their field notebooks for evaluation."
   ]
  }
 ],
 "metadata": {
  "kernelspec": {
   "display_name": "Python 3 (ipykernel)",
   "language": "python",
   "name": "python3"
  },
  "language_info": {
   "codemirror_mode": {
    "name": "ipython",
    "version": 3
   },
   "file_extension": ".py",
   "mimetype": "text/x-python",
   "name": "python",
   "nbconvert_exporter": "python",
   "pygments_lexer": "ipython3",
   "version": "3.12.11"
  }
 },
 "nbformat": 4,
 "nbformat_minor": 5
}
