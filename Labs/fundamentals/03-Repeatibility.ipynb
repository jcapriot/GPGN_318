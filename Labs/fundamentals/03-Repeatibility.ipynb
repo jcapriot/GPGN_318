{
 "cells": [
  {
   "cell_type": "markdown",
   "id": "f4db36bf-7b59-4409-bf7d-660ab1baad88",
   "metadata": {},
   "source": [
    "# Repeatibility\n",
    "---------------\n",
    "\n",
    "* Due date: September 17, 2025"
   ]
  },
  {
   "cell_type": "markdown",
   "id": "aaa172f0-62f2-4672-9666-e7932b171de9",
   "metadata": {},
   "source": [
    "# Objectives\n",
    "\n",
    "This lab is designed to give you an understanding of how errors and noise effect the data we collect.\n",
    "As such you will collect many repeated measurements using geophysical equipment. The system we will use to explore this is a Self-Potential measurement.\n",
    "\n",
    "* Should be enough equipment for 10 groups (of 2 people)\n",
    "* Each group should:\n",
    "    * Choose a single reference location\n",
    "    * Choose 5 (or more) sample locations\n",
    "    * Take as many measurements at each location as possible (aim for at least 10)\n",
    "    * Choose any order you like to take the measurements\n",
    "\n",
    "# Background\n",
    "\n",
    "## Self-Potential (SP)\n",
    "We will discuss this more later, but fundamentally there are spurious and naturally occuring electrical currents running throughout the earth, these currents can be measured by looking at the electrical potential at locations on the surface. The units of electrical potential are volts.\n",
    "\n",
    "## Measuring SP\n",
    "Probably the simplest geophysical setup\n",
    "* Plant one electrode in the ground\n",
    "* Attach a wire to it\n",
    "* Plant another electrode in the ground\n",
    "* Attach a wire to it\n",
    "* Measure the DC voltage between the two electrodes with a Multimeter\n",
    "    * Connect the COM/ground/black socket to the reference electrode.\n",
    "    * Connect the Red/Voltage socket to the roving electrode.\n",
    "    * The instrument will tell you $\\Delta V = V_{red} - V_{black}$ (so you could switch the two probes and negate the number in your head)\n",
    "* Record the value in your notebook"
   ]
  },
  {
   "attachments": {
    "832d518a-2e8b-4209-b644-f4fc9f849667.png": {
     "image/png": "[encoded data removed]"
    }
   },
   "cell_type": "markdown",
   "id": "0829b2a5-79b8-4a90-973a-b6debdd4d11e",
   "metadata": {},
   "source": [
    "# Equipment\n",
    "\n",
    "## Multimeter\n",
    "They won't all look like this, but this describes what you would generally expect:\n",
    "\n",
    "![Multimeter](https://www.sciencebuddies.org/cdn/Dirs/14/11/amprobe-multimeter_img.jpg)\n",
    "\n",
    "Look for this symbol on the dial to measure DC voltage:\n",
    "\n",
    "![image.png](attachment:832d518a-2e8b-4209-b644-f4fc9f849667.png)"
   ]
  },
  {
   "cell_type": "markdown",
   "id": "a0dcd846-9ec2-4722-8fe1-870722c97a40",
   "metadata": {},
   "source": [
    "## Electrodes (Probes)\n",
    "Non-polarizing, usually ceramic tipped.\n",
    "\n",
    "![probe](https://www.agiusa.com/sites/default/files/styles/imagedrop/public/gallery-images/Acc_Non%20Polarizable%20Electrode.png?itok=8_UHY7PL)\n",
    "\n",
    "* Literally just stick it in the ground and attach a wire to it, that's it, that's the user manual."
   ]
  },
  {
   "cell_type": "markdown",
   "id": "32bff87a-792c-4480-9db7-e5983a07c579",
   "metadata": {},
   "source": [
    "## Wire\n",
    "![wire](https://t4.ftcdn.net/jpg/00/06/86/53/360_F_6865352_ld6iSbyoOuTyH1CrX3J6vefkqxPuuPeW.jpg)\n",
    "\n",
    "[User Manual](https://rick.nerial.uk/video.mp4)"
   ]
  },
  {
   "cell_type": "markdown",
   "id": "040f265c-9e07-45de-87c5-beae9372a5c7",
   "metadata": {},
   "source": [
    "# Tasks\n",
    "1) Split yourselves into 10 groups\n",
    "2) Plan your \"survey\" on Kafadar ( or Stratton commons)\n",
    "3) Collect repeat measurements at at least 5 locations for your roving electrode\n",
    "4) Digitize and upload your data to the one-drive folder (with appropriate meta-data)"
   ]
  },
  {
   "cell_type": "markdown",
   "id": "03f8e110-e449-423c-a283-26d3f077fd34",
   "metadata": {},
   "source": [
    "# Report\n",
    "For your submission:\n",
    "\n",
    "* At each location\n",
    "    * plot a histogram of the data you measured, comment on what the distribution looks like.\n",
    "    * report the mean and standard deviation of your measurements.\n",
    "    * report the number of samples contributing towards the mean and the standard deviation of the mean.\n",
    "    * Make a guess as to sources of error in your measurement.\n",
    "* Share this information amongst your classmates.\n",
    "    * How do your errors correspond to other groups?\n",
    "* Include your notebooks:\n",
    "    * Keep following the general good practice and formatting of your notebooks\n",
    "    * In addition to the data themselves, make sure you have information about\n",
    "        * How you took measurements\n",
    "        * Where you took measurements\n",
    "        * When you took measurements\n",
    "        * Anything odd that happened"
   ]
  }
 ],
 "metadata": {
  "kernelspec": {
   "display_name": "Python 3 (ipykernel)",
   "language": "python",
   "name": "python3"
  },
  "language_info": {
   "codemirror_mode": {
    "name": "ipython",
    "version": 3
   },
   "file_extension": ".py",
   "mimetype": "text/x-python",
   "name": "python",
   "nbconvert_exporter": "python",
   "pygments_lexer": "ipython3",
   "version": "3.12.11"
  }
 },
 "nbformat": 4,
 "nbformat_minor": 5
}
