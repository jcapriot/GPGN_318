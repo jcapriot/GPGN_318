{
 "cells": [
  {
   "cell_type": "markdown",
   "id": "a7a31586",
   "metadata": {},
   "source": [
    "# Free Stationing\n",
    "This notebook illustrates how to determine the location and orientation of your total station by sighting to two known points.\n",
    "\n",
    "## NOTE\n",
    "All distances in this example are horizontal distances. The distance measured by the total station also includes a difference in elevation between the two points (the $Z$ coordinates, calculating the true elevation of the station you are at is straightforward from the lecture slides ) thus you would need to use $r \\cos\\theta$ where $r$ is the sight distance between the two points, $\\theta$ is the vertical angle between the horizon and you're sight points."
   ]
  },
  {
   "cell_type": "code",
   "execution_count": 1,
   "id": "8f3cb2f8",
   "metadata": {},
   "outputs": [],
   "source": [
    "import numpy as np\n",
    "from scipy.constants import degree\n",
    "# scipy has a bunch of useful constants that can give you some piece of mind\n",
    "# for example, degree here can be used to convert a number in degrees to radians by multiplication."
   ]
  },
  {
   "attachments": {},
   "cell_type": "markdown",
   "id": "a8ad16fd",
   "metadata": {},
   "source": [
    "Assume we have set up our base station at an unknown point $C$. We also reference the heading angle to an approximate (but not accurate) north direction $\\tilde{N}$, and measure angles clockwise (CW) from $\\tilde{N}$\n",
    "\n",
    "We measure 4 quantities:\n",
    "\n",
    "$r_a$ = 18.027756377319946 meters\n",
    "\n",
    "$\\phi_a$ = 122.19006752597977 degrees CW from $\\tilde{N}$\n",
    "\n",
    "$r_b$ = 11.180339887498949 meters\n",
    "\n",
    "$\\phi_b$ = 25.06505117707798 degrees CW from $\\tilde{N}$\n",
    "\n",
    "<div>\n",
    "<img src=\"https://github.com/jcapriot/GPGN_318/blob/main/Surveying/embedded_images/Measured_Items.png?raw=true\" width=\"250\"/>\n",
    "</div>\n",
    "\n",
    "We know the x and y values of locations $A$ and $B$\n",
    "\n",
    "$ A $ = (20, 10)\n",
    "$ B $ = (10, 30)\n",
    "\n",
    "\n",
    "Our goal is to find the location of $C$ as well as the angle between $\\tilde{N}$ and true North $N$"
   ]
  },
  {
   "cell_type": "code",
   "execution_count": 2,
   "id": "35bfaae2",
   "metadata": {},
   "outputs": [],
   "source": [
    "# knowns\n",
    "A = np.array([20, 10]) # meters\n",
    "B = np.array([10, 30]) # meters\n",
    "\n",
    "# These values are the HORIZONTAL distances\n",
    "# from the base station to the prisms at A and B\n",
    "# i.e. they are the laser distance * cos(theta)\n",
    "r_a = 18.027756377319946 # meters\n",
    "r_b = 11.180339887498949 # meters\n",
    "\n",
    "# The angle we measure in the total station is referenced to an approximate \"north\"\n",
    "# and is positive clockwise\n",
    "phi_a = 122.19006752597977 * degree\n",
    "phi_b = 25.06505117707798 * degree"
   ]
  },
  {
   "attachments": {},
   "cell_type": "markdown",
   "id": "f095357c",
   "metadata": {},
   "source": [
    "First calculate the interior angle, $\\angle ACB$, which is simply $\\phi_a - \\phi_b$, and calculate the distance from A to B, $|A-B|$\n",
    "<div>\n",
    "<img src=\"https://github.com/jcapriot/GPGN_318/blob/main/Surveying/embedded_images/ACB_angle.png?raw=true\" width=\"250\"/>\n",
    "</div>"
   ]
  },
  {
   "cell_type": "code",
   "execution_count": 3,
   "id": "fb81b51b",
   "metadata": {},
   "outputs": [
    {
     "name": "stdout",
     "output_type": "stream",
     "text": [
      "angle_ACB = 97.12501634890178 degrees\n",
      "length AB = 22.360679774997898 meters\n"
     ]
    }
   ],
   "source": [
    "angle_ACB = phi_a - phi_b\n",
    "\n",
    "ab = np.linalg.norm(A - B)\n",
    "\n",
    "print(f\"angle_ACB = {angle_ACB/degree} degrees\")\n",
    "print(f\"length AB = {ab} meters\")"
   ]
  },
  {
   "cell_type": "markdown",
   "id": "3d88cde8",
   "metadata": {},
   "source": [
    "We can use the law of Sines to compute other angles in the triangle now!\n",
    "\n",
    "### Law of sins\n",
    "\n",
    "\\begin{equation}\n",
    "\\frac{\\alpha_1}{\\sin\\theta_1} = \\frac{\\alpha_2}{\\sin\\theta_2} = \\frac{\\alpha_3}{\\sin\\theta_3}\n",
    "\\end{equation}\n",
    "\n",
    "So in our triangle we have:\n",
    "\\begin{equation}\n",
    "\\frac{|A-B|}{\\sin\\angle ACB} = \\frac{r_b}{\\sin\\angle CAB} = \\frac{r_a}{\\sin \\angle CBA}\n",
    "\\end{equation}"
   ]
  },
  {
   "cell_type": "code",
   "execution_count": 4,
   "id": "30106d06",
   "metadata": {},
   "outputs": [
    {
     "name": "stdout",
     "output_type": "stream",
     "text": [
      "angle CAB = 29.74488129694222 degrees\n",
      "angle CBA = 53.13010235415598 degrees\n"
     ]
    }
   ],
   "source": [
    "angle_CAB = np.arcsin(np.sin(angle_ACB) * r_b / ab)\n",
    "angle_CBA = np.arcsin(np.sin(angle_ACB) * r_a / ab)\n",
    "\n",
    "print(f\"angle CAB = {angle_CAB / degree} degrees\")\n",
    "print(f\"angle CBA = {angle_CBA / degree} degrees\")"
   ]
  },
  {
   "cell_type": "code",
   "execution_count": 5,
   "id": "bec8ce3b",
   "metadata": {},
   "outputs": [
    {
     "data": {
      "text/plain": [
       "np.float64(3.141592653589793)"
      ]
     },
     "execution_count": 5,
     "metadata": {},
     "output_type": "execute_result"
    }
   ],
   "source": [
    "# Double check that our angles all add up to pi (180 degrees)\n",
    "angle_CAB + angle_CBA + angle_ACB"
   ]
  },
  {
   "attachments": {},
   "cell_type": "markdown",
   "id": "179f8318",
   "metadata": {},
   "source": [
    "Now we can figures out the true heading from $A$ to $C$. Consider the angles in the image below:\n",
    "\n",
    "<div>\n",
    "<img src=\"https://github.com/jcapriot/GPGN_318/blob/main/Surveying/embedded_images/CAN_angle.png?raw=true\" width=\"250\"/>\n",
    "</div>\n",
    "\n",
    "Our goal is to find the angle $\\angle CAN$ which is the clockwise angle about A between true north $N$ and $C$\n",
    "\n",
    "We can calculate the angle about A between true north and B $\\angle BAN $ using some simple trigonometry:\n",
    "\n",
    "\\begin{equation}\n",
    "\\angle BAN = \\arctan(\\frac{|B_x - A_x|}{|B_y - A_y|})\n",
    "\\end{equation}\n",
    "\n",
    "It should then be clear how to calculate $\\angle CAN$\n",
    "\n",
    "\\begin{equation}\n",
    "\\angle CAN = 2 \\pi - (\\angle BAN + \\angle CAB)\n",
    "\\end{equation}"
   ]
  },
  {
   "cell_type": "code",
   "execution_count": 6,
   "id": "f9486c21",
   "metadata": {},
   "outputs": [
    {
     "name": "stdout",
     "output_type": "stream",
     "text": [
      "angle BAN = 26.56505117707799 degrees\n",
      "angle CAN = 303.69006752597977 degrees\n"
     ]
    }
   ],
   "source": [
    "angle_BAN  = np.arctan2(np.abs(B[0]-A[0]), np.abs(B[1]-A[1]))\n",
    "\n",
    "# the angle CAN = BAN - CAB  (clockwise from north)\n",
    "angle_CAN = 2 * np.pi - (angle_BAN + angle_CAB)\n",
    "\n",
    "\n",
    "print(f\"angle BAN = {angle_BAN/degree} degrees\")\n",
    "print(f\"angle CAN = {angle_CAN/degree} degrees\")"
   ]
  },
  {
   "attachments": {},
   "cell_type": "markdown",
   "id": "e9e78e7e",
   "metadata": {},
   "source": [
    "We finally have a directly useful angle to calculate the location of C, lets draw a right triangle between A, C and North.\n",
    "\n",
    "<div>\n",
    "<img src=\"https://github.com/jcapriot/GPGN_318/blob/main/Surveying/embedded_images/C_calc.png?raw=true\" width=\"250\"/>\n",
    "</div>\n",
    "\n",
    "\\begin{equation}\n",
    "\\Delta_x = r_a \\sin\\angle CAN\n",
    "\\end{equation}\n",
    "\n",
    "\\begin{equation}\n",
    "\\Delta_y = r_a \\cos\\angle CAN\n",
    "\\end{equation}"
   ]
  },
  {
   "cell_type": "code",
   "execution_count": 7,
   "id": "9a73b09c",
   "metadata": {},
   "outputs": [
    {
     "data": {
      "text/plain": [
       "array([ 5., 20.])"
      ]
     },
     "execution_count": 7,
     "metadata": {},
     "output_type": "execute_result"
    }
   ],
   "source": [
    "delta_x = r_a * np.sin(angle_CAN)\n",
    "delta_y = r_a * np.cos(angle_CAN)\n",
    "C_calc = A + np.r_[delta_x, delta_y]\n",
    "C_calc"
   ]
  },
  {
   "cell_type": "markdown",
   "id": "022027e5",
   "metadata": {},
   "source": [
    "We can now also calculate the difference between True North $N$, and our approximate north $\\tilde{N}$\n",
    "\n",
    "First calculate the true heading from point $C$ to point $A$ using the angles we have already computed.\n",
    "These should be apparent in the figure above (i.e. compute the angle $\\angle NCA$ and add $\\pi/2$ to it).\n",
    "\n",
    "$$\n",
    "\\angle NCA = \\pi/2 - (2\\pi - \\angle CAN)\n",
    "$$\n",
    "This is computed knowning the angles of a triangle add up to $\\pi$\n",
    "\n",
    "\\begin{align}\n",
    "Heading_{True} &= \\pi/2 + \\angle NCA\\\\\n",
    "&= \\pi/2 + (\\pi/2 - (2\\pi - \\angle CAN))\\\\\n",
    "&= \\pi - 2\\pi + \\angle CAN\\\\\n",
    "&= \\angle CAN - \\pi\n",
    "\\end{align}\n",
    "\n",
    "Then subtract the approximate heading from the true heading\n",
    "\n",
    "$$\n",
    "North_{error} = Heading_{True} - \\phi_a\n",
    "$$"
   ]
  },
  {
   "cell_type": "code",
   "execution_count": 8,
   "id": "8bfc0ecd",
   "metadata": {},
   "outputs": [
    {
     "name": "stdout",
     "output_type": "stream",
     "text": [
      "heading error = 1.500000000000034 degrees\n"
     ]
    }
   ],
   "source": [
    "true_heading_to_A = angle_CAN - np.pi\n",
    "\n",
    "delta_n = true_heading_to_A - phi_a\n",
    "\n",
    "print(f\"heading error = {delta_n/degree} degrees\")"
   ]
  },
  {
   "cell_type": "markdown",
   "id": "cb1b10ff",
   "metadata": {},
   "source": [
    "That's good, the point I used to calculate all the angles was C = [5, 20] and the error I added was 1.5 degrees!"
   ]
  },
  {
   "cell_type": "markdown",
   "id": "6475f437",
   "metadata": {},
   "source": [
    "When in doubt, DRAW RIGHT TRIANGLES!"
   ]
  }
 ],
 "metadata": {
  "kernelspec": {
   "display_name": "Python 3 (ipykernel)",
   "language": "python",
   "name": "python3"
  },
  "language_info": {
   "codemirror_mode": {
    "name": "ipython",
    "version": 3
   },
   "file_extension": ".py",
   "mimetype": "text/x-python",
   "name": "python",
   "nbconvert_exporter": "python",
   "pygments_lexer": "ipython3",
   "version": "3.12.11"
  }
 },
 "nbformat": 4,
 "nbformat_minor": 5
}
