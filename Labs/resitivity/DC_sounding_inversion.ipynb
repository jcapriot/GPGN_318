{
 "cells": [
  {
   "cell_type": "code",
   "execution_count": 1,
   "id": "76a3f638-a99b-41b7-b3b8-60b1453ce2e0",
   "metadata": {
    "tags": []
   },
   "outputs": [],
   "source": [
    "from dc_utils.dc_sounding import DCSoundingInteract\n",
    "import numpy as np\n",
    "import pandas as pd\n",
    "%matplotlib widget"
   ]
  },
  {
   "cell_type": "code",
   "execution_count": 2,
   "id": "83a01c6d-ed1c-427e-9f51-ee672ea00424",
   "metadata": {
    "tags": []
   },
   "outputs": [],
   "source": [
    "example_locs = pd.read_csv('data/lab03_positions.csv')\n",
    "A_x = example_locs['A']\n",
    "B_x = example_locs['B']\n",
    "M_x = example_locs['M']\n",
    "N_x = example_locs['N']"
   ]
  },
  {
   "cell_type": "code",
   "execution_count": 3,
   "id": "c3cea2c1-f5a4-450d-b50a-f45235e85c1b",
   "metadata": {
    "tags": []
   },
   "outputs": [
    {
     "data": {
      "application/vnd.jupyter.widget-view+json": {
       "model_id": "b8f8424c448c40cc903d2f077682e469",
       "version_major": 2,
       "version_minor": 0
      },
      "text/plain": [
       "VBox(children=(HBox(children=(Button(description='Run an inversion', disabled=True, icon='square-left', style=…"
      ]
     },
     "execution_count": 3,
     "metadata": {},
     "output_type": "execute_result"
    }
   ],
   "source": [
    "interactor = DCSoundingInteract(A_x, B_x, M_x, N_x)\n",
    "interactor.display()"
   ]
  },
  {
   "cell_type": "code",
   "execution_count": 4,
   "id": "5d7d1983-b427-440f-889d-aaed0d4dce9c",
   "metadata": {},
   "outputs": [],
   "source": [
    "# You can drag lines around to update the predicted data\n",
    "# Try shift clicking on a line segment to insert a new point\n",
    "# you can pull the arrow downward to extend your working space."
   ]
  },
  {
   "cell_type": "code",
   "execution_count": 7,
   "id": "534d4671-ec88-4718-a5c5-0f3fad5775e7",
   "metadata": {
    "tags": []
   },
   "outputs": [],
   "source": [
    "# You can set the current model with\n",
    "# notice how setting these values changes the interactor above! It is a live object!\n",
    "rhos = np.array([50 , 100])\n",
    "thicks = np.array([10])\n",
    "\n",
    "interactor.set_model(rhos, thicks)"
   ]
  },
  {
   "cell_type": "code",
   "execution_count": 9,
   "id": "3d5fb12f-f231-41f0-910b-581f3589432e",
   "metadata": {
    "tags": []
   },
   "outputs": [
    {
     "data": {
      "text/plain": [
       "(array([ 50, 100]), array([10]))"
      ]
     },
     "execution_count": 9,
     "metadata": {},
     "output_type": "execute_result"
    }
   ],
   "source": [
    "# you can get the current model from the live interactor with\n",
    "rho, thick = interactor.get_model()\n",
    "rho, thick"
   ]
  },
  {
   "cell_type": "code",
   "execution_count": 10,
   "id": "cb76f848-cc6e-486d-a8cd-62989b054bcf",
   "metadata": {
    "tags": []
   },
   "outputs": [
    {
     "data": {
      "text/plain": [
       "array([8.87803130e+00, 2.06545679e+00, 4.90605190e-01, 1.60648963e-01,\n",
       "       8.35357817e-01, 2.48508406e-01, 7.57826253e-02, 2.97890424e-02,\n",
       "       1.48856534e-01, 4.25942478e-02, 1.02886832e-02, 3.18984103e-03,\n",
       "       1.58912125e-03])"
      ]
     },
     "execution_count": 10,
     "metadata": {},
     "output_type": "execute_result"
    }
   ],
   "source": [
    "# You can retrieve the current forward modeled data with\n",
    "d_volts = interactor.get_data()\n",
    "# If you wanted to add noise to this data set you could do:\n",
    "d_volts += np.random.randn(*d_volts.shape)* 0.05 * np.abs(d_volts)\n",
    "# which adds gaussian noise with standard deviation of 5% of the data value\n",
    "d_volts"
   ]
  },
  {
   "cell_type": "code",
   "execution_count": 11,
   "id": "eb094a09-aa07-4397-96de-716cbcf01185",
   "metadata": {
    "tags": []
   },
   "outputs": [
    {
     "data": {
      "application/vnd.jupyter.widget-view+json": {
       "model_id": "c94d11052ae94feaac7cfc4f79a1644e",
       "version_major": 2,
       "version_minor": 0
      },
      "text/plain": [
       "VBox(children=(HBox(children=(Button(description='Run an inversion', icon='square-left', style=ButtonStyle(), …"
      ]
     },
     "execution_count": 11,
     "metadata": {},
     "output_type": "execute_result"
    }
   ],
   "source": [
    "# If you have your own data to compare it against, you can load it in as observered voltages, \n",
    "# If you have a standard deviation you should also enter that, otherwise it will assume\n",
    "# a std of 5% of the data values. Note that standard deviation cannot be 0.\n",
    "interactor2 = DCSoundingInteract(\n",
    "    A_x, B_x, M_x, N_x, observed_voltage=d_volts, standard_deviation=0.05*d_volts\n",
    ")\n",
    "interactor2.display()"
   ]
  },
  {
   "cell_type": "code",
   "execution_count": 9,
   "id": "523d592f-9c1a-4170-bbe5-11be687aad06",
   "metadata": {
    "tags": []
   },
   "outputs": [],
   "source": [
    "# When observed voltages are given, the inversion button is enabled!.\n",
    "# run it with 1 layer to find the best fitting halfspace\n",
    "# then add a second layer (shift click on the line segment) and run it with two layers."
   ]
  },
  {
   "cell_type": "code",
   "execution_count": 12,
   "id": "f65fcd20-d12d-49e9-9fd8-5d31546f0fdc",
   "metadata": {
    "tags": []
   },
   "outputs": [
    {
     "data": {
      "text/plain": [
       "(array([ 50.00003169, 100.00005144]), array([20.00029562]))"
      ]
     },
     "execution_count": 12,
     "metadata": {},
     "output_type": "execute_result"
    }
   ],
   "source": [
    "interactor2.get_model()"
   ]
  },
  {
   "cell_type": "code",
   "execution_count": 11,
   "id": "5d55d4b8-609c-475f-8643-e3bd80c49412",
   "metadata": {},
   "outputs": [
    {
     "data": {
      "text/html": [
       "<div>\n",
       "<style scoped>\n",
       "    .dataframe tbody tr th:only-of-type {\n",
       "        vertical-align: middle;\n",
       "    }\n",
       "\n",
       "    .dataframe tbody tr th {\n",
       "        vertical-align: top;\n",
       "    }\n",
       "\n",
       "    .dataframe thead th {\n",
       "        text-align: right;\n",
       "    }\n",
       "</style>\n",
       "<table border=\"1\" class=\"dataframe\">\n",
       "  <thead>\n",
       "    <tr style=\"text-align: right;\">\n",
       "      <th></th>\n",
       "      <th>AB/2</th>\n",
       "      <th>MN/2</th>\n",
       "      <th>Pa(Ohm-m)</th>\n",
       "      <th>Delta(V/F) (megaOhm)</th>\n",
       "      <th>I (mA)</th>\n",
       "      <th>n</th>\n",
       "      <th>sigma (%)</th>\n",
       "    </tr>\n",
       "  </thead>\n",
       "  <tbody>\n",
       "    <tr>\n",
       "      <th>0</th>\n",
       "      <td>1.0</td>\n",
       "      <td>0.2</td>\n",
       "      <td>17.110</td>\n",
       "      <td>2270.000</td>\n",
       "      <td>200</td>\n",
       "      <td>2</td>\n",
       "      <td>0.0</td>\n",
       "    </tr>\n",
       "    <tr>\n",
       "      <th>1</th>\n",
       "      <td>1.4</td>\n",
       "      <td>0.2</td>\n",
       "      <td>17.740</td>\n",
       "      <td>1176.000</td>\n",
       "      <td>200</td>\n",
       "      <td>2</td>\n",
       "      <td>0.0</td>\n",
       "    </tr>\n",
       "    <tr>\n",
       "      <th>2</th>\n",
       "      <td>2.0</td>\n",
       "      <td>0.2</td>\n",
       "      <td>17.290</td>\n",
       "      <td>555.900</td>\n",
       "      <td>200</td>\n",
       "      <td>2</td>\n",
       "      <td>0.0</td>\n",
       "    </tr>\n",
       "    <tr>\n",
       "      <th>3</th>\n",
       "      <td>3.0</td>\n",
       "      <td>0.2</td>\n",
       "      <td>16.020</td>\n",
       "      <td>227.000</td>\n",
       "      <td>200</td>\n",
       "      <td>2</td>\n",
       "      <td>0.0</td>\n",
       "    </tr>\n",
       "    <tr>\n",
       "      <th>4</th>\n",
       "      <td>3.0</td>\n",
       "      <td>0.6</td>\n",
       "      <td>17.040</td>\n",
       "      <td>753.400</td>\n",
       "      <td>200</td>\n",
       "      <td>2</td>\n",
       "      <td>0.0</td>\n",
       "    </tr>\n",
       "    <tr>\n",
       "      <th>5</th>\n",
       "      <td>4.0</td>\n",
       "      <td>0.2</td>\n",
       "      <td>13.320</td>\n",
       "      <td>106.300</td>\n",
       "      <td>200</td>\n",
       "      <td>2</td>\n",
       "      <td>0.0</td>\n",
       "    </tr>\n",
       "    <tr>\n",
       "      <th>6</th>\n",
       "      <td>4.0</td>\n",
       "      <td>0.6</td>\n",
       "      <td>14.210</td>\n",
       "      <td>347.100</td>\n",
       "      <td>200</td>\n",
       "      <td>2</td>\n",
       "      <td>0.1</td>\n",
       "    </tr>\n",
       "    <tr>\n",
       "      <th>7</th>\n",
       "      <td>6.0</td>\n",
       "      <td>0.6</td>\n",
       "      <td>9.881</td>\n",
       "      <td>106.900</td>\n",
       "      <td>100</td>\n",
       "      <td>2</td>\n",
       "      <td>0.6</td>\n",
       "    </tr>\n",
       "    <tr>\n",
       "      <th>8</th>\n",
       "      <td>8.0</td>\n",
       "      <td>0.6</td>\n",
       "      <td>7.746</td>\n",
       "      <td>46.990</td>\n",
       "      <td>100</td>\n",
       "      <td>2</td>\n",
       "      <td>1.7</td>\n",
       "    </tr>\n",
       "    <tr>\n",
       "      <th>9</th>\n",
       "      <td>10.0</td>\n",
       "      <td>0.6</td>\n",
       "      <td>6.098</td>\n",
       "      <td>23.380</td>\n",
       "      <td>100</td>\n",
       "      <td>2</td>\n",
       "      <td>3.1</td>\n",
       "    </tr>\n",
       "    <tr>\n",
       "      <th>10</th>\n",
       "      <td>10.0</td>\n",
       "      <td>2.0</td>\n",
       "      <td>8.000</td>\n",
       "      <td>10.610</td>\n",
       "      <td>100</td>\n",
       "      <td>2</td>\n",
       "      <td>0.2</td>\n",
       "    </tr>\n",
       "    <tr>\n",
       "      <th>11</th>\n",
       "      <td>14.0</td>\n",
       "      <td>2.0</td>\n",
       "      <td>7.030</td>\n",
       "      <td>46.620</td>\n",
       "      <td>200</td>\n",
       "      <td>2</td>\n",
       "      <td>0.4</td>\n",
       "    </tr>\n",
       "    <tr>\n",
       "      <th>12</th>\n",
       "      <td>14.0</td>\n",
       "      <td>0.6</td>\n",
       "      <td>5.282</td>\n",
       "      <td>10.310</td>\n",
       "      <td>200</td>\n",
       "      <td>2</td>\n",
       "      <td>0.0</td>\n",
       "    </tr>\n",
       "    <tr>\n",
       "      <th>13</th>\n",
       "      <td>20.0</td>\n",
       "      <td>2.0</td>\n",
       "      <td>7.469</td>\n",
       "      <td>24.020</td>\n",
       "      <td>200</td>\n",
       "      <td>2</td>\n",
       "      <td>0.0</td>\n",
       "    </tr>\n",
       "    <tr>\n",
       "      <th>14</th>\n",
       "      <td>30.0</td>\n",
       "      <td>2.0</td>\n",
       "      <td>7.345</td>\n",
       "      <td>10.440</td>\n",
       "      <td>200</td>\n",
       "      <td>2</td>\n",
       "      <td>0.1</td>\n",
       "    </tr>\n",
       "    <tr>\n",
       "      <th>15</th>\n",
       "      <td>40.0</td>\n",
       "      <td>2.0</td>\n",
       "      <td>8.084</td>\n",
       "      <td>6.449</td>\n",
       "      <td>200</td>\n",
       "      <td>2</td>\n",
       "      <td>0.3</td>\n",
       "    </tr>\n",
       "  </tbody>\n",
       "</table>\n",
       "</div>"
      ],
      "text/plain": [
       "    AB/2  MN/2  Pa(Ohm-m)  Delta(V/F) (megaOhm)  I (mA)  n  sigma (%)\n",
       "0    1.0   0.2     17.110              2270.000     200  2        0.0\n",
       "1    1.4   0.2     17.740              1176.000     200  2        0.0\n",
       "2    2.0   0.2     17.290               555.900     200  2        0.0\n",
       "3    3.0   0.2     16.020               227.000     200  2        0.0\n",
       "4    3.0   0.6     17.040               753.400     200  2        0.0\n",
       "5    4.0   0.2     13.320               106.300     200  2        0.0\n",
       "6    4.0   0.6     14.210               347.100     200  2        0.1\n",
       "7    6.0   0.6      9.881               106.900     100  2        0.6\n",
       "8    8.0   0.6      7.746                46.990     100  2        1.7\n",
       "9   10.0   0.6      6.098                23.380     100  2        3.1\n",
       "10  10.0   2.0      8.000                10.610     100  2        0.2\n",
       "11  14.0   2.0      7.030                46.620     200  2        0.4\n",
       "12  14.0   0.6      5.282                10.310     200  2        0.0\n",
       "13  20.0   2.0      7.469                24.020     200  2        0.0\n",
       "14  30.0   2.0      7.345                10.440     200  2        0.1\n",
       "15  40.0   2.0      8.084                 6.449     200  2        0.3"
      ]
     },
     "execution_count": 11,
     "metadata": {},
     "output_type": "execute_result"
    }
   ],
   "source": [
    "lab_7_data_folder = 'data/lab07/'\n",
    "schlumb_frame = pd.read_csv(lab_7_data_folder + 'lab07_10-8_schlumbergertable-1.csv')\n",
    "schlumb_frame"
   ]
  },
  {
   "cell_type": "code",
   "execution_count": 12,
   "id": "eee97af5-035f-4fd7-8823-428759e1fa4b",
   "metadata": {},
   "outputs": [],
   "source": [
    "AB_2 = np.asarray(schlumb_frame['AB/2'])\n",
    "MN_2 = np.asarray(schlumb_frame['MN/2'])\n",
    "R = np.asarray(schlumb_frame['Delta(V/F) (megaOhm)'])/1000\n",
    "\n",
    "# this one was written down wrong...\n",
    "R[10] *= 10\n",
    "\n",
    "A = AB_2\n",
    "B = -AB_2\n",
    "M = MN_2\n",
    "N = -MN_2"
   ]
  },
  {
   "cell_type": "code",
   "execution_count": 13,
   "id": "9f019bee-2466-437d-8a97-062ee4684519",
   "metadata": {},
   "outputs": [
    {
     "data": {
      "application/vnd.jupyter.widget-view+json": {
       "model_id": "cc63d48848774b38a8f3f9312f6f6a0b",
       "version_major": 2,
       "version_minor": 0
      },
      "text/plain": [
       "VBox(children=(HBox(children=(Button(description='Run an inversion', icon='square-left', style=ButtonStyle(), …"
      ]
     },
     "execution_count": 13,
     "metadata": {},
     "output_type": "execute_result"
    }
   ],
   "source": [
    "# If you have your own data to compare it against, you can load it in as observered voltages, \n",
    "# If you have a standard deviation you should also enter that, otherwise it will assume\n",
    "# a std of 5% of the data values. Note that standard deviation cannot be 0.\n",
    "interactor_l7 = DCSoundingInteract(\n",
    "    A, B, M, N, observed_voltage=R, standard_deviation=0.025*R\n",
    ")\n",
    "interactor_l7.display()"
   ]
  },
  {
   "cell_type": "code",
   "execution_count": null,
   "id": "662626af-7f54-487b-9f2a-8e2fc33e2034",
   "metadata": {},
   "outputs": [],
   "source": []
  }
 ],
 "metadata": {
  "kernelspec": {
   "display_name": "Python 3 (ipykernel)",
   "language": "python",
   "name": "python3"
  },
  "language_info": {
   "codemirror_mode": {
    "name": "ipython",
    "version": 3
   },
   "file_extension": ".py",
   "mimetype": "text/x-python",
   "name": "python",
   "nbconvert_exporter": "python",
   "pygments_lexer": "ipython3",
   "version": "3.12.11"
  }
 },
 "nbformat": 4,
 "nbformat_minor": 5
}
