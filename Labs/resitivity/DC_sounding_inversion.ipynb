{
 "cells": [
  {
   "cell_type": "code",
   "execution_count": 1,
   "id": "76a3f638-a99b-41b7-b3b8-60b1453ce2e0",
   "metadata": {
    "tags": []
   },
   "outputs": [],
   "source": [
    "from dc_utils.dc_sounding import DCSoundingInteract\n",
    "import numpy as np\n",
    "import pandas as pd\n",
    "%matplotlib widget"
   ]
  },
  {
   "cell_type": "code",
   "execution_count": 2,
   "id": "83a01c6d-ed1c-427e-9f51-ee672ea00424",
   "metadata": {
    "tags": []
   },
   "outputs": [],
   "source": [
    "example_locs = pd.read_csv('data/lab03_positions.csv')\n",
    "A_x = example_locs['A']\n",
    "B_x = example_locs['B']\n",
    "M_x = example_locs['M']\n",
    "N_x = example_locs['N']"
   ]
  },
  {
   "cell_type": "code",
   "execution_count": 3,
   "id": "c3cea2c1-f5a4-450d-b50a-f45235e85c1b",
   "metadata": {
    "tags": []
   },
   "outputs": [
    {
     "data": {
      "application/vnd.jupyter.widget-view+json": {
       "model_id": "b8f8424c448c40cc903d2f077682e469",
       "version_major": 2,
       "version_minor": 0
      },
      "text/plain": [
       "VBox(children=(HBox(children=(Button(description='Run an inversion', disabled=True, icon='square-left', style=…"
      ]
     },
     "execution_count": 3,
     "metadata": {},
     "output_type": "execute_result"
    }
   ],
   "source": [
    "interactor = DCSoundingInteract(A_x, B_x, M_x, N_x)\n",
    "interactor.display()"
   ]
  },
  {
   "cell_type": "code",
   "execution_count": 4,
   "id": "5d7d1983-b427-440f-889d-aaed0d4dce9c",
   "metadata": {},
   "outputs": [],
   "source": [
    "# You can drag lines around to update the predicted data\n",
    "# Try shift clicking on a line segment to insert a new point\n",
    "# you can pull the arrow downward to extend your working space."
   ]
  },
  {
   "cell_type": "code",
   "execution_count": 7,
   "id": "534d4671-ec88-4718-a5c5-0f3fad5775e7",
   "metadata": {
    "tags": []
   },
   "outputs": [],
   "source": [
    "# You can set the current model with\n",
    "# notice how setting these values changes the interactor above! It is a live object!\n",
    "rhos = np.array([50 , 100])\n",
    "thicks = np.array([20])\n",
    "\n",
    "interactor.set_model(rhos, thicks)"
   ]
  },
  {
   "cell_type": "code",
   "execution_count": 9,
   "id": "3d5fb12f-f231-41f0-910b-581f3589432e",
   "metadata": {
    "tags": []
   },
   "outputs": [
    {
     "data": {
      "text/plain": [
       "(array([ 50, 100]), array([20]))"
      ]
     },
     "execution_count": 9,
     "metadata": {},
     "output_type": "execute_result"
    }
   ],
   "source": [
    "# you can get the current model from the live interactor with\n",
    "rho, thick = interactor.get_model()\n",
    "rho, thick"
   ]
  },
  {
   "cell_type": "code",
   "execution_count": 10,
   "id": "cb76f848-cc6e-486d-a8cd-62989b054bcf",
   "metadata": {
    "tags": []
   },
   "outputs": [
    {
     "data": {
      "text/plain": [
       "array([8.48833725e+00, 2.02118490e+00, 4.99650858e-01, 1.63191400e-01,\n",
       "       8.56732822e-01, 2.14633660e-01, 6.27736144e-02, 2.45660789e-02,\n",
       "       1.39176387e-01, 3.77006226e-02, 9.78234348e-03, 3.22914277e-03,\n",
       "       1.58691211e-03])"
      ]
     },
     "execution_count": 10,
     "metadata": {},
     "output_type": "execute_result"
    }
   ],
   "source": [
    "# You can retrieve the current forward modeled data with\n",
    "d_volts = interactor.get_data()\n",
    "# If you wanted to add noise to this data set you could do:\n",
    "# d_volts += np.random.randn(*d_volts.shape)* 0.05 * np.abs(d_volts)\n",
    "# which adds gaussian noise with standard deviation of 5% of the data value\n",
    "d_volts"
   ]
  },
  {
   "cell_type": "code",
   "execution_count": 11,
   "id": "eb094a09-aa07-4397-96de-716cbcf01185",
   "metadata": {
    "tags": []
   },
   "outputs": [
    {
     "data": {
      "application/vnd.jupyter.widget-view+json": {
       "model_id": "c94d11052ae94feaac7cfc4f79a1644e",
       "version_major": 2,
       "version_minor": 0
      },
      "text/plain": [
       "VBox(children=(HBox(children=(Button(description='Run an inversion', icon='square-left', style=ButtonStyle(), …"
      ]
     },
     "execution_count": 11,
     "metadata": {},
     "output_type": "execute_result"
    }
   ],
   "source": [
    "# If you have your own data to compare it against, you can load it in as observered voltages, \n",
    "# If you have a standard deviation you should also enter that, otherwise it will assume\n",
    "# a std of 5% of the data values. Note that standard deviation cannot be 0.\n",
    "interactor2 = DCSoundingInteract(\n",
    "    A_x, B_x, M_x, N_x, observed_voltage=d_volts, standard_deviation=0.05*d_volts\n",
    ")\n",
    "interactor2.display()"
   ]
  },
  {
   "cell_type": "code",
   "execution_count": 9,
   "id": "523d592f-9c1a-4170-bbe5-11be687aad06",
   "metadata": {
    "tags": []
   },
   "outputs": [],
   "source": [
    "# When observed voltages are given, the inversion button is enabled!.\n",
    "# run it with 1 layer to find the best fitting halfspace\n",
    "# then add a second layer (shift click on the line segment) and run it with two layers."
   ]
  },
  {
   "cell_type": "code",
   "execution_count": 12,
   "id": "f65fcd20-d12d-49e9-9fd8-5d31546f0fdc",
   "metadata": {
    "tags": []
   },
   "outputs": [
    {
     "data": {
      "text/plain": [
       "(array([ 50.00003169, 100.00005144]), array([20.00029562]))"
      ]
     },
     "execution_count": 12,
     "metadata": {},
     "output_type": "execute_result"
    }
   ],
   "source": [
    "interactor2.get_model()"
   ]
  },
  {
   "cell_type": "code",
   "execution_count": null,
   "id": "5d55d4b8-609c-475f-8643-e3bd80c49412",
   "metadata": {},
   "outputs": [],
   "source": []
  }
 ],
 "metadata": {
  "kernelspec": {
   "display_name": "Python 3 (ipykernel)",
   "language": "python",
   "name": "python3"
  },
  "language_info": {
   "codemirror_mode": {
    "name": "ipython",
    "version": 3
   },
   "file_extension": ".py",
   "mimetype": "text/x-python",
   "name": "python",
   "nbconvert_exporter": "python",
   "pygments_lexer": "ipython3",
   "version": "3.12.11"
  }
 },
 "nbformat": 4,
 "nbformat_minor": 5
}
