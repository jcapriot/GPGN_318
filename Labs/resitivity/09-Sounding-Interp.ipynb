{
 "cells": [
  {
   "cell_type": "markdown",
   "id": "2377f18a-4115-4386-9399-fdc7be025bc3",
   "metadata": {},
   "source": [
    "# Sounding Interpretations\n",
    "------------\n",
    "* Due Date: October 29, 2025"
   ]
  },
  {
   "cell_type": "markdown",
   "id": "718e74ea-eef6-47b7-84f9-2be537bbcc64",
   "metadata": {},
   "source": [
    "Our objectives are:\n",
    "* Become familiar with the interpretation of Schlumberger VES sounding data using a parametric model and a 1D inversion algorithm.\n",
    "* Understand the range of electrode separation required to detect a resistivity change at a given depth.\n",
    "* Understand the role of transverse resistance and longitudinal conductance in 1D DC sounding interpretation.\n"
   ]
  },
  {
   "cell_type": "markdown",
   "id": "dacf78fe-1602-4887-a70b-fd3b4ac0f905",
   "metadata": {},
   "source": [
    "# Background"
   ]
  },
  {
   "cell_type": "markdown",
   "id": "58fb77e9-d219-4a15-9bed-0ea22f1cbf29",
   "metadata": {},
   "source": [
    "## DC Soundings\n",
    "See [Survey Design](../../Lectures/Electrical/15-DCSurveying.ipynb)"
   ]
  },
  {
   "cell_type": "markdown",
   "id": "788d9dbe-e60f-4521-a731-7d72d5c7f649",
   "metadata": {},
   "source": [
    "## The widget"
   ]
  },
  {
   "cell_type": "markdown",
   "id": "5d4fe001-675a-45fd-bc8d-e2fc2921d599",
   "metadata": {},
   "source": [
    "This lab exercise uses a 1D interpretation widget for modeling and inverting 1D DC resistivity sounding data. This widget allows you to define a 1D resistivity-depth profile consisting of a sequence of layers and each layer's conductivity, and it will calculate the surface response.\n",
    "\n",
    "In the widget, you can:\n",
    "* click and drag model line segments to update the data plot\n",
    "* Add and remove layers using the \"+\" and \"-\" buttons.\n",
    "* Get the model and predicted data, and set the current model.\n",
    "* Switch the predicted data view between voltage, apparent conductivity and apparent resistivity.\n",
    "* Start up the interactor with your observed data to enable the inversion button.\n",
    "\n",
    "**Note**: The observed voltage you provide to the interactor should be normalized by current (V/I).\n",
    "\n",
    "A file containing sample electrode separations is supplied for the lab exercise (`data/lab03_positions.csv`). **The locations here are the location along the profile** of the A, B, M, and N electrodes.\n",
    "\n",
    "When loading in your own Sclumberger sounding data acquired over Kafadar commons you will need to mimic the inputs that come from the example file, as well as read in your measured normalized voltages. If everything is loaded correctly, the shown apparent resistivities should match your values calculated in the previous lab.\n"
   ]
  },
  {
   "cell_type": "code",
   "execution_count": null,
   "id": "9d3efc15-0267-457f-9027-6bf50dc5ec5f",
   "metadata": {},
   "outputs": [],
   "source": [
    "from dc_utils.dc_sounding import DCSoundingInteract\n",
    "import numpy as np\n",
    "import pandas as pd"
   ]
  },
  {
   "cell_type": "code",
   "execution_count": null,
   "id": "dec676dd-f1dc-4945-bcf6-d3661842c0db",
   "metadata": {},
   "outputs": [],
   "source": [
    "example_locs = pd.read_csv('data/lab03_positions.csv')\n",
    "A_ex = example_locs['A']\n",
    "B_ex = example_locs['B']\n",
    "M_ex = example_locs['M']\n",
    "N_ex = example_locs['N']"
   ]
  },
  {
   "cell_type": "markdown",
   "id": "9415c39d-830b-4294-a0fc-53b3bb9e6786",
   "metadata": {},
   "source": [
    "Play with the interactive widget to understand how it works, then move on to the tasks below:"
   ]
  },
  {
   "cell_type": "code",
   "execution_count": null,
   "id": "db2ebfdf-4b83-4245-baaf-518bd03977ea",
   "metadata": {},
   "outputs": [],
   "source": [
    "play_interactor = DCSoundingInteract(A_ex, B_ex, M_ex, N_ex)\n",
    "play_interactor"
   ]
  },
  {
   "cell_type": "markdown",
   "id": "7b59b2d6-92bb-4a57-94fb-906123b7a39b",
   "metadata": {},
   "source": [
    "You can set the thickness and conductivity model using `set_model(thicknesses, conductivity)`:"
   ]
  },
  {
   "cell_type": "code",
   "execution_count": null,
   "id": "1209b487-947a-498e-b362-c5303043d188",
   "metadata": {},
   "outputs": [],
   "source": [
    "thick_play = [100,]\n",
    "cond_play = [0.1, 0.02]\n",
    "play_interactor.set_model(thick_play, cond_play)"
   ]
  },
  {
   "cell_type": "markdown",
   "id": "8b013f0f-21f9-4995-b966-127525119a88",
   "metadata": {},
   "source": [
    "**Note**: These arrays are ordered from the surface downwards, and there is always one less element in the thickness array than the conductivity array, as the last layer is assumed to have infinite thickness.\n",
    "\n",
    "\n",
    "You can get the current thickness and conductivity model using `get_model()`:"
   ]
  },
  {
   "cell_type": "code",
   "execution_count": null,
   "id": "bcc977dd-6be7-4352-b6b1-ff2e592cb0d9",
   "metadata": {},
   "outputs": [],
   "source": [
    "thick, cond = play_interactor.get_model()\n",
    "thick, cond"
   ]
  },
  {
   "cell_type": "markdown",
   "id": "0ba89b99-a0b9-432d-aa36-580c4e7c8303",
   "metadata": {},
   "source": [
    "You can also retrieve the current predicted data using `get_data()` which returns the (normalized) voltage:"
   ]
  },
  {
   "cell_type": "code",
   "execution_count": null,
   "id": "4e802486-19da-45d8-a4e8-db94f60e2af9",
   "metadata": {},
   "outputs": [],
   "source": [
    "play_interactor.get_data()"
   ]
  },
  {
   "cell_type": "markdown",
   "id": "3aaf7687-f70d-436d-9303-125c2d08dcdc",
   "metadata": {},
   "source": [
    "# Task\n",
    "You are to model and interpret (via inversion) different sets of sounding data sets."
   ]
  },
  {
   "cell_type": "markdown",
   "id": "956f6f93-d31c-415c-9007-46814e4830af",
   "metadata": {},
   "source": [
    "## Forward Modeling\n",
    "For each forward modelling use the locations provided in `data/lab03_positions.csv`."
   ]
  },
  {
   "cell_type": "markdown",
   "id": "1fc3c915-1cad-416a-9292-a4e935136c2f",
   "metadata": {},
   "source": [
    "### Task 1) \n",
    "You are to forward model the responses of four different geo-electrical 1D earth models and examine the resulting profiles."
   ]
  },
  {
   "cell_type": "markdown",
   "id": "08c6b237-a176-4af9-ac5f-9d6dec9a948f",
   "metadata": {},
   "source": [
    "#### a.\n",
    "A conductive layer over a half-space:\n",
    "\n",
    "|Conductivity (S/m)| Thickness (m)|\n",
    "|------------------|--------------|\n",
    "| $2\\times10^{-2}$ | 10 |\n",
    "| $1\\times10^{-2}$ |  |"
   ]
  },
  {
   "cell_type": "code",
   "execution_count": null,
   "id": "7836c465-ea69-45b9-8e40-925de065af92",
   "metadata": {},
   "outputs": [],
   "source": [
    "inter_1a = DCSoundingInteract(A_ex, B_ex, M_ex, N_ex)\n",
    "#inter_1a.set_model(...) #TODO set the model appropriately\n",
    "inter_1a"
   ]
  },
  {
   "cell_type": "markdown",
   "id": "a2c0c001-5d64-4ac9-a3be-f6ea690419f0",
   "metadata": {},
   "source": [
    "#### b.\n",
    "A resistive layer over a half-space:\n",
    "\n",
    "|Conductivity (S/m)| Thickness (m)|\n",
    "|------------------|--------------|\n",
    "| $1\\times10^{-2}$ | 10 |\n",
    "| $2\\times10^{-2}$ |  |"
   ]
  },
  {
   "cell_type": "code",
   "execution_count": null,
   "id": "3f564a42-5f13-482d-bd27-2315503bdc35",
   "metadata": {},
   "outputs": [],
   "source": [
    "inter_1b = DCSoundingInteract(A_ex, B_ex, M_ex, N_ex)\n",
    "#inter_1b.set_model(...) #TODO set the model appropriately\n",
    "inter_1b"
   ]
  },
  {
   "cell_type": "markdown",
   "id": "008a5aad-5341-4304-badf-43d7cfac5683",
   "metadata": {},
   "source": [
    "#### c.\n",
    "A resistive layer in a conductive background:\n",
    "\n",
    "|Conductivity (S/m)| Thickness (m)|\n",
    "|------------------|--------------|\n",
    "| $2\\times10^{-2}$ | 10 |\n",
    "| $1\\times10^{-2}$ |  20|\n",
    "| $1\\times10^{-1}$ | |"
   ]
  },
  {
   "cell_type": "code",
   "execution_count": null,
   "id": "76a44c53-90f0-4dce-b4e3-f8c70104ce42",
   "metadata": {},
   "outputs": [],
   "source": [
    "inter_1c = DCSoundingInteract(A_ex, B_ex, M_ex, N_ex)\n",
    "#inter_1c.set_model(...) #TODO set the model appropriately\n",
    "inter_1c"
   ]
  },
  {
   "cell_type": "markdown",
   "id": "2fc28817-816a-4b9e-8613-18a1bc83018c",
   "metadata": {},
   "source": [
    "##### d.\n",
    "A conductive layer in a resistive background:\n",
    "\n",
    "|Conductivity (S/m)| Thickness (m)|\n",
    "|------------------|--------------|\n",
    "| $2\\times10^{-2}$ | 10\n",
    "| $1\\times10^{-1}$ | 20 |\n",
    "| $1\\times10^{-2}$ |  |"
   ]
  },
  {
   "cell_type": "code",
   "execution_count": null,
   "id": "327f3f1f-a28f-46a1-ad2d-981bdb66fa1f",
   "metadata": {},
   "outputs": [],
   "source": [
    "inter_1d = DCSoundingInteract(A_ex, B_ex, M_ex, N_ex)\n",
    "#inter_1d.set_model(...) #TODO set the model appropriately\n",
    "inter_1d"
   ]
  },
  {
   "cell_type": "markdown",
   "id": "1ab731ee-23e2-43db-909e-dca5499bd331",
   "metadata": {},
   "source": [
    "**Question**: How does the apparent resistivity curve change with each of these models?"
   ]
  },
  {
   "cell_type": "markdown",
   "id": "1acebf05-4478-4b66-9cff-38d6c30fe5d0",
   "metadata": {},
   "source": [
    "### Task 2)\n",
    "Take both cases (1c) and (1d) above and decrease the thickness of the middle layer until its effects  can no longer be seen in the apparent resistivity curve.  \n",
    "**Question**: What is the ratio of the thickness of this layer to the depth of the top of that layer for each of these cases. How do the two cases compare?"
   ]
  },
  {
   "cell_type": "code",
   "execution_count": null,
   "id": "32e41291-2855-495e-b5a9-d2a2ef74e9a9",
   "metadata": {},
   "outputs": [],
   "source": [
    "inter_2c = DCSoundingInteract(A_ex, B_ex, M_ex, N_ex)\n",
    "#inter_2c.set_model(...) #TODO start from the model in 1C\n",
    "inter_2c"
   ]
  },
  {
   "cell_type": "code",
   "execution_count": null,
   "id": "924e5ca4-b212-439b-9691-0b11abd93f9c",
   "metadata": {},
   "outputs": [],
   "source": [
    "# Then retrieve the model once you can no longer see that layer in the data:\n",
    "# and then calculate the requested ratio above\n",
    "thick_2c, cond_2c = inter_2c.get_model()\n",
    "thick_2c"
   ]
  },
  {
   "cell_type": "code",
   "execution_count": null,
   "id": "7961bd7b-90a5-4161-a8bf-e79228e79171",
   "metadata": {},
   "outputs": [],
   "source": [
    "# And again for 2d:\n",
    "inter_2d = DCSoundingInteract(A_ex, B_ex, M_ex, N_ex)\n",
    "#inter_2d.set_model(...) #TODO start from the model in 1d\n",
    "inter_2d"
   ]
  },
  {
   "cell_type": "code",
   "execution_count": null,
   "id": "aad6d540-72d1-437d-a806-e6861c85d3c9",
   "metadata": {},
   "outputs": [],
   "source": [
    "# Then retrieve the model once you can no longer see that layer in the data:\n",
    "# and then calculate the requested ratio above\n",
    "thick_2d, cond_2d = inter_2d.get_model()\n",
    "thick_2d"
   ]
  },
  {
   "cell_type": "markdown",
   "id": "c5a481ad-f547-454e-8e61-5521ed1a10c9",
   "metadata": {},
   "source": [
    "## Equivalence study:\n",
    "Note: In both of the following cases, it is more effective to decrease the thickness and increase the respective physical property value while keeping the top of the layer at the same depth."
   ]
  },
  {
   "cell_type": "markdown",
   "id": "84a697cd-e9d7-4186-9034-0033ea694bbd",
   "metadata": {},
   "source": [
    "### Task 3)\n",
    "#### a.\n",
    "Take case (1c) and perform forward modeling by simultaneously increasing the resistivity and decreasing the thickness of the second layer such that the transverse resistance remains constant. The transverse resistance is defined by the product of thickness and the resistivity:\n",
    "\n",
    "$$ R_\\perp = h \\rho = \\frac{h}{\\sigma}$$\n",
    "\n",
    "**Note**: Examine the changes in the apparent conductivity curve?"
   ]
  },
  {
   "cell_type": "code",
   "execution_count": null,
   "id": "e4931e41-3215-4833-b434-ce99656a1f83",
   "metadata": {},
   "outputs": [],
   "source": [
    "inter_3a = DCSoundingInteract(A_ex, B_ex, M_ex, N_ex)\n",
    "#inter_3a.set_model(...) #TODO start from the model in 1c\n",
    "inter_3a"
   ]
  },
  {
   "cell_type": "markdown",
   "id": "2257746e-a28a-42f2-a1ba-159812422e4d",
   "metadata": {},
   "source": [
    "#### b.\n",
    "Take case (1d) and carry out a few modeling calculations by simultaneously increasing the conductance (decrease the resistivity) and decreasing the thickness of the second layer such that the longitudinal conductance remains constant. The longitudinal conductance is defined as the product of thickness and conductivity:\n",
    "\n",
    "$$ C_{||} = h \\sigma$$\n",
    "**Note**: Again, examine the changes in the resultant apparent resistivity curves.\n"
   ]
  },
  {
   "cell_type": "code",
   "execution_count": null,
   "id": "6042636d-fdae-4bdb-829c-601c5e501220",
   "metadata": {},
   "outputs": [],
   "source": [
    "inter_3b = DCSoundingInteract(A_ex, B_ex, M_ex, N_ex)\n",
    "#inter_3b.set_model(...) #TODO start from the model in 1d\n",
    "inter_3b"
   ]
  },
  {
   "cell_type": "markdown",
   "id": "27d01d18-d778-4cd9-bd38-096e65e4b82f",
   "metadata": {},
   "source": [
    "**Question**: How do apparent-conductivity curves change as you vary the thickness \n",
    "and resistivity of the second layer in the manner described above? \n",
    "\n",
    "Give an explanation why this is the case by examining how electrical current would flow in the two cases. (Which layer do the currents run parallel to the layer and which case do they travel perpendicular to the layer?). Consider how multiple conductors and resistors combine together in a circuit when they are either in parallel or in series with each other. (Resistors add in series, and conductors add in parallel).\n"
   ]
  },
  {
   "cell_type": "markdown",
   "id": "04123e33-92db-492e-b1d1-cb8caff5060d",
   "metadata": {},
   "source": [
    "## Inversion\n",
    "Now you get to run some inversions! We'll start with a few synthetic examples then move on to inverting the sounding data you collected in the previous lab\n",
    "\n",
    "**Note**: You might get a message saying \"The linesearch got broken. Boo.\". This is common for parametric inversions like you will use below and it is okay."
   ]
  },
  {
   "cell_type": "markdown",
   "id": "c8095dce-75cd-4fd9-a8d1-3445864905af",
   "metadata": {},
   "source": [
    "### Task 4) Synthetic Examples\n",
    "Export the data from the model in cases 1a and 1c"
   ]
  },
  {
   "cell_type": "markdown",
   "id": "96ee2311-1211-4233-a718-399c8718b9de",
   "metadata": {},
   "source": [
    "#### a. Accurate Data 1a\n",
    "Start up the interactive widgets with the accurate data from (1a). The `Run an inversion` button should be active.\n",
    "\n",
    "You can also pass the `n_layers` keyword argument to the constructor of the widget. Start with 2 layers (the same as 1a):"
   ]
  },
  {
   "cell_type": "code",
   "execution_count": null,
   "id": "68a78d97-3dd3-429d-8bbe-73a631ff2842",
   "metadata": {},
   "outputs": [],
   "source": [
    "data_1a = inter_1a.get_data()"
   ]
  },
  {
   "cell_type": "code",
   "execution_count": null,
   "id": "915f2543-1be4-4842-9d96-192dfe79d206",
   "metadata": {},
   "outputs": [],
   "source": [
    "inter_4a = DCSoundingInteract(A_ex, B_ex, M_ex, N_ex, data_1a, n_layer=2)\n",
    "inter_4a"
   ]
  },
  {
   "cell_type": "markdown",
   "id": "cc258a5f-0260-4f06-846c-a3710a824cdc",
   "metadata": {},
   "source": [
    "Next invert 1a with more than two layers!"
   ]
  },
  {
   "cell_type": "code",
   "execution_count": null,
   "id": "3f812b88-2004-4a45-94a4-e4b1c6a10caa",
   "metadata": {
    "scrolled": true
   },
   "outputs": [],
   "source": [
    "inter_4a_N = DCSoundingInteract(A_ex, B_ex, M_ex, N_ex, data_1a, n_layer=...)  # use a number larger than 2\n",
    "inter_4a_N"
   ]
  },
  {
   "cell_type": "markdown",
   "id": "fa016b0f-43e2-444c-b232-f8704c767dac",
   "metadata": {},
   "source": [
    "**Question** How do the inverted models from the two cases compare with each other (Is there functionally much difference between the 2 layer model and the 2+ layer model?) How do the inverted models compare with the true models?"
   ]
  },
  {
   "cell_type": "markdown",
   "id": "32911a98-c41c-48eb-b6fc-a0b353ad58fc",
   "metadata": {},
   "source": [
    "#### b. Accurate Data 1c\n",
    "Repeat the items in part 4a with the accurate data from (1c), and answer the same question as above, but start with 3 layers (as that was how many layers were in the example).\n",
    "\n",
    "**Question** How do the inverted models from the two cases compare with each other (Is there functionally much difference between the 3 layer model and the 3+ layer model?) How do the inverted models compare with the true models?"
   ]
  },
  {
   "cell_type": "code",
   "execution_count": null,
   "id": "d1146f60-9a30-47af-9742-dcd8493fb5a6",
   "metadata": {},
   "outputs": [],
   "source": [
    "data_1c = inter_1c.get_data()"
   ]
  },
  {
   "cell_type": "code",
   "execution_count": null,
   "id": "38803272-ed87-4a42-a048-84d70a82990a",
   "metadata": {},
   "outputs": [],
   "source": [
    "inter_4b = DCSoundingInteract(A_ex, B_ex, M_ex, N_ex, data_1c, n_layer=3)\n",
    "inter_4b"
   ]
  },
  {
   "cell_type": "code",
   "execution_count": null,
   "id": "4686c44a-c7a1-4bef-8060-8e9aa387e86e",
   "metadata": {},
   "outputs": [],
   "source": [
    "inter_4b_N = DCSoundingInteract(A_ex, B_ex, M_ex, N_ex, data_1c, n_layer=...)  # use a number larger than 2\n",
    "inter_4b_N"
   ]
  },
  {
   "cell_type": "markdown",
   "id": "f248cd88-33b8-4353-9f18-f4beb2b4948d",
   "metadata": {},
   "source": [
    "#### c. Noisy Data 1a"
   ]
  },
  {
   "cell_type": "markdown",
   "id": "17816603-9383-4897-a5a9-47eeb634c66b",
   "metadata": {},
   "source": [
    "Take case 1a and add random gaussian noise to the accurate data with a standard deviation equal to 2.5% of the absolute voltages."
   ]
  },
  {
   "cell_type": "code",
   "execution_count": null,
   "id": "45d0c0f1-4507-44fb-842d-9d786973a9d1",
   "metadata": {},
   "outputs": [],
   "source": [
    "# This number is a seed to ensure the same random numbers are \n",
    "# generated each time you execute this cell.\n",
    "rng = np.random.default_rng(1337)  # You should change it to another number!\n",
    "std = np.abs(data_1a) * 0.025\n",
    "data_1a_noisy = data_1a + rng.normal(scale=std)"
   ]
  },
  {
   "cell_type": "markdown",
   "id": "8c765be9-d551-41e5-8a0b-6b060b78dbe6",
   "metadata": {},
   "source": [
    "Invert this data with a 2-layer model"
   ]
  },
  {
   "cell_type": "code",
   "execution_count": null,
   "id": "8be67b10-9a96-49af-bc6f-0ff79107e995",
   "metadata": {},
   "outputs": [],
   "source": [
    "inter_4c = DCSoundingInteract(A_ex, B_ex, M_ex, N_ex, data_1a_noisy, standard_deviation=std, n_layer=2)\n",
    "inter_4c"
   ]
  },
  {
   "cell_type": "markdown",
   "id": "7ec83d83-399e-47f7-8b7e-4fedbec3622c",
   "metadata": {},
   "source": [
    "**Question** How does this model compare to the true model?"
   ]
  },
  {
   "cell_type": "markdown",
   "id": "45071f6d-0536-48ec-a333-1014705c2738",
   "metadata": {},
   "source": [
    "Next invert it with many more layers!"
   ]
  },
  {
   "cell_type": "code",
   "execution_count": null,
   "id": "42a8147b-7b89-4878-8b67-789270fce2e9",
   "metadata": {},
   "outputs": [],
   "source": [
    "inter_4c_N = DCSoundingInteract(A_ex, B_ex, M_ex, N_ex, data_1a_noisy, standard_deviation=std, n_layer=20)\n",
    "inter_4c_N"
   ]
  },
  {
   "cell_type": "markdown",
   "id": "2570f739-030c-43ad-99d1-cc103d6c01da",
   "metadata": {},
   "source": [
    "**Question** How does this model compare with the original model? Do you think there is a unique 1D model that will reproduce the data or do you think there might be more? Why?"
   ]
  },
  {
   "cell_type": "markdown",
   "id": "ed4e9320-ef2f-41d1-a351-25e228c99c46",
   "metadata": {},
   "source": [
    "### Task 5) Kafadar Data Set"
   ]
  },
  {
   "cell_type": "markdown",
   "id": "1d6e71c9-6564-4090-a371-7b7ccfa2b413",
   "metadata": {},
   "source": [
    "For your Schlumberger sounding, input the electrode locations and the normalized voltage data and carry out inversion to find the 1D resistivity structure in the middle of the Commons.\n",
    "\n",
    "* For the standard deviations start with a small assumption on noise at 2.5% of the absolute normalized voltage.\n",
    "* Vary the number of layers in the inversion, start small and add them one at a time to investigate how many layers are needed to reproduce your observed data.\n",
    "\n",
    "**Question** What might be going on the near surface of Kafadar to cause causing the layering structure you recovered from the inversion?\n"
   ]
  },
  {
   "cell_type": "code",
   "execution_count": null,
   "id": "d192c687-2c9e-4d32-bbf1-f4a99a735dc5",
   "metadata": {},
   "outputs": [],
   "source": [
    "inter_kaf = DCSoundingInteract(A_kaf, B_kaf, M_kaf, N_kaf, data_kaf, standard_deviation=std_kaf)\n",
    "inter_kaf"
   ]
  },
  {
   "cell_type": "markdown",
   "id": "115e5ef3-2912-4aed-866f-45114e50304f",
   "metadata": {},
   "source": [
    "# Deliverables\n",
    "Submit an informal report detailing your responses from above:\n",
    "\n",
    "It should include:\n",
    "1. Your name, date and lab title\n",
    "1. Description of the objectives of the lab\n",
    "1. Responses from each of the 4 task sections.\n",
    "1. Present your Kafadar interpretation results along with a plausible interpretation\n",
    "1. A concluding section that gives a summary of what you have observed through these exercises regarding the effect of the depth, thickness and resistivity, and equivalence in interpreting 1D DC resistivity data.\n"
   ]
  },
  {
   "cell_type": "code",
   "execution_count": null,
   "id": "91ffb01b-e654-4172-8f99-1608cda297ac",
   "metadata": {},
   "outputs": [],
   "source": []
  }
 ],
 "metadata": {
  "kernelspec": {
   "display_name": "Python 3 (ipykernel)",
   "language": "python",
   "name": "python3"
  },
  "language_info": {
   "codemirror_mode": {
    "name": "ipython",
    "version": 3
   },
   "file_extension": ".py",
   "mimetype": "text/x-python",
   "name": "python",
   "nbconvert_exporter": "python",
   "pygments_lexer": "ipython3",
   "version": "3.12.11"
  }
 },
 "nbformat": 4,
 "nbformat_minor": 5
}
