{
 "cells": [
  {
   "cell_type": "markdown",
   "id": "7f93cf1c-1aa1-48ce-898b-be13776f98a0",
   "metadata": {},
   "source": [
    "# Schlumberger Sounding and Middle Gradient Survey\n",
    "------------\n",
    "* Due Date: October 22, 2025"
   ]
  },
  {
   "cell_type": "code",
   "execution_count": 2,
   "id": "f4d4beec-0b7d-43a4-ac98-cbaa0fb21123",
   "metadata": {},
   "outputs": [],
   "source": [
    "import matplotlib.pyplot as plt\n",
    "import numpy as np"
   ]
  },
  {
   "cell_type": "markdown",
   "id": "03dda11b-1fb4-4fc8-9a9b-eb8cbf9239f1",
   "metadata": {},
   "source": [
    "## Objectives\n",
    "Our objectives are:\n",
    "* Understand how a DC resistivity instrument collects data.\n",
    "* Familiarize with the operation and application of Schlumberger sounding.\n",
    "* Familiarize with the operation and application of a Middle Gradient survey.\n",
    "* Practice with qualitative interpretation of 1D DC sounding curves."
   ]
  },
  {
   "cell_type": "markdown",
   "id": "e0e397f3-26ca-4113-ab31-7ddb4ccdcd92",
   "metadata": {},
   "source": [
    "## Background\n",
    "### Resitivity surveying\n",
    "Generally DC resistivity measurements are taken using four electrodes:\n",
    "* Two current source/sink electrodes:\n",
    "    * A - current injection\n",
    "    * B - current retrieval\n",
    "* Two potential measurement electrodes to measure the difference:\n",
    "    * M - positive potential electrode\n",
    "    * N - negative potential electrode\n",
    "    * $\\Delta V = V_M - V_N$\n"
   ]
  },
  {
   "cell_type": "markdown",
   "id": "43fe2ed8-62c9-4c3c-bcbe-6550d6523246",
   "metadata": {},
   "source": [
    "This lab exercise used a simple DC resistivity instrument called the String R1 to perform two types of surveys:\n",
    "1) Schlumberger sounding: perform a sounding with AB/2 ranging from 1-m to 40-m. This survey will provide an estimate of the layered resistivity change in the subsurface.\n",
    "2) Gradient survey using an AB separation of 80-m. The survey area should be the center area between the two current electrodes where the electric field is approximately uniform. This is a simple approach to quickly map the lateral resistivity variation.\n"
   ]
  },
  {
   "cell_type": "markdown",
   "id": "1b928c4f-5b7a-4bb7-95e9-4b733a609906",
   "metadata": {},
   "source": [
    "For both of these surveys it is common to arrange your electrodes in the following order:\n",
    "\n",
    "![Array](https://gpg.geosci.xyz/_images/DCR_Gradient-Schlumberger_Array.svg)\n"
   ]
  },
  {
   "cell_type": "markdown",
   "id": "a0e593ff-a9c3-4669-a38b-a7365b7f7fd8",
   "metadata": {},
   "source": [
    "## Task\n",
    "We will be splitting into two teams to handle this week’s lab. Make sure to record who is in your group in your notebooks. P.S. Feel free to come up with better group names.\n",
    "\n",
    "Group 1: Middle gradient team  \n",
    "Group A: Schlumberger Sounding team.\n"
   ]
  },
  {
   "cell_type": "markdown",
   "id": "d94a9446-3c22-4100-a25e-abfff73dc797",
   "metadata": {},
   "source": [
    "### Group 1: Grid Setup\n",
    "Set up a grid covering a 40-m by 40-m area centered on Kafadar Commons for the middle gradient survey. This should be done while the Schlumberger survey is being conducted with the center of AB dipole at the center of the grid.\n",
    "\n",
    "There should be five lines parallel to the long axis of Kafadar with 10-m between lines. Flags should be placed every 5-m along each of those lines. Electrode spacing should be 5-m. Once finalized, each electrode should be surveyed by GPS.\n"
   ]
  },
  {
   "cell_type": "code",
   "execution_count": 7,
   "id": "398d5fa0-8a2a-4c08-83a6-134a58da112c",
   "metadata": {},
   "outputs": [
    {
     "data": {
      "image/png": "[encoded data removed]",
      "text/plain": [
       "<Figure size 640x480 with 1 Axes>"
      ]
     },
     "metadata": {},
     "output_type": "display_data"
    }
   ],
   "source": [
    "x,y = np.mgrid[-20:20:9j, -20:20:5j]; plt.scatter(x,y); plt.xlabel('Along Kafadar (m)'); plt.ylabel('Across Kafadar (m)');"
   ]
  },
  {
   "cell_type": "markdown",
   "id": "5e5ccc43-bc3b-47b2-afcd-dd7adf404a59",
   "metadata": {},
   "source": [
    "### Group A: Schlumberger sounding\n",
    "Carry out one sounding along the central line in the east-west direction. The sounding station should be placed at the center of the grid, and the A, B, M, N electrodes should be placed in a line, along the longer dimension of Kafadar. Place flags at each electrode location for surveying by GPS, after you have finished taking your readings.\n",
    "\n",
    "![fig1](resources/8-kafadar-sounding.png)\n",
    "\n",
    "Approximate Locations of the Kafadar Sounding"
   ]
  },
  {
   "cell_type": "markdown",
   "id": "dad038fd-89c8-4fd3-860a-8b43f81fcc99",
   "metadata": {},
   "source": [
    "Expand the electrodes according to the spacings listed below:\n",
    "\n",
    "| AB/2 (m)| MN/2 (m)|\n",
    "|------|------|\n",
    "| 1 | 0.2 |\n",
    "| 1.4 | 0.2 |\n",
    "| 2 |  0.2 |\n",
    "| 3 | 0.2 |\n",
    "| 3 | 0.6 |\n",
    "| 4 | 0.2 | \n",
    "| 4 | 0.6 |\n",
    "| 6 | 0.6 |\n",
    "| 8 | 0.6 |\n",
    "| 10| 0.6 |\n",
    "| 10| 2 |\n",
    "| 14| 0.6 |\n",
    "| 14| 2 |\n",
    "| 20| 2 |\n",
    "| 30| 2 |\n",
    "| 40| 2 |\n",
    "\n",
    "While the survey is being carried out, record in your field notebook (only one record is necessary, but make sure you reference whose notebook it is in.)\n",
    "\n",
    "* The measurement locations\n",
    "* The Normalized Voltage data\n",
    "* Source Current\n",
    "* along with noise levels\n",
    "* Also be sure to note if anything went wrong, and how it was fixed.\n"
   ]
  },
  {
   "cell_type": "markdown",
   "id": "a8bf0d6c-ec42-4758-8870-cd337f8bcd7e",
   "metadata": {},
   "source": [
    "### Group 1: Middle gradient survey\n",
    "Once the 1D sounding is completed, leave the current electrodes (A and B) in place for the gradient survey. \n",
    "\n",
    "Measure the normalized voltage difference between the consecutive electrode pairs\n",
    "* paired parallel to the A-B line\n",
    "* along the five lines parallel to AB in the grid.\n",
    "\n",
    "While the survey is being carried out, record in your field notebook (only one record is necessary, but make sure you reference whose notebook it is in.)\n",
    "* The measurement locations\n",
    "* The Normalized Voltage data\n",
    "* Source Current\n",
    "* along with noise levels\n",
    "* Also be sure to note if anything went wrong, and how it was fixed.\n",
    "\n",
    "*Note*: Traditionally a middle gradient survey area has a dimension of $\\frac{1}{3}$ AB spacing, but here we’re using a slightly larger area (roughly $\\frac{1}{2}$ AB spacing).\n"
   ]
  },
  {
   "cell_type": "markdown",
   "id": "f00366ce-332f-40d9-b54a-6632522e87b0",
   "metadata": {},
   "source": [
    "## Data processing\n",
    "1) Each group should share their data sets with the entire class. I would suggest sharing data in a format that lists the locations of A, B, M, and N electrodes, and the measured normalized voltage. Possibly:\n",
    "|A_east | A_north | B_east| B_north| M_east| M_north| N_east| N_north| V/I | STD|\n",
    "|-------|---------|-------|--------|-------|--------|-------|--------|-----|----|\n",
    "| #| #| #| #| #| #| #| #| #| # |\n",
    "| #|# | #| #| #| #| #| #| #| # |\n",
    "\n"
   ]
  },
  {
   "cell_type": "markdown",
   "id": "3dd2e737-e175-44a8-aea4-5295cf21f1db",
   "metadata": {},
   "source": [
    "2. Calculate the apparent resistivity for each data point.\n",
    "\n",
    "$$ \\rho_a = 2\\pi\\frac{V}{I}\\left(\\frac{1}{R_{AM}} -\\frac{1}{R_{BM}} - \\frac{1}{R_{AN}} + \\frac{1}{R_{BN}}\\right)^{-1} $$\n"
   ]
  },
  {
   "cell_type": "markdown",
   "id": "e1d0e77d-2573-43f9-87ac-f3877d07ba5b",
   "metadata": {},
   "source": [
    "3. Plot the Schlumberger sounding data set with the following two axes, both on a log scale:\n",
    "    * AB/2 on the vertical axis, increasing downwards.\n",
    "    * Apparent resistivity on the horizontal axis."
   ]
  },
  {
   "cell_type": "markdown",
   "id": "4410dc6c-013d-48b0-8a5a-f2c5daefefd2",
   "metadata": {},
   "source": [
    "4. For the middle gradient survey make two 2D maps of your data. One for the normalized voltage (V/I), and another for the apparent resistivity. Use the center point of the M-N electrode dipole pair as the location for these points."
   ]
  },
  {
   "cell_type": "markdown",
   "id": "8741a387-366e-48e1-9f95-f5ac8d4aedcd",
   "metadata": {},
   "source": [
    "## Deliverables\n",
    "Submit an informal report detailing:\n",
    "\n",
    "1. Your name, lab title\n",
    "2. Description of the objectives and the field procedure\n",
    "3. A section containing the processed Schlumberger sounding data and a qualitative interpretation.\n",
    "    * How does the apparent resistivity change with AB/2?\n",
    "    * What might this suggest about how the resistivity of Kafadar changes with depth? \n",
    "4. A section containing the processed gradient data and a qualitative interpretation.\n",
    "    * How does the apparent resistivity change laterally?\n",
    "    * Are there any points of interest in the survey?\n",
    "5. A concluding section summarizing your work and speculating how to use these two types of survey combined to tackle a problem that requires understanding of 3D subsurface geo-electrical structure.\n"
   ]
  },
  {
   "cell_type": "code",
   "execution_count": null,
   "id": "2b8665fb-e52a-4dfb-b957-583d96754fe5",
   "metadata": {},
   "outputs": [],
   "source": []
  }
 ],
 "metadata": {
  "kernelspec": {
   "display_name": "Python 3 (ipykernel)",
   "language": "python",
   "name": "python3"
  },
  "language_info": {
   "codemirror_mode": {
    "name": "ipython",
    "version": 3
   },
   "file_extension": ".py",
   "mimetype": "text/x-python",
   "name": "python",
   "nbconvert_exporter": "python",
   "pygments_lexer": "ipython3",
   "version": "3.12.11"
  }
 },
 "nbformat": 4,
 "nbformat_minor": 5
}
