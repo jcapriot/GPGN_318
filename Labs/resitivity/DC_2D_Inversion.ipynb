{
 "cells": [
  {
   "cell_type": "markdown",
   "id": "9525630e-d025-4f22-bc9d-2ba262e63e9b",
   "metadata": {},
   "source": [
    "# 2D DC Resistivity Inversion"
   ]
  },
  {
   "cell_type": "code",
   "execution_count": 1,
   "id": "d10d2b23-57da-47ca-b4cf-0441188d5a32",
   "metadata": {
    "tags": []
   },
   "outputs": [],
   "source": [
    "from dc_utils.DCResistivity import DCRInversionApp\n",
    "import pandas as pd\n",
    "import numpy as np\n",
    "from simpeg.electromagnetics.static.utils import geometric_factor\n",
    "dc_app = DCRInversionApp()"
   ]
  },
  {
   "cell_type": "markdown",
   "id": "d8a5f43d-c7b7-40fb-947e-8806e39e6374",
   "metadata": {
    "tags": []
   },
   "source": [
    "# Purpose\n",
    "\n",
    "We load observed DC data, and invert to recover a resistivity model. By altering inversion parameters and exploring correspoding inversion results, we investigate important aspects of the 2D DC resistivity inversion. \n",
    "\n",
    "## Outline\n",
    "This notebook includes four steps:\n",
    "- Step1: Load observed data\n",
    "- Step2: Plot observed data\n",
    "- Step3: Set mesh\n",
    "- Step4: Set uncertainty\n",
    "- Step5: Run inversion\n",
    "- Step6: Explore inversion results\n",
    "- Step7: Run inversion to compute DOI index\n",
    "- Step8: Plot DOI index"
   ]
  },
  {
   "cell_type": "markdown",
   "id": "c94c8b61-145a-48d7-9fc4-4e2ca12bb6e2",
   "metadata": {},
   "source": [
    "## Step 1: Load observed data\n",
    "\n",
    "- `A`: A electrode locations in a shape (*, 2) (x and z positions for each electrode)\n",
    "- `B`: B electrode locations in a shape (*, 2) (x and z positions for each electrode)\n",
    "- `M`: M electrode locations in a shape (*, 2) (x and z positions for each electrode)\n",
    "- `N`: N electrode locations in a shape (*, 2) (x and z positions for each electrode)\n",
    "- `rho_a`: The apparent resistivity in (ohm m)"
   ]
  },
  {
   "cell_type": "code",
   "execution_count": 8,
   "id": "e7d92487-0989-46b0-ad08-94003b5f17e4",
   "metadata": {
    "tags": []
   },
   "outputs": [],
   "source": [
    "data1 = pd.read_csv(\n",
    "    'data/Wenner_1-2023-03-06-104643.txt', sep='\\t',skiprows=483, nrows=991)\n",
    "\n",
    "#data1.drop(6, inplace=True)\n",
    "\n",
    "A = np.c_[data1['A(x)'],data1['A(z)']]\n",
    "B = np.c_[data1['B(x)'],data1['B(z)']]\n",
    "M = np.c_[data1['M(x)'],data1['M(z)']]\n",
    "N = np.c_[data1['N(x)'],data1['N(z)']]\n",
    "rho1 = np.asarray(data1['App.R(Ohmm)'])\n",
    "\n",
    "includes = (rho1 <= 1000)\n",
    "\n",
    "A = A[includes]\n",
    "B = B[includes]\n",
    "M = M[includes]\n",
    "N = N[includes]\n",
    "\n",
    "rho1 = rho1[includes]"
   ]
  },
  {
   "cell_type": "code",
   "execution_count": 9,
   "id": "222ebca3-4f63-4a22-9104-79f27ee9b21a",
   "metadata": {},
   "outputs": [
    {
     "data": {
      "text/html": [
       "<div>\n",
       "<style scoped>\n",
       "    .dataframe tbody tr th:only-of-type {\n",
       "        vertical-align: middle;\n",
       "    }\n",
       "\n",
       "    .dataframe tbody tr th {\n",
       "        vertical-align: top;\n",
       "    }\n",
       "\n",
       "    .dataframe thead th {\n",
       "        text-align: right;\n",
       "    }\n",
       "</style>\n",
       "<table border=\"1\" class=\"dataframe\">\n",
       "  <thead>\n",
       "    <tr style=\"text-align: right;\">\n",
       "      <th></th>\n",
       "      <th>N</th>\n",
       "      <th>Time</th>\n",
       "      <th>MeasID</th>\n",
       "      <th>Seq#</th>\n",
       "      <th>DPID</th>\n",
       "      <th>Channel</th>\n",
       "      <th>A(x)</th>\n",
       "      <th>A(y)</th>\n",
       "      <th>A(z)</th>\n",
       "      <th>B(x)</th>\n",
       "      <th>...</th>\n",
       "      <th>IP delay window(mV/V)</th>\n",
       "      <th>IP#1(mV/V)</th>\n",
       "      <th>IP#2(mV/V)</th>\n",
       "      <th>Pint(V)</th>\n",
       "      <th>Pext(V)</th>\n",
       "      <th>Temp(C)</th>\n",
       "      <th>Latitude</th>\n",
       "      <th>Longitude</th>\n",
       "      <th>Pos.Quality</th>\n",
       "      <th>Unnamed: 40</th>\n",
       "    </tr>\n",
       "  </thead>\n",
       "  <tbody>\n",
       "    <tr>\n",
       "      <th>0</th>\n",
       "      <td>1</td>\n",
       "      <td>2023-03-06 08:57:48</td>\n",
       "      <td>528</td>\n",
       "      <td>2</td>\n",
       "      <td>2143</td>\n",
       "      <td>1</td>\n",
       "      <td>0.0</td>\n",
       "      <td>0.0</td>\n",
       "      <td>0.0</td>\n",
       "      <td>15.0</td>\n",
       "      <td>...</td>\n",
       "      <td>-88.517800</td>\n",
       "      <td>28.3938</td>\n",
       "      <td>24.2530</td>\n",
       "      <td>0.0</td>\n",
       "      <td>12.2</td>\n",
       "      <td>52.3</td>\n",
       "      <td>40.489500</td>\n",
       "      <td>-106.841742</td>\n",
       "      <td>3</td>\n",
       "      <td>NaN</td>\n",
       "    </tr>\n",
       "    <tr>\n",
       "      <th>1</th>\n",
       "      <td>2</td>\n",
       "      <td>2023-03-06 08:59:57</td>\n",
       "      <td>547</td>\n",
       "      <td>2</td>\n",
       "      <td>2379</td>\n",
       "      <td>1</td>\n",
       "      <td>5.0</td>\n",
       "      <td>0.0</td>\n",
       "      <td>0.0</td>\n",
       "      <td>20.0</td>\n",
       "      <td>...</td>\n",
       "      <td>19.855400</td>\n",
       "      <td>35.0801</td>\n",
       "      <td>29.0489</td>\n",
       "      <td>0.0</td>\n",
       "      <td>12.3</td>\n",
       "      <td>52.9</td>\n",
       "      <td>40.489473</td>\n",
       "      <td>-106.841730</td>\n",
       "      <td>3</td>\n",
       "      <td>NaN</td>\n",
       "    </tr>\n",
       "    <tr>\n",
       "      <th>2</th>\n",
       "      <td>3</td>\n",
       "      <td>2023-03-06 08:51:39</td>\n",
       "      <td>474</td>\n",
       "      <td>2</td>\n",
       "      <td>2163</td>\n",
       "      <td>1</td>\n",
       "      <td>0.0</td>\n",
       "      <td>0.0</td>\n",
       "      <td>0.0</td>\n",
       "      <td>30.0</td>\n",
       "      <td>...</td>\n",
       "      <td>374.758000</td>\n",
       "      <td>49.2240</td>\n",
       "      <td>40.3393</td>\n",
       "      <td>0.0</td>\n",
       "      <td>11.1</td>\n",
       "      <td>52.5</td>\n",
       "      <td>40.489470</td>\n",
       "      <td>-106.841703</td>\n",
       "      <td>3</td>\n",
       "      <td>NaN</td>\n",
       "    </tr>\n",
       "    <tr>\n",
       "      <th>3</th>\n",
       "      <td>4</td>\n",
       "      <td>2023-03-06 09:02:06</td>\n",
       "      <td>566</td>\n",
       "      <td>2</td>\n",
       "      <td>2189</td>\n",
       "      <td>1</td>\n",
       "      <td>10.0</td>\n",
       "      <td>0.0</td>\n",
       "      <td>0.0</td>\n",
       "      <td>25.0</td>\n",
       "      <td>...</td>\n",
       "      <td>-0.936714</td>\n",
       "      <td>37.7840</td>\n",
       "      <td>31.6821</td>\n",
       "      <td>0.0</td>\n",
       "      <td>12.2</td>\n",
       "      <td>53.1</td>\n",
       "      <td>40.489497</td>\n",
       "      <td>-106.841728</td>\n",
       "      <td>3</td>\n",
       "      <td>NaN</td>\n",
       "    </tr>\n",
       "    <tr>\n",
       "      <th>4</th>\n",
       "      <td>5</td>\n",
       "      <td>2023-03-06 08:52:40</td>\n",
       "      <td>483</td>\n",
       "      <td>2</td>\n",
       "      <td>2408</td>\n",
       "      <td>1</td>\n",
       "      <td>5.0</td>\n",
       "      <td>0.0</td>\n",
       "      <td>0.0</td>\n",
       "      <td>35.0</td>\n",
       "      <td>...</td>\n",
       "      <td>234.406000</td>\n",
       "      <td>52.5949</td>\n",
       "      <td>43.1273</td>\n",
       "      <td>0.0</td>\n",
       "      <td>12.3</td>\n",
       "      <td>52.5</td>\n",
       "      <td>40.489488</td>\n",
       "      <td>-106.841730</td>\n",
       "      <td>3</td>\n",
       "      <td>NaN</td>\n",
       "    </tr>\n",
       "    <tr>\n",
       "      <th>...</th>\n",
       "      <td>...</td>\n",
       "      <td>...</td>\n",
       "      <td>...</td>\n",
       "      <td>...</td>\n",
       "      <td>...</td>\n",
       "      <td>...</td>\n",
       "      <td>...</td>\n",
       "      <td>...</td>\n",
       "      <td>...</td>\n",
       "      <td>...</td>\n",
       "      <td>...</td>\n",
       "      <td>...</td>\n",
       "      <td>...</td>\n",
       "      <td>...</td>\n",
       "      <td>...</td>\n",
       "      <td>...</td>\n",
       "      <td>...</td>\n",
       "      <td>...</td>\n",
       "      <td>...</td>\n",
       "      <td>...</td>\n",
       "      <td>...</td>\n",
       "    </tr>\n",
       "    <tr>\n",
       "      <th>986</th>\n",
       "      <td>987</td>\n",
       "      <td>2023-03-06 10:24:09</td>\n",
       "      <td>982</td>\n",
       "      <td>2</td>\n",
       "      <td>4606</td>\n",
       "      <td>1</td>\n",
       "      <td>440.0</td>\n",
       "      <td>0.0</td>\n",
       "      <td>0.0</td>\n",
       "      <td>470.0</td>\n",
       "      <td>...</td>\n",
       "      <td>164.428000</td>\n",
       "      <td>72.7698</td>\n",
       "      <td>61.5547</td>\n",
       "      <td>0.0</td>\n",
       "      <td>11.9</td>\n",
       "      <td>47.7</td>\n",
       "      <td>40.488403</td>\n",
       "      <td>-106.840567</td>\n",
       "      <td>3</td>\n",
       "      <td>NaN</td>\n",
       "    </tr>\n",
       "    <tr>\n",
       "      <th>987</th>\n",
       "      <td>988</td>\n",
       "      <td>2023-03-06 10:26:09</td>\n",
       "      <td>1000</td>\n",
       "      <td>2</td>\n",
       "      <td>5036</td>\n",
       "      <td>1</td>\n",
       "      <td>450.0</td>\n",
       "      <td>0.0</td>\n",
       "      <td>0.0</td>\n",
       "      <td>465.0</td>\n",
       "      <td>...</td>\n",
       "      <td>92.558200</td>\n",
       "      <td>35.7481</td>\n",
       "      <td>30.2351</td>\n",
       "      <td>0.0</td>\n",
       "      <td>12.0</td>\n",
       "      <td>47.8</td>\n",
       "      <td>40.488403</td>\n",
       "      <td>-106.840532</td>\n",
       "      <td>3</td>\n",
       "      <td>NaN</td>\n",
       "    </tr>\n",
       "    <tr>\n",
       "      <th>988</th>\n",
       "      <td>989</td>\n",
       "      <td>2023-03-06 10:24:29</td>\n",
       "      <td>985</td>\n",
       "      <td>2</td>\n",
       "      <td>4998</td>\n",
       "      <td>1</td>\n",
       "      <td>445.0</td>\n",
       "      <td>0.0</td>\n",
       "      <td>0.0</td>\n",
       "      <td>475.0</td>\n",
       "      <td>...</td>\n",
       "      <td>172.368000</td>\n",
       "      <td>89.1559</td>\n",
       "      <td>75.9801</td>\n",
       "      <td>0.0</td>\n",
       "      <td>12.0</td>\n",
       "      <td>47.7</td>\n",
       "      <td>40.488417</td>\n",
       "      <td>-106.840562</td>\n",
       "      <td>3</td>\n",
       "      <td>NaN</td>\n",
       "    </tr>\n",
       "    <tr>\n",
       "      <th>989</th>\n",
       "      <td>990</td>\n",
       "      <td>2023-03-06 10:26:43</td>\n",
       "      <td>1005</td>\n",
       "      <td>2</td>\n",
       "      <td>4962</td>\n",
       "      <td>1</td>\n",
       "      <td>455.0</td>\n",
       "      <td>0.0</td>\n",
       "      <td>0.0</td>\n",
       "      <td>470.0</td>\n",
       "      <td>...</td>\n",
       "      <td>92.310600</td>\n",
       "      <td>38.2361</td>\n",
       "      <td>32.9163</td>\n",
       "      <td>0.0</td>\n",
       "      <td>12.0</td>\n",
       "      <td>47.8</td>\n",
       "      <td>40.488428</td>\n",
       "      <td>-106.840563</td>\n",
       "      <td>3</td>\n",
       "      <td>NaN</td>\n",
       "    </tr>\n",
       "    <tr>\n",
       "      <th>990</th>\n",
       "      <td>991</td>\n",
       "      <td>2023-03-06 10:25:35</td>\n",
       "      <td>995</td>\n",
       "      <td>2</td>\n",
       "      <td>4707</td>\n",
       "      <td>1</td>\n",
       "      <td>460.0</td>\n",
       "      <td>0.0</td>\n",
       "      <td>0.0</td>\n",
       "      <td>475.0</td>\n",
       "      <td>...</td>\n",
       "      <td>90.710600</td>\n",
       "      <td>49.6064</td>\n",
       "      <td>43.8297</td>\n",
       "      <td>0.0</td>\n",
       "      <td>10.9</td>\n",
       "      <td>47.8</td>\n",
       "      <td>40.488418</td>\n",
       "      <td>-106.840590</td>\n",
       "      <td>3</td>\n",
       "      <td>NaN</td>\n",
       "    </tr>\n",
       "  </tbody>\n",
       "</table>\n",
       "<p>991 rows × 41 columns</p>\n",
       "</div>"
      ],
      "text/plain": [
       "       N    Time               MeasID  Seq#  DPID  Channel   A(x)  A(y)  A(z)  \\\n",
       "0      1  2023-03-06 08:57:48     528     2  2143        1    0.0   0.0   0.0   \n",
       "1      2  2023-03-06 08:59:57     547     2  2379        1    5.0   0.0   0.0   \n",
       "2      3  2023-03-06 08:51:39     474     2  2163        1    0.0   0.0   0.0   \n",
       "3      4  2023-03-06 09:02:06     566     2  2189        1   10.0   0.0   0.0   \n",
       "4      5  2023-03-06 08:52:40     483     2  2408        1    5.0   0.0   0.0   \n",
       "..   ...                  ...     ...   ...   ...      ...    ...   ...   ...   \n",
       "986  987  2023-03-06 10:24:09     982     2  4606        1  440.0   0.0   0.0   \n",
       "987  988  2023-03-06 10:26:09    1000     2  5036        1  450.0   0.0   0.0   \n",
       "988  989  2023-03-06 10:24:29     985     2  4998        1  445.0   0.0   0.0   \n",
       "989  990  2023-03-06 10:26:43    1005     2  4962        1  455.0   0.0   0.0   \n",
       "990  991  2023-03-06 10:25:35     995     2  4707        1  460.0   0.0   0.0   \n",
       "\n",
       "      B(x)  ...  IP delay window(mV/V)  IP#1(mV/V)  IP#2(mV/V)  Pint(V)  \\\n",
       "0     15.0  ...             -88.517800     28.3938     24.2530      0.0   \n",
       "1     20.0  ...              19.855400     35.0801     29.0489      0.0   \n",
       "2     30.0  ...             374.758000     49.2240     40.3393      0.0   \n",
       "3     25.0  ...              -0.936714     37.7840     31.6821      0.0   \n",
       "4     35.0  ...             234.406000     52.5949     43.1273      0.0   \n",
       "..     ...  ...                    ...         ...         ...      ...   \n",
       "986  470.0  ...             164.428000     72.7698     61.5547      0.0   \n",
       "987  465.0  ...              92.558200     35.7481     30.2351      0.0   \n",
       "988  475.0  ...             172.368000     89.1559     75.9801      0.0   \n",
       "989  470.0  ...              92.310600     38.2361     32.9163      0.0   \n",
       "990  475.0  ...              90.710600     49.6064     43.8297      0.0   \n",
       "\n",
       "     Pext(V)  Temp(C)   Latitude   Longitude  Pos.Quality  Unnamed: 40  \n",
       "0       12.2     52.3  40.489500 -106.841742            3          NaN  \n",
       "1       12.3     52.9  40.489473 -106.841730            3          NaN  \n",
       "2       11.1     52.5  40.489470 -106.841703            3          NaN  \n",
       "3       12.2     53.1  40.489497 -106.841728            3          NaN  \n",
       "4       12.3     52.5  40.489488 -106.841730            3          NaN  \n",
       "..       ...      ...        ...         ...          ...          ...  \n",
       "986     11.9     47.7  40.488403 -106.840567            3          NaN  \n",
       "987     12.0     47.8  40.488403 -106.840532            3          NaN  \n",
       "988     12.0     47.7  40.488417 -106.840562            3          NaN  \n",
       "989     12.0     47.8  40.488428 -106.840563            3          NaN  \n",
       "990     10.9     47.8  40.488418 -106.840590            3          NaN  \n",
       "\n",
       "[991 rows x 41 columns]"
      ]
     },
     "execution_count": 9,
     "metadata": {},
     "output_type": "execute_result"
    }
   ],
   "source": [
    "data1"
   ]
  },
  {
   "cell_type": "code",
   "execution_count": 10,
   "id": "1374371d-0568-4f3b-95c6-11808fa2c585",
   "metadata": {
    "tags": []
   },
   "outputs": [
    {
     "name": "stdout",
     "output_type": "stream",
     "text": [
      ">> survey type: dipole-dipole\n",
      "   # of data: 990\n",
      ">> suggested initial resistivity: 15 ohm-m\n"
     ]
    }
   ],
   "source": [
    "dc_app.load_obs(A, B, M, N, rho1)"
   ]
  },
  {
   "cell_type": "markdown",
   "id": "f59ff156-af3e-47ee-8e1b-e94bb4daed45",
   "metadata": {},
   "source": [
    "## Step 2: Plot observed data\n",
    "\n",
    "Once loaded, we examine the data. From the *pseudo-section* plot, we can determine the background resistivity of the Earth and highlight any interesting features. To view the data, we can use the following parameters:\n",
    "\n",
    "- `data type`: type of the data\n",
    "- `plot type`: type of the data plot\n",
    "- `aspect ratio`: aspect ratio for pseudo-section plot. Changes size of plot\n",
    "\n",
    "**IMPORTANT:** The data loaded into this notebook are the measured voltages. We plot the data as apparent resistivities when we want an easier first interpretation. "
   ]
  },
  {
   "cell_type": "code",
   "execution_count": 11,
   "id": "3e6e08aa-c359-40f0-bb94-c4ee99bf16f7",
   "metadata": {
    "tags": []
   },
   "outputs": [
    {
     "data": {
      "application/vnd.jupyter.widget-view+json": {
       "model_id": "438ae2a8ac4e43cd8f33582d2bd7267f",
       "version_major": 2,
       "version_minor": 0
      },
      "text/plain": [
       "interactive(children=(ToggleButtons(description='data type', options=('apparent_resistivity', 'volt'), value='…"
      ]
     },
     "metadata": {},
     "output_type": "display_data"
    }
   ],
   "source": [
    "dc_app.interact_plot_obs_data()"
   ]
  },
  {
   "cell_type": "markdown",
   "id": "025acdb1-8b2a-463d-ab86-4dfb49031f41",
   "metadata": {},
   "source": [
    "## Step 3: Set a 2D mesh \n",
    "\n",
    "Designing an mesh is very important. If we use smaller cells in our mesh, we solve the problem more accurately. However, we cannot make the cells too small because it requires too much computer memory. Parameters for designing a mesh are:\n",
    "\n",
    "- `dx`: horizontal cell size\n",
    "- `dz`: vertical cell size\n",
    "- `corezlength`: the depth that the core mesh extends\n",
    "- `xpad`: thickness of padding region in the horizontal direction\n",
    "- `zpad`: thickness of padding region in the vertical direction\n",
    "- `mesh_type`: tensor or tree mesh\n",
    "\n",
    "Some things to consider when designing a mesh:\n",
    "\n",
    "- Using a 'Tree Mesh' will **always** reduce the number of cells.\n",
    "\n",
    "\n",
    "- To choose a good *dx* value, think about the minimum electrode spacing. The value of *dx* should be 25%-40% as large as the minimum electrode spacing. So if minimum electrode spacing is 10 m, you should choose a *dx* between 2.5 m and 4 m.\n",
    "\n",
    "\n",
    "- It is common to let *dz* be the same as *dx*. Sometimes we set *dz* to be half the size of *dx*.\n",
    "\n",
    "\n",
    "- *corezlength* defines a depth limit for where you think most currents are. Below this depth, you are assuming the currents are very small. A good first guess would be to set *corezlength* to be equal to the maximum AB electrode spacing.\n",
    "\n",
    "\n",
    "- The padding (*xpad* and *zpad*) needs to be big enough so that the currents are zero on the edges of your mesh. For a Wenner-Schlumberger survey, set the padding region to be 1-2 times larger than the maximum AB spacing. For a dipole-dipole survey, set the padding region to be 2-3 times larger than the maximum AB spacing"
   ]
  },
  {
   "cell_type": "code",
   "execution_count": 12,
   "id": "21de68f8-c417-4ca0-884a-bd85339642a1",
   "metadata": {
    "tags": []
   },
   "outputs": [
    {
     "name": "stdout",
     "output_type": "stream",
     "text": [
      "dx is set to 1.25 m (samllest electrode spacing (5.0) / 4)\n",
      "dz (0.625 m) is set to dx (1.25 m) / 2\n",
      ">> suggested dx: 1.25 m\n",
      ">> suggested dz: 0.625 m\n",
      ">> suggested x padding: 2.6 m\n",
      ">> suggested z padding: 2.6 m\n",
      ">> suggested corezlength: 1.3 m\n"
     ]
    },
    {
     "data": {
      "application/vnd.jupyter.widget-view+json": {
       "model_id": "b128405a11ef48bebf66556785c760c9",
       "version_major": 2,
       "version_minor": 0
      },
      "text/plain": [
       "interactive(children=(FloatText(value=1.25, description='dx'), FloatText(value=0.625, description='dz'), Float…"
      ]
     },
     "metadata": {},
     "output_type": "display_data"
    }
   ],
   "source": [
    "dc_app.interact_set_mesh()"
   ]
  },
  {
   "cell_type": "markdown",
   "id": "af82c618-4381-49d3-842b-f782208e0c99",
   "metadata": {},
   "source": [
    "## Step 4: Set uncertainty\n",
    "\n",
    "The uncertainties are an estimate of the level of noise on your data. If your data have more noise (error bars are larger), you must assign larger uncertainties. The equation for the uncertainty you assign to each data value is:\n",
    "\n",
    "$$ \\text{uncertainty} = 0.01 \\times \\text{percentage}\\times|d^{obs}| + \\text{floor}$$\n",
    "\n",
    "- **percentage (%):** percentage uncertainty\n",
    "- **floor (V):** floor uncertainty. The raw data are volts, not apparent resistivities.\n",
    "\n",
    "**The data are measured voltages (not apparent resistivities)**. So we have to apply uncertainties on the voltage values. Here are some things to consider when choosing uncertainties:\n",
    "\n",
    "- For DC resistivity data, it is common to choose a percentage between 2%-10%. A higher percentage is chosen if your data are more noisy.\n",
    "- Measurements with large electrode spacings give you information at larger depth. But since the signal is weaker, these data are more noisy. We must apply a floor uncertainty so we do not overfit these small voltage values.\n",
    "- Higher uncertainties are usually chosen for dipole-dipole data and smaller uncertainties are chosen for Wenner-Schlumberger data. This is because dipole-dipole surveys have weaker currents."
   ]
  },
  {
   "cell_type": "code",
   "execution_count": 8,
   "id": "1ff82232-bc67-47a6-977f-9ae564c64df2",
   "metadata": {
    "tags": []
   },
   "outputs": [
    {
     "data": {
      "application/vnd.jupyter.widget-view+json": {
       "model_id": "4372eb5c40d046e19997f4a5090a4a27",
       "version_major": 2,
       "version_minor": 0
      },
      "text/plain": [
       "interactive(children=(FloatText(value=5.0, description='percentage'), FloatText(value=0.0, description='floor'…"
      ]
     },
     "metadata": {},
     "output_type": "display_data"
    }
   ],
   "source": [
    "dc_app.interact_set_uncertainty()"
   ]
  },
  {
   "cell_type": "markdown",
   "id": "f7e2f5c0-b276-4215-81a7-0ac9749821b0",
   "metadata": {},
   "source": [
    "\\begin{align}\n",
    "\\phi_D(m) = |\\frac{F(m) - d}{\\sigma}|^2\n",
    "\\end{align}"
   ]
  },
  {
   "cell_type": "markdown",
   "id": "80d9636f-bcbe-4c3d-8428-4c06df6007ea",
   "metadata": {
    "tags": []
   },
   "source": [
    "## Step 5: Run inversion\n",
    "\n",
    "Here, we define parameters necessary to complete the inversion. These parameters are:\n",
    "\n",
    "- $\\rho_0$: initial resistivity model\n",
    "- $\\rho_{ref}$: reference resistivity model\n",
    "- $\\alpha_s$: controls how much the inversion wants to recover a model similar to the reference model\n",
    "- $\\alpha_x$: controls how much the inversion wants to recover a model that is horizontally smooth\n",
    "- $\\alpha_z$: controls how much the inversion wants to recover a model that is vertically smooth\n",
    "- `maxIter`: maximum number of iteration (10-15 is ideal)\n",
    "- `chifact`: chifactor for the target misfit\n",
    "- `beta0_ratio`: ratio to set the initial beta (default value is 10)\n",
    "- `coolingFactor`: cooling factor to cool beta (default value is 2)\n",
    "- `n_iter_per_beta`: # of interation for each beta value \n",
    "- `run`: run inversion if this is checked\n",
    "\n",
    "Here are some things to consider when choosing these parameters:\n",
    "\n",
    "- If you make $\\alpha_s$ much larger than $\\alpha_x$ and $\\alpha_z$, the inversion will try very hard to give you an answer that is similar to the reference model. If you make $\\alpha_x$ and $\\alpha_z$ much larger than $\\alpha_s$, the inversion will try very hard to find a smooth model that explains the data. To start, it is good to set $\\alpha_s = 0.01$, $\\alpha_x = 1$ and $\\alpha_z = 1$.\n",
    "- If you set *coolingFactor* to a number equal or larger than 4, you should set the *n_iter_per_beta* to a value of 2. This makes sure you solve the problem accurately.\n",
    "- If the inversion only requires a few iterations, your uncertainties may be too large.\n",
    "- If your inversion does not reach *target misfit*, your uncertainties may be too small. The number of layers and their thicknessess may also be incorrect."
   ]
  },
  {
   "cell_type": "markdown",
   "id": "673cf736-eafd-4c79-9698-739802690dad",
   "metadata": {},
   "source": [
    "\\begin{align}\n",
    "\\phi(m) = \\phi_d(m) + \\beta \\phi_m(m)\\\\\n",
    "\\phi_m(m) = \\alpha_s\\int (m - m_{ref})^2 dV + \\alpha_x \\int (\\frac{\\partial m}{\\partial x})^2 dV\n",
    "\\end{align}"
   ]
  },
  {
   "cell_type": "markdown",
   "id": "32fd7507-efd1-4b6e-88a3-c542c2a7bdde",
   "metadata": {},
   "source": [
    "\\begin{align}\n",
    "\\phi_m(m) = \\alpha_s\\sum m_i^2 dV + \\alpha_x \\sum (\\frac{\\partial m}{\\partial x}_i)^2 dV\n",
    "\\end{align}"
   ]
  },
  {
   "cell_type": "code",
   "execution_count": 9,
   "id": "16c4d085-f130-4e2b-8cdc-1d87abc19bff",
   "metadata": {
    "tags": []
   },
   "outputs": [
    {
     "data": {
      "application/vnd.jupyter.widget-view+json": {
       "model_id": "0aa52e120d864f64a6bf8a82411ab070",
       "version_major": 2,
       "version_minor": 0
      },
      "text/plain": [
       "interactive(children=(FloatText(value=15.0, description='$\\\\rho_0$'), FloatText(value=15.0, description='$\\\\rh…"
      ]
     },
     "metadata": {},
     "output_type": "display_data"
    }
   ],
   "source": [
    "dc_app.interact_run_inversion()"
   ]
  },
  {
   "cell_type": "markdown",
   "id": "a2fbb812-4c2c-4d5f-a455-90575f8d4cd9",
   "metadata": {
    "tags": []
   },
   "source": [
    "## Step 6: Explore inversion results\n",
    "\n",
    "- `iteration`: inversion iteration\n",
    "- `curve type`:type of the curve (this is active when `plot type`=`misfit_curve`)\n",
    "- `scale`: linear or log scale (this is active when `plot type`=`misfit_curve`)\n",
    "- `plot type`: type of the plot\n",
    "- $\\rho_{min}$, $\\rho_{max}$: colorbar limits\n",
    "- `aspect ratio`: aspect ratio for data misfit plot\n",
    "- `show grid?`: show mesh grid when this is checked\n",
    "- `show core?`: show only core domain when this is checked. this is better to interpret results.\n",
    "- `reverse colormap?`: Reverse the colormap"
   ]
  },
  {
   "cell_type": "code",
   "execution_count": 10,
   "id": "f087eba4-03fc-4124-b090-38fda5d7521a",
   "metadata": {
    "tags": []
   },
   "outputs": [
    {
     "data": {
      "application/vnd.jupyter.widget-view+json": {
       "model_id": "608a286ef754487eb2b6576032e8891c",
       "version_major": 2,
       "version_minor": 0
      },
      "text/plain": [
       "interactive(children=(IntSlider(value=1, continuous_update=False, description='iteration', max=8, min=1), Togg…"
      ]
     },
     "metadata": {},
     "output_type": "display_data"
    }
   ],
   "source": [
    "dc_app.interact_plot_inversion_results()"
   ]
  },
  {
   "cell_type": "markdown",
   "id": "db45ed65-3028-47f0-a352-590b6021b026",
   "metadata": {
    "tags": []
   },
   "source": [
    "## Step 7: Run inversion to compute DOI index\n",
    "\n",
    "Depth of investigation (DOI) index can be computed by following equation (Oldenburg and Li, 1999):\n",
    "\n",
    "$$ \\text{doi index} = \\frac{m^1-m^2}{m_{ref}^1-m_{ref}^2}$$\n",
    "\n",
    "where \n",
    "\n",
    "- $m^1$: inversion model 1 (from Step5)\n",
    "- $m^2$: inversion model 2 (same inversion parameters with model 1 except for `m0` and `mref`\n",
    "- $m_{ref}^1$: reference model 1 (used for Step 5)\n",
    "- $m_{ref}^2$: reference model 2 (=$m_{ref}^1 \\times$ factor)\n",
    "\n",
    "Here a constant factor is multiplied to generate a new reference model. \n",
    "Below app will run inversion to obtain another inversion model ($m^2$), which will allow us to \n",
    "compute DOI index in the following app. \n",
    "\n",
    "### Parameters\n",
    "- `factor`: constant factor to compute a new reference model\n",
    "- `run`: if checked, then a new inverion will run"
   ]
  },
  {
   "cell_type": "code",
   "execution_count": 11,
   "id": "9f5fd986-5555-45f1-814b-d91a8c19acfb",
   "metadata": {
    "tags": []
   },
   "outputs": [
    {
     "data": {
      "application/vnd.jupyter.widget-view+json": {
       "model_id": "5071f953b7aa4df4810740402738f0c7",
       "version_major": 2,
       "version_minor": 0
      },
      "text/plain": [
       "interactive(children=(FloatText(value=0.1, description='factor'), IntSlider(value=5, description='doi_iter', m…"
      ]
     },
     "metadata": {},
     "output_type": "display_data"
    }
   ],
   "source": [
    "dc_app.interact_run_doi()"
   ]
  },
  {
   "cell_type": "markdown",
   "id": "1507cb7b-d826-40c5-aecd-27e917b8022d",
   "metadata": {},
   "source": [
    "##  Step 8: Plot DOI index\n",
    "\n",
    "\n",
    "- `plot type`: type of the plot\n",
    "- `scale`: linear or log scale (this is active when `plot type`=`models` or `final`)\n",
    "- $\\rho_{min}$, $\\rho_{max}$: colorbar limits\n",
    "- `doi_level`: level of the doi index\n",
    "- `aspect_ratio`: vertical to horizontal ratio\n",
    "- `show grid?`: show mesh grid when this is checked\n",
    "- `show core?`: show only core domain when this is checked\n",
    "- `reverse colormap?`: Reverse the colormap for model plots"
   ]
  },
  {
   "cell_type": "code",
   "execution_count": 12,
   "id": "9aecfc1b-f0fa-4797-9f49-9ba23baa29a1",
   "metadata": {
    "tags": []
   },
   "outputs": [
    {
     "data": {
      "application/vnd.jupyter.widget-view+json": {
       "model_id": "ac33ff31fe264edeaf6c7d2d08f51a4a",
       "version_major": 2,
       "version_minor": 0
      },
      "text/plain": [
       "interactive(children=(ToggleButtons(description='plot type', index=1, options=('models', 'doi', 'final'), valu…"
      ]
     },
     "metadata": {},
     "output_type": "display_data"
    }
   ],
   "source": [
    "dc_app.interact_plot_doi_results()"
   ]
  },
  {
   "cell_type": "code",
   "execution_count": null,
   "id": "7de6bf3a-b983-4542-bb2f-e308b5e7da64",
   "metadata": {},
   "outputs": [],
   "source": []
  }
 ],
 "metadata": {
  "kernelspec": {
   "display_name": "Python 3 (ipykernel)",
   "language": "python",
   "name": "python3"
  },
  "language_info": {
   "codemirror_mode": {
    "name": "ipython",
    "version": 3
   },
   "file_extension": ".py",
   "mimetype": "text/x-python",
   "name": "python",
   "nbconvert_exporter": "python",
   "pygments_lexer": "ipython3",
   "version": "3.12.11"
  }
 },
 "nbformat": 4,
 "nbformat_minor": 5
}
