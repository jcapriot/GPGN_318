{
 "cells": [
  {
   "cell_type": "code",
   "execution_count": 1,
   "id": "0c263f69-ee5a-4de0-b298-8f0385348dc0",
   "metadata": {},
   "outputs": [],
   "source": [
    "from mag_prism import MagneticPrismInteract\n",
    "%matplotlib widget"
   ]
  },
  {
   "cell_type": "code",
   "execution_count": 2,
   "id": "cd45c3ab-e9f6-4f01-9cdb-c13103e6d7ce",
   "metadata": {},
   "outputs": [
    {
     "data": {
      "application/vnd.jupyter.widget-view+json": {
       "model_id": "c84d259ba7b048a59c56fbaaad23dd3b",
       "version_major": 2,
       "version_minor": 0
      },
      "text/plain": [
       "HBox(children=(HBox(children=(VBox(children=(ToggleButtons(description='Hemisphere', layout=Layout(width='200p…"
      ]
     },
     "execution_count": 2,
     "metadata": {},
     "output_type": "execute_result"
    }
   ],
   "source": [
    "interact = MagneticPrismInteract()\n",
    "interact.display()"
   ]
  },
  {
   "cell_type": "code",
   "execution_count": null,
   "id": "8fb10098-4c5e-44e2-a6e6-17d6c47c532b",
   "metadata": {},
   "outputs": [],
   "source": []
  }
 ],
 "metadata": {
  "kernelspec": {
   "display_name": "Python 3 (ipykernel)",
   "language": "python",
   "name": "python3"
  },
  "language_info": {
   "codemirror_mode": {
    "name": "ipython",
    "version": 3
   },
   "file_extension": ".py",
   "mimetype": "text/x-python",
   "name": "python",
   "nbconvert_exporter": "python",
   "pygments_lexer": "ipython3",
   "version": "3.10.13"
  }
 },
 "nbformat": 4,
 "nbformat_minor": 5
}
